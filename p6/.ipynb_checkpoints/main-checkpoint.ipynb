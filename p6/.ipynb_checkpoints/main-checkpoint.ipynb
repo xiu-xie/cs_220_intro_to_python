{
 "cells": [
  {
   "cell_type": "code",
   "execution_count": 1,
   "metadata": {},
   "outputs": [],
   "source": [
    "# project: p6\n",
    "# submitter: xxie65\n",
    "# partner: none"
   ]
  },
  {
   "cell_type": "code",
   "execution_count": 2,
   "metadata": {},
   "outputs": [],
   "source": [
    "import csv\n",
    "\n",
    "# copied from https://automatetheboringstuff.com/chapter14/\n",
    "def process_csv(filename):\n",
    "    exampleFile = open(filename, encoding=\"utf-8\")\n",
    "    exampleReader = csv.reader(exampleFile)\n",
    "    exampleData = list(exampleReader)\n",
    "    exampleFile.close()\n",
    "    return exampleData\n",
    "\n",
    "# use process_csv to pull out the header and data rows\n",
    "csv_rows = process_csv(\"wine.csv\")\n",
    "csv_header = csv_rows[0]\n",
    "csv_data = csv_rows[1:]"
   ]
  },
  {
   "cell_type": "code",
   "execution_count": 3,
   "metadata": {},
   "outputs": [],
   "source": [
    "def cell(row_idx, col_name):\n",
    "    col_idx = csv_header.index(col_name)\n",
    "    val = csv_data[row_idx][col_idx]\n",
    "    if val == \"\":\n",
    "        return None\n",
    "    elif col_name == \"points\":\n",
    "        return int(val)\n",
    "    elif col_name == \"price\":\n",
    "        return float(val)\n",
    "    return val"
   ]
  },
  {
   "cell_type": "code",
   "execution_count": 4,
   "metadata": {},
   "outputs": [
    {
     "data": {
      "text/plain": [
       "['US',\n",
       " 'Spain',\n",
       " 'France',\n",
       " 'Italy',\n",
       " 'New Zealand',\n",
       " 'Bulgaria',\n",
       " 'Argentina',\n",
       " 'Australia',\n",
       " 'Portugal',\n",
       " 'Israel',\n",
       " 'South Africa',\n",
       " 'Greece',\n",
       " 'Chile',\n",
       " 'Morocco',\n",
       " 'Romania',\n",
       " 'Germany',\n",
       " 'Canada',\n",
       " 'Moldova',\n",
       " 'Hungary',\n",
       " 'Austria',\n",
       " 'Croatia',\n",
       " 'Slovenia',\n",
       " 'India']"
      ]
     },
     "execution_count": 4,
     "metadata": {},
     "output_type": "execute_result"
    }
   ],
   "source": [
    "#Q1: What countries are present in the wine dataset?\n",
    "present_countries = []\n",
    "for i in range(len(csv_data)):\n",
    "    if cell(i, \"country\") == None:\n",
    "        continue\n",
    "    if cell(i, \"country\") not in present_countries:\n",
    "        new_country = cell(i, \"country\")\n",
    "        present_countries.append(new_country)\n",
    "    \n",
    "present_countries"
   ]
  },
  {
   "cell_type": "code",
   "execution_count": 5,
   "metadata": {},
   "outputs": [
    {
     "data": {
      "text/plain": [
       "39.40787623066104"
      ]
     },
     "execution_count": 5,
     "metadata": {},
     "output_type": "execute_result"
    }
   ],
   "source": [
    "#Q2: What is the average price of wine?\n",
    "total_price = 0\n",
    "missing_rows = 0\n",
    "for i in range(len(csv_data)):\n",
    "    if cell(i, \"price\") != None:\n",
    "        total_price += cell(i, \"price\")\n",
    "    if cell(i, \"price\") == None:\n",
    "        missing_rows += 1\n",
    "total_price/(len(csv_data) - missing_rows)"
   ]
  },
  {
   "cell_type": "code",
   "execution_count": 6,
   "metadata": {},
   "outputs": [
    {
     "data": {
      "text/plain": [
       "['Spy Valley', 'Kumeu River', 'Felton Road']"
      ]
     },
     "execution_count": 6,
     "metadata": {},
     "output_type": "execute_result"
    }
   ],
   "source": [
    "#Q3: List all wineries which produce wine in New Zealand?\n",
    "nz_wineries = []\n",
    "for i in range(len(csv_data)):\n",
    "    if cell(i, \"country\") == \"New Zealand\":\n",
    "        nz_wineries += [cell(i, \"winery\")]\n",
    "list(set(nz_wineries))"
   ]
  },
  {
   "cell_type": "code",
   "execution_count": 7,
   "metadata": {},
   "outputs": [
    {
     "data": {
      "text/plain": [
       "['Pinot Noir',\n",
       " 'Cabernet Franc',\n",
       " 'Merlot',\n",
       " 'Zinfandel',\n",
       " 'Cabernet Sauvignon',\n",
       " 'Meritage',\n",
       " 'Lemberger',\n",
       " 'Bordeaux-style Red Blend',\n",
       " 'Nebbiolo',\n",
       " 'Sangiovese',\n",
       " 'Rosé',\n",
       " 'Aglianico',\n",
       " 'Blaufränkisch']"
      ]
     },
     "execution_count": 7,
     "metadata": {},
     "output_type": "execute_result"
    }
   ],
   "source": [
    "#Q4: Which wine varieties contain the phrase \"cranberry\" in the description?\n",
    "cran_wines = []\n",
    "for i in range(len(csv_data)):\n",
    "    if \"cranberry\" in cell(i, \"description\"):\n",
    "        cran_wines += [cell(i, \"variety\")]\n",
    "list(set(cran_wines))"
   ]
  },
  {
   "cell_type": "code",
   "execution_count": 8,
   "metadata": {},
   "outputs": [
    {
     "data": {
      "text/plain": [
       "['Pinot Grigio', 'Chardonnay', 'Sparkling Blend']"
      ]
     },
     "execution_count": 8,
     "metadata": {},
     "output_type": "execute_result"
    }
   ],
   "source": [
    "#Q5: Which wine varieties contain the phrase \"lemon-lime soda\" in the description?\n",
    "ll_wines = []\n",
    "for i in range(len(csv_data)):\n",
    "    if \"lemon-lime soda\" in cell(i, \"description\"):\n",
    "        ll_wines += [cell(i, \"variety\")]\n",
    "list(set(ll_wines))"
   ]
  },
  {
   "cell_type": "code",
   "execution_count": 9,
   "metadata": {},
   "outputs": [
    {
     "data": {
      "text/plain": [
       "['Castelão', 'Tinta de Toro', 'Cabernet Sauvignon', 'Tempranillo', 'Red Blend']"
      ]
     },
     "execution_count": 9,
     "metadata": {},
     "output_type": "execute_result"
    }
   ],
   "source": [
    "#Q6: Which wine varieties contain the phrase \"black-fruit\" in their description?\n",
    "bf_wines = []\n",
    "for i in range(len(csv_data)):\n",
    "    if \"black-fruit\" in cell(i, \"description\"):\n",
    "        bf_wines += [cell(i, \"variety\")]\n",
    "list(set(bf_wines))"
   ]
  },
  {
   "cell_type": "code",
   "execution_count": 10,
   "metadata": {},
   "outputs": [
    {
     "data": {
      "text/plain": [
       "['Cabernet Sauvignon']"
      ]
     },
     "execution_count": 10,
     "metadata": {},
     "output_type": "execute_result"
    }
   ],
   "source": [
    "#Q7: Which wine varieties are anagrams of the phrase \"antibus governance\"?\n",
    "anagrams = []\n",
    "for i in range(len(csv_data)):\n",
    "    if sorted((cell(i, \"variety\")).lower().replace(' ', '')) == sorted((\"antibus governance\").lower().replace(' ', '')):\n",
    "        anagrams.append(cell(i, \"variety\"))\n",
    "list(set(anagrams))"
   ]
  },
  {
   "cell_type": "code",
   "execution_count": 11,
   "metadata": {},
   "outputs": [
    {
     "data": {
      "text/plain": [
       "123"
      ]
     },
     "execution_count": 11,
     "metadata": {},
     "output_type": "execute_result"
    }
   ],
   "source": [
    "#Q8: How many unique wineries, produce the wine variety \"Pinot Noir\"?\n",
    "unique = []\n",
    "for i in range(len(csv_data)): \n",
    "    if cell(i, \"variety\").lower() == \"pinot noir\":\n",
    "        unique += [cell(i, \"winery\")]\n",
    "len(list(set(unique)))"
   ]
  },
  {
   "cell_type": "code",
   "execution_count": 12,
   "metadata": {},
   "outputs": [
    {
     "data": {
      "text/plain": [
       "['Tinta de Toro']"
      ]
     },
     "execution_count": 12,
     "metadata": {},
     "output_type": "execute_result"
    }
   ],
   "source": [
    "#Q9: What is the highest-rated wine variety made in \"Spain\"?\n",
    "highest_rate = 0\n",
    "highest_rated = []\n",
    "for i in range(len(csv_data)): \n",
    "    if cell(i, \"country\") == \"Spain\":\n",
    "        if cell(i, \"points\") >= highest_rate:\n",
    "            highest_rate = cell(i, \"points\")\n",
    "            highest_rated.append(cell(i, \"variety\"))\n",
    "list(set(highest_rated))"
   ]
  },
  {
   "cell_type": "code",
   "execution_count": 13,
   "metadata": {},
   "outputs": [
    {
     "data": {
      "text/plain": [
       "['Gaja']"
      ]
     },
     "execution_count": 13,
     "metadata": {},
     "output_type": "execute_result"
    }
   ],
   "source": [
    "#Q10: Which winery produces the highest-priced wine in \"Italy\"?\n",
    "def highesti():\n",
    "    highest_price = 0.0\n",
    "    highest_i = None\n",
    "    for i in range(len(csv_data)): \n",
    "        if cell(i, \"country\") == \"Italy\":\n",
    "            if cell(i, \"price\") == None:\n",
    "                continue\n",
    "            if cell(i, \"price\") != None: \n",
    "                if highest_i == None or cell(i, \"price\") >= cell(highest_i, \"price\"):\n",
    "                    highest_i = i\n",
    "    return highest_i\n",
    "list(cell(highesti(), \"winery\").split(\"None\"))"
   ]
  },
  {
   "cell_type": "code",
   "execution_count": 14,
   "metadata": {},
   "outputs": [
    {
     "data": {
      "text/plain": [
       "1.98628003003003"
      ]
     },
     "execution_count": 14,
     "metadata": {},
     "output_type": "execute_result"
    }
   ],
   "source": [
    "#Q11: What is the average points-per-dollar (PPD) ratio of the \"Patricia Green Cellars\" winery?\n",
    "def ppd(winery):\n",
    "    total_ratios = []\n",
    "    for i in range(len(csv_data)): \n",
    "        if cell(i, \"price\") == None:\n",
    "            continue\n",
    "        if cell(i, \"winery\") == winery:\n",
    "            ratio = cell(i, \"points\") / cell(i, \"price\")\n",
    "            total_ratios.append(ratio)\n",
    "    return sum(total_ratios)/len(total_ratios)\n",
    "ppd(\"Patricia Green Cellars\")"
   ]
  },
  {
   "cell_type": "code",
   "execution_count": 15,
   "metadata": {},
   "outputs": [
    {
     "data": {
      "text/plain": [
       "0.2923076923076923"
      ]
     },
     "execution_count": 15,
     "metadata": {},
     "output_type": "execute_result"
    }
   ],
   "source": [
    "#Q12: What is the average PPD of the \"Hall\" winery?\n",
    "ppd(\"Hall\")"
   ]
  },
  {
   "cell_type": "code",
   "execution_count": 16,
   "metadata": {},
   "outputs": [
    {
     "data": {
      "text/plain": [
       "8.7"
      ]
     },
     "execution_count": 16,
     "metadata": {},
     "output_type": "execute_result"
    }
   ],
   "source": [
    "def highest_ppd(country):\n",
    "    highest_avg = 0\n",
    "    for i in range(len(csv_data)): \n",
    "        if cell(i, \"country\") == country:\n",
    "            if cell(i, \"price\") != None:\n",
    "                if ppd(cell(i, \"winery\")) >= highest_avg:\n",
    "                    highest_avg = ppd(cell(i, \"winery\"))\n",
    "    return highest_avg\n",
    "highest_ppd(\"US\")"
   ]
  },
  {
   "cell_type": "code",
   "execution_count": 17,
   "metadata": {},
   "outputs": [
    {
     "data": {
      "text/plain": [
       "['Grand Pacific']"
      ]
     },
     "execution_count": 17,
     "metadata": {},
     "output_type": "execute_result"
    }
   ],
   "source": [
    "#Q13: Which wineries in US have the highest average PPD?\n",
    "highest_usa = highest_ppd(\"US\")\n",
    "def highest_ppd_wineries_usa(cntry):\n",
    "    wineries = []\n",
    "    for i in range(len(csv_data)): \n",
    "        if cell(i, \"price\") == 0 or cell(i, \"price\") == None:\n",
    "            continue\n",
    "        if cell(i, \"country\") == cntry:\n",
    "            if ppd(cell(i, \"winery\")) == highest_usa:\n",
    "                   wineries.append(cell(i, \"winery\"))\n",
    "    return wineries\n",
    "highest_ppd_wineries_usa(\"US\")"
   ]
  },
  {
   "cell_type": "code",
   "execution_count": 18,
   "metadata": {},
   "outputs": [
    {
     "data": {
      "text/plain": [
       "['Long Neck', 'Essay', 'Robertson Winery', 'KWV']"
      ]
     },
     "execution_count": 18,
     "metadata": {},
     "output_type": "execute_result"
    }
   ],
   "source": [
    "#Q14: Which wineries in South Africa have the highest average PPD?\n",
    "highest_sa = highest_ppd(\"South Africa\")\n",
    "def highest_ppd_wineries_sa(cntry):\n",
    "    wineries = []\n",
    "    for i in range(len(csv_data)): \n",
    "        if cell(i, \"price\") == 0 or cell(i, \"price\") == None:\n",
    "            continue\n",
    "        if cell(i, \"country\") == cntry:\n",
    "            if ppd(cell(i, \"winery\")) == highest_sa:\n",
    "                   wineries.append(cell(i, \"winery\"))\n",
    "    return wineries\n",
    "highest_ppd_wineries_sa(\"South Africa\")"
   ]
  },
  {
   "cell_type": "code",
   "execution_count": 19,
   "metadata": {},
   "outputs": [
    {
     "data": {
      "text/plain": [
       "2.2051282051282053"
      ]
     },
     "execution_count": 19,
     "metadata": {},
     "output_type": "execute_result"
    }
   ],
   "source": [
    "def lowest_ppd(country):\n",
    "    lowest_avg = highest_ppd(\"Argentina\")\n",
    "    for i in range(len(csv_data)): \n",
    "        if cell(i, \"country\") == country:\n",
    "            if cell(i, \"price\") != None:\n",
    "                if ppd(cell(i, \"winery\")) <= lowest_avg:\n",
    "                    lowest_avg = ppd(cell(i, \"winery\"))\n",
    "    return lowest_avg\n",
    "lowest_ppd(\"Argentina\")"
   ]
  },
  {
   "cell_type": "code",
   "execution_count": 20,
   "metadata": {},
   "outputs": [
    {
     "data": {
      "text/plain": [
       "['Bodega Las Cañitas']"
      ]
     },
     "execution_count": 20,
     "metadata": {},
     "output_type": "execute_result"
    }
   ],
   "source": [
    "#Q15: which wineies in Argentina have the lowest average PPD?\n",
    "lowest_agtn = lowest_ppd(\"Argentina\")\n",
    "def lowest_ppd_wineries_agtn(cntry):\n",
    "    wineries = []\n",
    "    for i in range(len(csv_data)): \n",
    "        if cell(i, \"price\") == 0 or cell(i, \"price\") == None:\n",
    "            continue\n",
    "        if cell(i, \"country\") == cntry:\n",
    "            if ppd(cell(i, \"winery\")) == lowest_agtn:\n",
    "                   wineries.append(cell(i, \"winery\"))\n",
    "    return wineries\n",
    "lowest_ppd_wineries_agtn(\"Argentina\")"
   ]
  },
  {
   "cell_type": "code",
   "execution_count": 21,
   "metadata": {},
   "outputs": [
    {
     "data": {
      "text/plain": [
       "['Cabernet Franc']"
      ]
     },
     "execution_count": 21,
     "metadata": {},
     "output_type": "execute_result"
    }
   ],
   "source": [
    "#Q16: Which wine varieties are produced by the \"Ironstone\" winery?\n",
    "ironstone_varieties = []\n",
    "for i in range(len(csv_data)): \n",
    "    if cell(i, \"winery\").lower() == \"ironstone\":\n",
    "        ironstone_varieties.append(cell(i, \"variety\"))\n",
    "list(set(ironstone_varieties))"
   ]
  },
  {
   "cell_type": "code",
   "execution_count": 22,
   "metadata": {},
   "outputs": [
    {
     "data": {
      "text/plain": [
       "['Portuguese Red', 'Portuguese Rosé', 'Portuguese White']"
      ]
     },
     "execution_count": 22,
     "metadata": {},
     "output_type": "execute_result"
    }
   ],
   "source": [
    "#Q17: Which wine varieties are produced by the \"Quinta Nova de Nossa Senhora do Carmo\" winery?\n",
    "qnnsc_varieties = []\n",
    "for i in range(len(csv_data)): \n",
    "    if cell(i, \"winery\").lower() == \"quinta nova de nossa senhora do carmo\":\n",
    "        qnnsc_varieties.append(cell(i, \"variety\"))\n",
    "list(set(qnnsc_varieties))"
   ]
  },
  {
   "cell_type": "code",
   "execution_count": 23,
   "metadata": {},
   "outputs": [
    {
     "data": {
      "text/plain": [
       "7.6923076923076925"
      ]
     },
     "execution_count": 23,
     "metadata": {},
     "output_type": "execute_result"
    }
   ],
   "source": [
    "#Q18: What percentage of wine varieties that contain the word \"cranberry\" in its description also contain the phrase \"black-fruit\" in its description? See Q4 and Q6.\n",
    "both = []\n",
    "for i in range(len(csv_data)): \n",
    "    if cell(i, \"variety\") in cran_wines and cell(i, \"variety\") in bf_wines:\n",
    "        both.append(cell(i, \"variety\"))\n",
    "len(list(set(both)))/len(list(set(cran_wines)))*100"
   ]
  },
  {
   "cell_type": "code",
   "execution_count": 24,
   "metadata": {},
   "outputs": [
    {
     "data": {
      "text/plain": [
       "130.0"
      ]
     },
     "execution_count": 24,
     "metadata": {},
     "output_type": "execute_result"
    }
   ],
   "source": [
    "#Q19: What is the price of the most expensive wine that you could find in Portugal?\n",
    "highest_price = 0\n",
    "for i in range(len(csv_data)): \n",
    "    if cell(i, \"country\") == \"Portugal\":\n",
    "        if cell(i, \"price\") != None:\n",
    "            if cell(i, \"price\") >= highest_price:\n",
    "                highest_price = cell(i, \"price\")\n",
    "highest_price"
   ]
  },
  {
   "cell_type": "code",
   "execution_count": 25,
   "metadata": {},
   "outputs": [
    {
     "data": {
      "text/plain": [
       "281.0"
      ]
     },
     "execution_count": 25,
     "metadata": {},
     "output_type": "execute_result"
    }
   ],
   "source": [
    "#Q20: What is the total cost of buying two bottles of the most expensive wine and three bottles of the cheapest wine in Portugal?\n",
    "lowest_price = highest_price\n",
    "for i in range(len(csv_data)): \n",
    "    if cell(i, \"country\") == \"Portugal\":\n",
    "        if cell(i, \"price\") != None:\n",
    "            if cell(i, \"price\") <= lowest_price:\n",
    "                lowest_price = cell(i, \"price\")\n",
    "lowest_price*3 + highest_price*2"
   ]
  },
  {
   "cell_type": "code",
   "execution_count": null,
   "metadata": {},
   "outputs": [],
   "source": []
  },
  {
   "cell_type": "code",
   "execution_count": null,
   "metadata": {},
   "outputs": [],
   "source": []
  }
 ],
 "metadata": {
  "kernelspec": {
   "display_name": "Python 3",
   "language": "python",
   "name": "python3"
  },
  "language_info": {
   "codemirror_mode": {
    "name": "ipython",
    "version": 3
   },
   "file_extension": ".py",
   "mimetype": "text/x-python",
   "name": "python",
   "nbconvert_exporter": "python",
   "pygments_lexer": "ipython3",
   "version": "3.8.1"
  }
 },
 "nbformat": 4,
 "nbformat_minor": 4
}
