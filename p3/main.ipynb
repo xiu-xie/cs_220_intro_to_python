{
 "cells": [
  {
   "cell_type": "code",
   "execution_count": 1,
   "metadata": {},
   "outputs": [],
   "source": [
    "# project: p3\n",
    "# submitter: xxie65\n",
    "# partner: none"
   ]
  },
  {
   "cell_type": "code",
   "execution_count": 2,
   "metadata": {},
   "outputs": [],
   "source": [
    "import project\n",
    "project.init(\"madison.csv\")"
   ]
  },
  {
   "cell_type": "code",
   "execution_count": 3,
   "metadata": {},
   "outputs": [
    {
     "data": {
      "text/plain": [
       "9"
      ]
     },
     "execution_count": 3,
     "metadata": {},
     "output_type": "execute_result"
    }
   ],
   "source": [
    "#q1\n",
    "project.get_id(\"library\")"
   ]
  },
  {
   "cell_type": "code",
   "execution_count": 4,
   "metadata": {},
   "outputs": [
    {
     "data": {
      "text/plain": [
       "77.87553504"
      ]
     },
     "execution_count": 4,
     "metadata": {},
     "output_type": "execute_result"
    }
   ],
   "source": [
    "#q2\n",
    "project.get_spending(5, 2018)"
   ]
  },
  {
   "cell_type": "code",
   "execution_count": 5,
   "metadata": {},
   "outputs": [],
   "source": [
    "streets_id = project.get_id(\"streets\")\n",
    "police_id = project.get_id(\"police\")\n",
    "fire_id = project.get_id(\"fire\")\n",
    "library_id = project.get_id(\"library\")\n",
    "parks_id = project.get_id(\"parks\")"
   ]
  },
  {
   "cell_type": "code",
   "execution_count": 6,
   "metadata": {},
   "outputs": [],
   "source": [
    "def year_max(year):\n",
    "    # grab the spending by each agency in the given year\n",
    "    police_spending = project.get_spending(project.get_id(\"police\"), year)\n",
    "    fire_spending = project.get_spending(project.get_id(\"fire\"), year)\n",
    "    library_spending = project.get_spending(project.get_id(\"library\"), year)\n",
    "    parks_spending = project.get_spending(project.get_id(\"parks\"), year)\n",
    "    streets_spending = project.get_spending(project.get_id(\"streets\"), year)\n",
    "\n",
    "    # use builtin max function to get the largest of the five values\n",
    "    return max(police_spending, fire_spending, library_spending, parks_spending, streets_spending)"
   ]
  },
  {
   "cell_type": "code",
   "execution_count": 7,
   "metadata": {},
   "outputs": [
    {
     "data": {
      "text/plain": [
       "28.2286218"
      ]
     },
     "execution_count": 7,
     "metadata": {},
     "output_type": "execute_result"
    }
   ],
   "source": [
    "#q3\n",
    "project.get_spending(streets_id, 2016)"
   ]
  },
  {
   "cell_type": "markdown",
   "metadata": {},
   "source": []
  },
  {
   "cell_type": "code",
   "execution_count": 8,
   "metadata": {},
   "outputs": [
    {
     "data": {
      "text/plain": [
       "73.24794765999998"
      ]
     },
     "execution_count": 8,
     "metadata": {},
     "output_type": "execute_result"
    }
   ],
   "source": [
    "#q4\n",
    "year_max(2017)"
   ]
  },
  {
   "cell_type": "code",
   "execution_count": 9,
   "metadata": {},
   "outputs": [
    {
     "data": {
      "text/plain": [
       "77.87553504"
      ]
     },
     "execution_count": 9,
     "metadata": {},
     "output_type": "execute_result"
    }
   ],
   "source": [
    "#q5\n",
    "year_max(2018)"
   ]
  },
  {
   "cell_type": "code",
   "execution_count": 10,
   "metadata": {},
   "outputs": [],
   "source": [
    "def agency_min(agency):\n",
    "    agency_id = project.get_id(agency)\n",
    "    y15 = project.get_spending(agency_id, 2015)\n",
    "    y16 = project.get_spending(agency_id, 2016)\n",
    "    y17 = project.get_spending(agency_id, 2017)\n",
    "    y18 = project.get_spending(agency_id, 2018)\n",
    "\n",
    "    # use the min function (similar to the max function)\n",
    "    # to get the minimum across the four years, and return\n",
    "    # that value\n",
    "    return min(y15, y16, y17, y18)"
   ]
  },
  {
   "cell_type": "code",
   "execution_count": 11,
   "metadata": {},
   "outputs": [
    {
     "data": {
      "text/plain": [
       "49.73757877"
      ]
     },
     "execution_count": 11,
     "metadata": {},
     "output_type": "execute_result"
    }
   ],
   "source": [
    "#q6\n",
    "agency_min(\"fire\")"
   ]
  },
  {
   "cell_type": "code",
   "execution_count": 12,
   "metadata": {},
   "outputs": [
    {
     "data": {
      "text/plain": [
       "16.96543425"
      ]
     },
     "execution_count": 12,
     "metadata": {},
     "output_type": "execute_result"
    }
   ],
   "source": [
    "#q7\n",
    "agency_min(\"library\")"
   ]
  },
  {
   "cell_type": "code",
   "execution_count": 13,
   "metadata": {},
   "outputs": [
    {
     "data": {
      "text/plain": [
       "18.371421039999998"
      ]
     },
     "execution_count": 13,
     "metadata": {},
     "output_type": "execute_result"
    }
   ],
   "source": [
    "#q8\n",
    "agency_min(\"parks\")"
   ]
  },
  {
   "cell_type": "code",
   "execution_count": 14,
   "metadata": {},
   "outputs": [],
   "source": [
    "def agency_avg(agency):\n",
    "    agency_id = project.get_id(agency)\n",
    "    y15 = project.get_spending(agency_id, 2015)\n",
    "    y16 = project.get_spending(agency_id, 2016)\n",
    "    y17 = project.get_spending(agency_id, 2017)\n",
    "    y18 = project.get_spending(agency_id, 2018)\n",
    "\n",
    "    # use the avg function (similar to the max function)\n",
    "    # to get the average across the four years, and return\n",
    "    # that value\n",
    "    return (y15+y16+y17+y18)/4"
   ]
  },
  {
   "cell_type": "code",
   "execution_count": 15,
   "metadata": {},
   "outputs": [
    {
     "data": {
      "text/plain": [
       "27.013047475"
      ]
     },
     "execution_count": 15,
     "metadata": {},
     "output_type": "execute_result"
    }
   ],
   "source": [
    "#q9\n",
    "agency_avg(\"streets\")"
   ]
  },
  {
   "cell_type": "code",
   "execution_count": 16,
   "metadata": {},
   "outputs": [
    {
     "data": {
      "text/plain": [
       "19.152052834999996"
      ]
     },
     "execution_count": 16,
     "metadata": {},
     "output_type": "execute_result"
    }
   ],
   "source": [
    "#q10\n",
    "agency_avg(\"parks\")"
   ]
  },
  {
   "cell_type": "code",
   "execution_count": 17,
   "metadata": {},
   "outputs": [
    {
     "data": {
      "text/plain": [
       "7.2249619343519145"
      ]
     },
     "execution_count": 17,
     "metadata": {},
     "output_type": "execute_result"
    }
   ],
   "source": [
    "#q11 \n",
    "(project.get_spending(police_id, 2018) / agency_avg(\"police\") - 1)*100"
   ]
  },
  {
   "cell_type": "code",
   "execution_count": 18,
   "metadata": {},
   "outputs": [],
   "source": [
    "def change_per_year(agency, start_year=2015, end_year=2018):\n",
    "    agency_id = project.get_id(agency)\n",
    "    y_start = project.get_spending(agency_id, start_year)\n",
    "    y_end = project.get_spending(agency_id, end_year)\n",
    "    \n",
    "    return (y_end - y_start)/(end_year - start_year)"
   ]
  },
  {
   "cell_type": "code",
   "execution_count": 19,
   "metadata": {},
   "outputs": [
    {
     "data": {
      "text/plain": [
       "0.4630963200000006"
      ]
     },
     "execution_count": 19,
     "metadata": {},
     "output_type": "execute_result"
    }
   ],
   "source": [
    "#q12\n",
    "change_per_year(\"parks\", start_year=2015, end_year=2018)"
   ]
  },
  {
   "cell_type": "code",
   "execution_count": 20,
   "metadata": {},
   "outputs": [
    {
     "data": {
      "text/plain": [
       "1.1431793200000087"
      ]
     },
     "execution_count": 20,
     "metadata": {},
     "output_type": "execute_result"
    }
   ],
   "source": [
    "#q13\n",
    "change_per_year(\"streets\", start_year=2017, end_year=2018)"
   ]
  },
  {
   "cell_type": "code",
   "execution_count": 21,
   "metadata": {},
   "outputs": [
    {
     "data": {
      "text/plain": [
       "-0.2148440299999983"
      ]
     },
     "execution_count": 21,
     "metadata": {},
     "output_type": "execute_result"
    }
   ],
   "source": [
    "#q14\n",
    "change_per_year(\"streets\", start_year=2016, end_year=2018)"
   ]
  },
  {
   "cell_type": "code",
   "execution_count": 22,
   "metadata": {},
   "outputs": [],
   "source": [
    "def predict(agency, year1, year2, year3):\n",
    "    agency_id = project.get_id(agency)\n",
    "    y1 = project.get_spending(agency_id, year1)\n",
    "    y2 = project.get_spending(agency_id, year2)\n",
    "    avg_increase = (y2 - y1)/(year2 - year1)\n",
    "    y3 = y2 + avg_increase*(year3 - year2)\n",
    "    \n",
    "    return y3"
   ]
  },
  {
   "cell_type": "code",
   "execution_count": 23,
   "metadata": {},
   "outputs": [
    {
     "data": {
      "text/plain": [
       "20.80494298333333"
      ]
     },
     "execution_count": 23,
     "metadata": {},
     "output_type": "execute_result"
    }
   ],
   "source": [
    "#q15\n",
    "predict(\"library\", 2015, 2018, 2019)"
   ]
  },
  {
   "cell_type": "code",
   "execution_count": 24,
   "metadata": {},
   "outputs": [
    {
     "data": {
      "text/plain": [
       "98.55499483333321"
      ]
     },
     "execution_count": 24,
     "metadata": {},
     "output_type": "execute_result"
    }
   ],
   "source": [
    "#q16\n",
    "predict(\"library\", 2015, 2018, 2100)"
   ]
  },
  {
   "cell_type": "code",
   "execution_count": 25,
   "metadata": {},
   "outputs": [
    {
     "data": {
      "text/plain": [
       "90.3463866099999"
      ]
     },
     "execution_count": 25,
     "metadata": {},
     "output_type": "execute_result"
    }
   ],
   "source": [
    "#q17\n",
    "predict(\"library\", 2016, 2018, 2100)"
   ]
  },
  {
   "cell_type": "code",
   "execution_count": 26,
   "metadata": {},
   "outputs": [],
   "source": [
    "def extrapolate_error(agency, year1, year2, year3):\n",
    "    agency_id = project.get_id(agency)\n",
    "    y1 = project.get_spending(agency_id, year1)\n",
    "    y2 = project.get_spending(agency_id, year2)\n",
    "    avg_increase = (y2 - y1)/(year2 - year1)\n",
    "    y3 = y2 + avg_increase*(year3 - year2)\n",
    "    Y3 = project.get_spending(agency_id, year3)\n",
    "    \n",
    "    return y3 - Y3"
   ]
  },
  {
   "cell_type": "code",
   "execution_count": 27,
   "metadata": {},
   "outputs": [
    {
     "data": {
      "text/plain": [
       "-2.0353479350000327"
      ]
     },
     "execution_count": 27,
     "metadata": {},
     "output_type": "execute_result"
    }
   ],
   "source": [
    "#q18\n",
    "extrapolate_error(\"police\", 2015, 2017, 2018)"
   ]
  },
  {
   "cell_type": "code",
   "execution_count": 28,
   "metadata": {},
   "outputs": [
    {
     "data": {
      "text/plain": [
       "22.12017136165159"
      ]
     },
     "execution_count": 28,
     "metadata": {},
     "output_type": "execute_result"
    }
   ],
   "source": [
    "#q19\n",
    "extrapolate_error(\"streets\", 2015, 2016, 2018)*100/project.get_spending(streets_id, 2018)"
   ]
  },
  {
   "cell_type": "code",
   "execution_count": 29,
   "metadata": {},
   "outputs": [],
   "source": [
    "from math import sqrt\n",
    "def sd(agency):\n",
    "    agency_id = project.get_id(agency)\n",
    "    y1 = project.get_spending(agency_id, 2015)\n",
    "    y2 = project.get_spending(agency_id, 2016)\n",
    "    y3 = project.get_spending(agency_id, 2017)\n",
    "    y4 = project.get_spending(agency_id, 2018)\n",
    "    mean = (y1+y2+y3+y4)/4\n",
    "    \n",
    "    return sqrt(((y1-mean)**2 + (y2-mean)**2 + (y3-mean)**2 + (y4-mean)**2)/4)"
   ]
  },
  {
   "cell_type": "code",
   "execution_count": 30,
   "metadata": {},
   "outputs": [
    {
     "data": {
      "text/plain": [
       "1.0848913984858986"
      ]
     },
     "execution_count": 30,
     "metadata": {},
     "output_type": "execute_result"
    }
   ],
   "source": [
    "#q20\n",
    "sd(\"library\")"
   ]
  },
  {
   "cell_type": "code",
   "execution_count": null,
   "metadata": {},
   "outputs": [],
   "source": []
  }
 ],
 "metadata": {
  "kernelspec": {
   "display_name": "Python 3",
   "language": "python",
   "name": "python3"
  },
  "language_info": {
   "codemirror_mode": {
    "name": "ipython",
    "version": 3
   },
   "file_extension": ".py",
   "mimetype": "text/x-python",
   "name": "python",
   "nbconvert_exporter": "python",
   "pygments_lexer": "ipython3",
   "version": "3.8.1"
  }
 },
 "nbformat": 4,
 "nbformat_minor": 4
}
