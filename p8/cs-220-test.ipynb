{
 "cells": [
  {
   "cell_type": "code",
   "execution_count": 1,
   "metadata": {},
   "outputs": [],
   "source": [
    "# project: p8\n",
    "# submitter: xxie65\n",
    "# partner: none"
   ]
  },
  {
   "cell_type": "code",
   "execution_count": 2,
   "metadata": {},
   "outputs": [],
   "source": [
    "import csv\n",
    "\n",
    "def process_csv(filename):\n",
    "    exampleFile = open(filename, encoding=\"utf-8\")\n",
    "    exampleReader = csv.reader(exampleFile)\n",
    "    exampleData = list(exampleReader)\n",
    "    exampleFile.close()\n",
    "    return exampleData"
   ]
  },
  {
   "cell_type": "code",
   "execution_count": 3,
   "metadata": {},
   "outputs": [],
   "source": [
    "mapping_data = process_csv(\"small_mapping.csv\")"
   ]
  },
  {
   "cell_type": "code",
   "execution_count": 4,
   "metadata": {},
   "outputs": [],
   "source": [
    "def get_mapping(path):\n",
    "    data = process_csv(path)\n",
    "    mapping = {}\n",
    "    for i in range(len(data)):\n",
    "        ID = data[i][0]\n",
    "        if not ID in mapping:\n",
    "            mapping[ID] = []\n",
    "        mapping[ID] = str(data[i][1])\n",
    "    return mapping"
   ]
  },
  {
   "cell_type": "code",
   "execution_count": 5,
   "metadata": {},
   "outputs": [
    {
     "data": {
      "text/plain": [
       "{'nm0000131': 'John Cusack',\n",
       " 'nm0000154': 'Mel Gibson',\n",
       " 'nm0000163': 'Dustin Hoffman',\n",
       " 'nm0000418': 'Danny Glover',\n",
       " 'nm0000432': 'Gene Hackman',\n",
       " 'nm0000997': 'Gary Busey',\n",
       " 'nm0001149': 'Richard Donner',\n",
       " 'nm0001219': 'Gary Fleder',\n",
       " 'nm0752751': 'Mitchell Ryan',\n",
       " 'tt0313542': 'Runaway Jury',\n",
       " 'tt0093409': 'Lethal Weapon'}"
      ]
     },
     "execution_count": 5,
     "metadata": {},
     "output_type": "execute_result"
    }
   ],
   "source": [
    "#Q1: What is returned by your get_mapping(\"small_mapping.csv\") function?\n",
    "small_mapping = get_mapping(\"small_mapping.csv\")\n",
    "small_mapping"
   ]
  },
  {
   "cell_type": "code",
   "execution_count": 6,
   "metadata": {},
   "outputs": [
    {
     "data": {
      "text/plain": [
       "'Gary Fleder'"
      ]
     },
     "execution_count": 6,
     "metadata": {},
     "output_type": "execute_result"
    }
   ],
   "source": [
    "#Q2: What is the value associated with the key \"nm0001219\"?\n",
    "small_mapping[\"nm0001219\"]"
   ]
  },
  {
   "cell_type": "code",
   "execution_count": 7,
   "metadata": {},
   "outputs": [
    {
     "data": {
      "text/plain": [
       "['John Cusack',\n",
       " 'Mel Gibson',\n",
       " 'Dustin Hoffman',\n",
       " 'Danny Glover',\n",
       " 'Gene Hackman',\n",
       " 'Gary Busey',\n",
       " 'Richard Donner',\n",
       " 'Gary Fleder',\n",
       " 'Mitchell Ryan']"
      ]
     },
     "execution_count": 7,
     "metadata": {},
     "output_type": "execute_result"
    }
   ],
   "source": [
    "#Q3: What are the values in the mapping associated with keys beginning with \"nm\"?\n",
    "nm_keys = []\n",
    "nm_values = []\n",
    "for i in range(len(mapping_data)):\n",
    "    keys = mapping_data[i][0]\n",
    "    if keys.startswith(\"nm\"):\n",
    "        nm_keys.append(keys)\n",
    "        nm_values.append(mapping_data[i][1])\n",
    "nm_values"
   ]
  },
  {
   "cell_type": "code",
   "execution_count": 8,
   "metadata": {},
   "outputs": [
    {
     "data": {
      "text/plain": [
       "['nm0000154', 'nm0000418']"
      ]
     },
     "execution_count": 8,
     "metadata": {},
     "output_type": "execute_result"
    }
   ],
   "source": [
    "#Q4: Which keys in the mapping map to people with a last name which starts with \"G\"?\n",
    "g_keys = []\n",
    "for i in range(len(mapping_data)):\n",
    "    lastname = mapping_data[i][1].split()[1]\n",
    "    if lastname.startswith(\"G\"):\n",
    "        g_keys.append(mapping_data[i][0])\n",
    "g_keys"
   ]
  },
  {
   "cell_type": "code",
   "execution_count": 9,
   "metadata": {},
   "outputs": [],
   "source": [
    "def get_raw_movies(path):\n",
    "    movies = process_csv(path)\n",
    "    header = movies[0]\n",
    "    movies_data = movies[1:]\n",
    "    list_of_movies = []\n",
    "    for i in range(len(movies_data)):\n",
    "        movies_dict = {}\n",
    "        for k in range(len(header)):\n",
    "            if header[k] == \"directors\" or header[k] == \"actors\" or header[k] == \"genres\":\n",
    "                movies_data[i][k] = list(movies_data[i][k].split(\",\"))\n",
    "            elif header[k] == \"year\":\n",
    "                movies_data[i][k] = int(movies_data[i][k])\n",
    "            elif header[k] == \"rating\":\n",
    "                movies_data[i][k] = float(movies_data[i][k])\n",
    "        for j in range(len(header)):\n",
    "            if not header[j] in movies_dict:\n",
    "                movies_dict[header[j]] = []\n",
    "            movies_dict[header[j]] = movies_data[i][j]\n",
    "        list_of_movies.append(movies_dict)\n",
    "    return list_of_movies"
   ]
  },
  {
   "cell_type": "code",
   "execution_count": 10,
   "metadata": {},
   "outputs": [
    {
     "data": {
      "text/plain": [
       "[{'title': 'tt0313542',\n",
       "  'year': 2003,\n",
       "  'rating': 7.1,\n",
       "  'directors': ['nm0001219'],\n",
       "  'actors': ['nm0000131', 'nm0000432', 'nm0000163'],\n",
       "  'genres': ['Crime', 'Drama', 'Thriller']},\n",
       " {'title': 'tt0093409',\n",
       "  'year': 1987,\n",
       "  'rating': 7.6,\n",
       "  'directors': ['nm0001149'],\n",
       "  'actors': ['nm0000154', 'nm0000418', 'nm0000997', 'nm0752751'],\n",
       "  'genres': ['Action', 'Crime', 'Thriller']}]"
      ]
     },
     "execution_count": 10,
     "metadata": {},
     "output_type": "execute_result"
    }
   ],
   "source": [
    "#Q5: What does get_raw_movies(\"small_movies.csv\") return?\n",
    "small_movies = get_raw_movies(\"small_movies.csv\")\n",
    "small_movies"
   ]
  },
  {
   "cell_type": "code",
   "execution_count": 11,
   "metadata": {},
   "outputs": [
    {
     "data": {
      "text/plain": [
       "4"
      ]
     },
     "execution_count": 11,
     "metadata": {},
     "output_type": "execute_result"
    }
   ],
   "source": [
    "#Q6: How many actors did the movie at index 1 have?\n",
    "len(small_movies[1][\"actors\"])"
   ]
  },
  {
   "cell_type": "code",
   "execution_count": 12,
   "metadata": {},
   "outputs": [
    {
     "data": {
      "text/plain": [
       "'nm0000131'"
      ]
     },
     "execution_count": 12,
     "metadata": {},
     "output_type": "execute_result"
    }
   ],
   "source": [
    "#Q7: What is the ID of the first actor listed for the move at index 0?\n",
    "small_movies[0][\"actors\"][0]"
   ]
  },
  {
   "cell_type": "code",
   "execution_count": 13,
   "metadata": {},
   "outputs": [],
   "source": [
    "def get_movies(movies_path, mapping_path):\n",
    "    movies = get_raw_movies(movies_path)\n",
    "    mapping = get_mapping(mapping_path)\n",
    "    for i in range(len(movies)):\n",
    "        title = movies[i][\"title\"]\n",
    "        directors = movies[i][\"directors\"]\n",
    "        actors = movies[i][\"actors\"]\n",
    "        movies[i][\"title\"] = mapping[title]\n",
    "        for j in range(len(movies[i][\"directors\"])):\n",
    "            directors = movies[i][\"directors\"][j]\n",
    "            movies[i][\"directors\"][j] = mapping[directors]\n",
    "        for k in range(len(movies[i][\"actors\"])):\n",
    "            actors = movies[i][\"actors\"][k]\n",
    "            movies[i][\"actors\"][k] = mapping[actors]\n",
    "    return movies"
   ]
  },
  {
   "cell_type": "code",
   "execution_count": 14,
   "metadata": {},
   "outputs": [
    {
     "data": {
      "text/plain": [
       "'Lethal Weapon'"
      ]
     },
     "execution_count": 14,
     "metadata": {},
     "output_type": "execute_result"
    }
   ],
   "source": [
    "#Q8: what is small[1][\"title\"]?\n",
    "small = get_movies(\"small_movies.csv\", \"small_mapping.csv\")\n",
    "small[1][\"title\"]"
   ]
  },
  {
   "cell_type": "code",
   "execution_count": 15,
   "metadata": {},
   "outputs": [
    {
     "data": {
      "text/plain": [
       "['John Cusack', 'Gene Hackman', 'Dustin Hoffman']"
      ]
     },
     "execution_count": 15,
     "metadata": {},
     "output_type": "execute_result"
    }
   ],
   "source": [
    "#Q9: What is small[0][\"actors\"]?\n",
    "small[0][\"actors\"]"
   ]
  },
  {
   "cell_type": "code",
   "execution_count": 16,
   "metadata": {},
   "outputs": [
    {
     "data": {
      "text/plain": [
       "['Richard Donner']"
      ]
     },
     "execution_count": 16,
     "metadata": {},
     "output_type": "execute_result"
    }
   ],
   "source": [
    "#Q10: What is small[-1][\"directors\"]?\n",
    "small[-1][\"directors\"]"
   ]
  },
  {
   "cell_type": "code",
   "execution_count": 17,
   "metadata": {},
   "outputs": [
    {
     "data": {
      "text/plain": [
       "[{'title': 'Fortitude and Glory: Angelo Dundee and His Fighters',\n",
       "  'year': 2012,\n",
       "  'rating': 7.2,\n",
       "  'directors': ['Chris Tasara'],\n",
       "  'actors': ['Angelo Dundee', 'George Foreman', 'Freddie Roach'],\n",
       "  'genres': ['Sport']},\n",
       " {'title': 'Ivanhoe',\n",
       "  'year': 1952,\n",
       "  'rating': 6.8,\n",
       "  'directors': ['Richard Thorpe'],\n",
       "  'actors': ['Robert Taylor', 'George Sanders'],\n",
       "  'genres': ['Adventure', 'Drama', 'History']},\n",
       " {'title': 'The Great Gatsby',\n",
       "  'year': 1949,\n",
       "  'rating': 6.6,\n",
       "  'directors': ['Elliott Nugent'],\n",
       "  'actors': ['Alan Ladd', 'Macdonald Carey'],\n",
       "  'genres': ['Drama']}]"
      ]
     },
     "execution_count": 17,
     "metadata": {},
     "output_type": "execute_result"
    }
   ],
   "source": [
    "#Q11: What are the last 3 rows in movies?\n",
    "movies = get_movies(\"movies.csv\", \"mapping.csv\")\n",
    "movies[-3:]"
   ]
  },
  {
   "cell_type": "code",
   "execution_count": 18,
   "metadata": {},
   "outputs": [
    {
     "data": {
      "text/plain": [
       "[{'title': 'The Big Wedding',\n",
       "  'year': 2013,\n",
       "  'rating': 5.6,\n",
       "  'directors': ['Justin Zackham'],\n",
       "  'actors': ['Robert De Niro'],\n",
       "  'genres': ['Comedy', 'Drama', 'Romance']},\n",
       " {'title': 'The Affair of the Necklace',\n",
       "  'year': 2001,\n",
       "  'rating': 6.1,\n",
       "  'directors': ['Charles Shyer'],\n",
       "  'actors': ['Simon Baker', 'Jonathan Pryce', 'Adrien Brody'],\n",
       "  'genres': ['Drama', 'History', 'Romance']}]"
      ]
     },
     "execution_count": 18,
     "metadata": {},
     "output_type": "execute_result"
    }
   ],
   "source": [
    "#Q12: What are the first 2 rows in movies?\n",
    "movies[:2]"
   ]
  },
  {
   "cell_type": "code",
   "execution_count": 19,
   "metadata": {},
   "outputs": [],
   "source": [
    "import copy\n",
    "movies_copy = copy.deepcopy(movies)\n",
    "movies_copy2 = copy.deepcopy(movies)\n",
    "movies_copy3 = copy.deepcopy(movies)\n",
    "movies_copy4 = copy.deepcopy(movies)\n",
    "movies_copy5 = copy.deepcopy(movies)\n",
    "movies_copy6 = copy.deepcopy(movies)\n",
    "# you are not allowed to change this function\n",
    "def filter_movies_by_year(movies_copy, year):\n",
    "    i = 0\n",
    "    while i < len(movies_copy):\n",
    "        if movies_copy[i][\"year\"] != year:\n",
    "            movies_copy.pop(i)\n",
    "        else:\n",
    "            i += 1\n",
    "    return movies_copy"
   ]
  },
  {
   "cell_type": "code",
   "execution_count": 20,
   "metadata": {},
   "outputs": [
    {
     "data": {
      "text/plain": [
       "[{'title': 'Redskin',\n",
       "  'year': 1929,\n",
       "  'rating': 7.0,\n",
       "  'directors': ['Victor Schertzinger'],\n",
       "  'actors': ['Richard Dix', 'Tully Marshall', 'George Regas'],\n",
       "  'genres': ['Adventure', 'Drama', 'Western']},\n",
       " {'title': 'The Girl in the Show',\n",
       "  'year': 1929,\n",
       "  'rating': 6.5,\n",
       "  'directors': ['Edgar Selwyn'],\n",
       "  'actors': ['Raymond Hackett', 'Edward J. Nugent'],\n",
       "  'genres': ['Comedy']},\n",
       " {'title': 'Atlantic',\n",
       "  'year': 1929,\n",
       "  'rating': 5.5,\n",
       "  'directors': ['Ewald André Dupont'],\n",
       "  'actors': ['Franklin Dyall', 'John Stuart'],\n",
       "  'genres': ['Drama']}]"
      ]
     },
     "execution_count": 20,
     "metadata": {},
     "output_type": "execute_result"
    }
   ],
   "source": [
    "#Q13: What are the movies from 1929?\n",
    "filter_movies_by_year(movies_copy, 1929)"
   ]
  },
  {
   "cell_type": "code",
   "execution_count": 21,
   "metadata": {},
   "outputs": [
    {
     "data": {
      "text/plain": [
       "[{'title': 'Arizona',\n",
       "  'year': 1931,\n",
       "  'rating': 6.0,\n",
       "  'directors': ['George B. Seitz'],\n",
       "  'actors': ['John Wayne', 'Forrest Stanley'],\n",
       "  'genres': ['Drama', 'Romance']},\n",
       " {'title': 'City Lights',\n",
       "  'year': 1931,\n",
       "  'rating': 8.5,\n",
       "  'directors': ['Charles Chaplin'],\n",
       "  'actors': ['Charles Chaplin', 'Harry Myers'],\n",
       "  'genres': ['Comedy', 'Drama', 'Romance']},\n",
       " {'title': 'The Range Feud',\n",
       "  'year': 1931,\n",
       "  'rating': 5.8,\n",
       "  'directors': ['D. Ross Lederman'],\n",
       "  'actors': ['Buck Jones', 'John Wayne', 'Edward LeSaint'],\n",
       "  'genres': ['Mystery', 'Western']}]"
      ]
     },
     "execution_count": 21,
     "metadata": {},
     "output_type": "execute_result"
    }
   ],
   "source": [
    "#Q14: What are the movies from 1931?\n",
    "filter_movies_by_year(movies_copy2, 1931)"
   ]
  },
  {
   "cell_type": "code",
   "execution_count": 22,
   "metadata": {},
   "outputs": [
    {
     "data": {
      "text/plain": [
       "2605"
      ]
     },
     "execution_count": 22,
     "metadata": {},
     "output_type": "execute_result"
    }
   ],
   "source": [
    "#Q15: How many unique actor names are there in the dataset?\n",
    "def uniq_names(data, col):\n",
    "    data = copy.deepcopy(data)\n",
    "    uniq_names = []\n",
    "    for i in range(len(data)):\n",
    "        for j in range(len(data[i][col])):\n",
    "            if data[i][col][j] not in uniq_names:\n",
    "                uniq_names += data[i][col][j].split(\",\")\n",
    "    return len(uniq_names)\n",
    "uniq_names(movies, \"actors\")"
   ]
  },
  {
   "cell_type": "code",
   "execution_count": 23,
   "metadata": {},
   "outputs": [
    {
     "data": {
      "text/plain": [
       "18"
      ]
     },
     "execution_count": 23,
     "metadata": {},
     "output_type": "execute_result"
    }
   ],
   "source": [
    "#Q16: How many unique genres are there in the dataset?\n",
    "uniq_names(movies, \"genres\")"
   ]
  },
  {
   "cell_type": "code",
   "execution_count": 24,
   "metadata": {},
   "outputs": [
    {
     "data": {
      "text/plain": [
       "'Zorba the Greek'"
      ]
     },
     "execution_count": 24,
     "metadata": {},
     "output_type": "execute_result"
    }
   ],
   "source": [
    "#Q17: Which movie title in the dataset appears last alphabetically?\n",
    "titles = []\n",
    "for i in range(len(movies_copy3)):\n",
    "    titles += movies_copy3[i][\"title\"].split(\",\")\n",
    "sorted(titles)[-1]"
   ]
  },
  {
   "cell_type": "code",
   "execution_count": 25,
   "metadata": {},
   "outputs": [
    {
     "data": {
      "text/plain": [
       "6.401659528907912"
      ]
     },
     "execution_count": 25,
     "metadata": {},
     "output_type": "execute_result"
    }
   ],
   "source": [
    "#Q18: What is the average movie rating?\n",
    "total_ratings = 0\n",
    "for i in range(len(movies_copy4)):\n",
    "    total_ratings += movies_copy4[i][\"rating\"]\n",
    "total_ratings/len(movies_copy4)"
   ]
  },
  {
   "cell_type": "code",
   "execution_count": 26,
   "metadata": {},
   "outputs": [
    {
     "data": {
      "text/plain": [
       "'The Godfather'"
      ]
     },
     "execution_count": 26,
     "metadata": {},
     "output_type": "execute_result"
    }
   ],
   "source": [
    "#Q19: What is the name of the highest rated movie?\n",
    "highest_rated = \"\"\n",
    "highest_rating = None\n",
    "for i in range(len(movies_copy5)):\n",
    "    if highest_rating == None or movies_copy5[i][\"rating\"] > highest_rating:\n",
    "        highest_rating = movies_copy5[i][\"rating\"]\n",
    "        highest_rated = movies_copy5[i][\"title\"]\n",
    "highest_rated"
   ]
  },
  {
   "cell_type": "code",
   "execution_count": 27,
   "metadata": {},
   "outputs": [
    {
     "data": {
      "text/plain": [
       "'Shoulder Arms'"
      ]
     },
     "execution_count": 27,
     "metadata": {},
     "output_type": "execute_result"
    }
   ],
   "source": [
    "#Q20: What is the oldest movie title in the dataset?\n",
    "oldest = \"\"\n",
    "oldest_year = None\n",
    "for i in range(len(movies_copy6)):\n",
    "    if oldest_year == None or movies_copy5[i][\"year\"] < oldest_year:\n",
    "        oldest_year = movies_copy5[i][\"year\"]\n",
    "        oldest = movies_copy5[i][\"title\"]\n",
    "oldest"
   ]
  },
  {
   "cell_type": "code",
   "execution_count": 28,
   "metadata": {},
   "outputs": [],
   "source": [
    "def bucketize(movie_list, movie_key):\n",
    "    # TODO: return dict of lists of movie dicts\n",
    "    ans_dict = {}\n",
    "    for dict in movie_list:\n",
    "        key = dict[movie_key]\n",
    "        if movie_key == \"genres\" or movie_key == \"actors\" or movie_key == \"directors\":\n",
    "            for i in range(len(key)):\n",
    "                sub_key = key[i]\n",
    "                if not sub_key in ans_dict:\n",
    "                    ans_dict[sub_key] = []\n",
    "                ans_dict[sub_key].append(dict)\n",
    "        else:\n",
    "            if not key in ans_dict:\n",
    "                ans_dict[key] = []\n",
    "            ans_dict[key].append(dict)\n",
    "    return ans_dict"
   ]
  },
  {
   "cell_type": "code",
   "execution_count": 29,
   "metadata": {},
   "outputs": [],
   "source": [
    "test_movies = [\n",
    "{\"title\": \"A\", \"year\": 2018, \"style\": \"short\", \"genres\": [\"g1\"]},\n",
    "{\"title\": \"B\", \"year\": 2018, \"style\": \"long\",  \"genres\": [\"g2\"]},\n",
    "{\"title\": \"C\", \"year\": 2019, \"style\": \"short\", \"genres\": [\"g3\"]},\n",
    "{\"title\": \"D\", \"year\": 2019, \"style\": \"long\", \"genres\": [\"g1\", \"g2\", \"g3\"]},\n",
    "]"
   ]
  },
  {
   "cell_type": "code",
   "execution_count": 30,
   "metadata": {},
   "outputs": [
    {
     "data": {
      "text/plain": [
       "{'short': [{'title': 'A', 'year': 2018, 'style': 'short', 'genres': ['g1']},\n",
       "  {'title': 'C', 'year': 2019, 'style': 'short', 'genres': ['g3']}],\n",
       " 'long': [{'title': 'B', 'year': 2018, 'style': 'long', 'genres': ['g2']},\n",
       "  {'title': 'D', 'year': 2019, 'style': 'long', 'genres': ['g1', 'g2', 'g3']}]}"
      ]
     },
     "execution_count": 30,
     "metadata": {},
     "output_type": "execute_result"
    }
   ],
   "source": [
    "#Q21: What is bucketize(test_movies, \"style\")?\n",
    "bucketize(test_movies, \"style\")"
   ]
  },
  {
   "cell_type": "code",
   "execution_count": 31,
   "metadata": {},
   "outputs": [
    {
     "data": {
      "text/plain": [
       "{2018: [{'title': 'A', 'year': 2018, 'style': 'short', 'genres': ['g1']},\n",
       "  {'title': 'B', 'year': 2018, 'style': 'long', 'genres': ['g2']}],\n",
       " 2019: [{'title': 'C', 'year': 2019, 'style': 'short', 'genres': ['g3']},\n",
       "  {'title': 'D', 'year': 2019, 'style': 'long', 'genres': ['g1', 'g2', 'g3']}]}"
      ]
     },
     "execution_count": 31,
     "metadata": {},
     "output_type": "execute_result"
    }
   ],
   "source": [
    "#Q22: What is bucketize(test_movies, \"year\")?\n",
    "bucketize(test_movies, \"year\")"
   ]
  },
  {
   "cell_type": "code",
   "execution_count": 32,
   "metadata": {},
   "outputs": [
    {
     "data": {
      "text/plain": [
       "{'g1': [{'title': 'A', 'year': 2018, 'style': 'short', 'genres': ['g1']},\n",
       "  {'title': 'D', 'year': 2019, 'style': 'long', 'genres': ['g1', 'g2', 'g3']}],\n",
       " 'g2': [{'title': 'B', 'year': 2018, 'style': 'long', 'genres': ['g2']},\n",
       "  {'title': 'D', 'year': 2019, 'style': 'long', 'genres': ['g1', 'g2', 'g3']}],\n",
       " 'g3': [{'title': 'C', 'year': 2019, 'style': 'short', 'genres': ['g3']},\n",
       "  {'title': 'D', 'year': 2019, 'style': 'long', 'genres': ['g1', 'g2', 'g3']}]}"
      ]
     },
     "execution_count": 32,
     "metadata": {},
     "output_type": "execute_result"
    }
   ],
   "source": [
    "#Q23: What is bucketize(test_movies, \"genres\")?\n",
    "bucketize(test_movies, \"genres\")"
   ]
  },
  {
   "cell_type": "code",
   "execution_count": 33,
   "metadata": {},
   "outputs": [
    {
     "data": {
      "text/plain": [
       "{'Crime': [{'title': 'Runaway Jury',\n",
       "   'year': 2003,\n",
       "   'rating': 7.1,\n",
       "   'directors': ['Gary Fleder'],\n",
       "   'actors': ['John Cusack', 'Gene Hackman', 'Dustin Hoffman'],\n",
       "   'genres': ['Crime', 'Drama', 'Thriller']},\n",
       "  {'title': 'Lethal Weapon',\n",
       "   'year': 1987,\n",
       "   'rating': 7.6,\n",
       "   'directors': ['Richard Donner'],\n",
       "   'actors': ['Mel Gibson', 'Danny Glover', 'Gary Busey', 'Mitchell Ryan'],\n",
       "   'genres': ['Action', 'Crime', 'Thriller']}],\n",
       " 'Drama': [{'title': 'Runaway Jury',\n",
       "   'year': 2003,\n",
       "   'rating': 7.1,\n",
       "   'directors': ['Gary Fleder'],\n",
       "   'actors': ['John Cusack', 'Gene Hackman', 'Dustin Hoffman'],\n",
       "   'genres': ['Crime', 'Drama', 'Thriller']}],\n",
       " 'Thriller': [{'title': 'Runaway Jury',\n",
       "   'year': 2003,\n",
       "   'rating': 7.1,\n",
       "   'directors': ['Gary Fleder'],\n",
       "   'actors': ['John Cusack', 'Gene Hackman', 'Dustin Hoffman'],\n",
       "   'genres': ['Crime', 'Drama', 'Thriller']},\n",
       "  {'title': 'Lethal Weapon',\n",
       "   'year': 1987,\n",
       "   'rating': 7.6,\n",
       "   'directors': ['Richard Donner'],\n",
       "   'actors': ['Mel Gibson', 'Danny Glover', 'Gary Busey', 'Mitchell Ryan'],\n",
       "   'genres': ['Action', 'Crime', 'Thriller']}],\n",
       " 'Action': [{'title': 'Lethal Weapon',\n",
       "   'year': 1987,\n",
       "   'rating': 7.6,\n",
       "   'directors': ['Richard Donner'],\n",
       "   'actors': ['Mel Gibson', 'Danny Glover', 'Gary Busey', 'Mitchell Ryan'],\n",
       "   'genres': ['Action', 'Crime', 'Thriller']}]}"
      ]
     },
     "execution_count": 33,
     "metadata": {},
     "output_type": "execute_result"
    }
   ],
   "source": [
    "#Q24: What is bucketize(small, \"genres\")?\n",
    "bucketize(small, \"genres\")"
   ]
  },
  {
   "cell_type": "code",
   "execution_count": 34,
   "metadata": {},
   "outputs": [
    {
     "data": {
      "text/plain": [
       "2"
      ]
     },
     "execution_count": 34,
     "metadata": {},
     "output_type": "execute_result"
    }
   ],
   "source": [
    "#Q25: How many different unique directors appear in the small dataset?\n",
    "len(bucketize(small, \"directors\"))"
   ]
  },
  {
   "cell_type": "code",
   "execution_count": 35,
   "metadata": {},
   "outputs": [
    {
     "data": {
      "text/plain": [
       "1247"
      ]
     },
     "execution_count": 35,
     "metadata": {},
     "output_type": "execute_result"
    }
   ],
   "source": [
    "#Q26: How many unique directors appear in the full dataset?\n",
    "len(bucketize(movies, \"directors\"))"
   ]
  },
  {
   "cell_type": "code",
   "execution_count": 36,
   "metadata": {},
   "outputs": [
    {
     "data": {
      "text/plain": [
       "{'Comedy': 485,\n",
       " 'Drama': 1094,\n",
       " 'Romance': 352,\n",
       " 'History': 73,\n",
       " 'Family': 85,\n",
       " 'Mystery': 121,\n",
       " 'Thriller': 250,\n",
       " 'Action': 299,\n",
       " 'Crime': 357,\n",
       " 'Adventure': 283,\n",
       " 'Western': 226,\n",
       " 'Music': 38,\n",
       " 'Animation': 45,\n",
       " 'Sport': 48,\n",
       " 'Fantasy': 59,\n",
       " 'War': 99,\n",
       " 'Sci-Fi': 69,\n",
       " 'Horror': 85}"
      ]
     },
     "execution_count": 36,
     "metadata": {},
     "output_type": "execute_result"
    }
   ],
   "source": [
    "#Q27: How many movies are there of each genre?\n",
    "genres_ct = {}\n",
    "for dict in movies:\n",
    "    genres = dict[\"genres\"]\n",
    "    for i in range(len(genres)):\n",
    "        genre = genres[i]\n",
    "        if not genre in genres_ct:\n",
    "            genres_ct[genre] = 0\n",
    "        genres_ct[genre] += 1\n",
    "genres_ct"
   ]
  },
  {
   "cell_type": "code",
   "execution_count": 37,
   "metadata": {},
   "outputs": [
    {
     "data": {
      "image/png": "[encoded data removed]",
      "text/plain": [
       "<Figure size 432x288 with 1 Axes>"
      ]
     },
     "metadata": {
      "needs_background": "light"
     },
     "output_type": "display_data"
    }
   ],
   "source": [
    "#Q28: How many movies are there of each genre? (plot your answer)\n",
    "import matplotlib, pandas\n",
    "def plot_dict(d, label=\"Please Label Me!!!\"):\n",
    "    ax = pandas.Series(d).sort_index().plot.bar(color=\"black\", fontsize=16)\n",
    "    ax.set_ylabel(label, fontsize=16)\n",
    "\n",
    "plot_dict(genres_ct, \"Movie Count\")"
   ]
  },
  {
   "cell_type": "code",
   "execution_count": 38,
   "metadata": {},
   "outputs": [
    {
     "data": {
      "image/png": "[encoded data removed]",
      "text/plain": [
       "<Figure size 432x288 with 1 Axes>"
      ]
     },
     "metadata": {
      "needs_background": "light"
     },
     "output_type": "display_data"
    }
   ],
   "source": [
    "#Q29: How many movies are there of each genre, prior to 1970? (plot your answer)\n",
    "genres_ct_1970 = {}\n",
    "for dict in movies:\n",
    "    if dict[\"year\"] < 1970:\n",
    "        genres = dict[\"genres\"]\n",
    "        for i in range(len(genres)):\n",
    "            genre = genres[i]\n",
    "            if not genre in genres_ct_1970:\n",
    "                genres_ct_1970[genre] = 0\n",
    "            genres_ct_1970[genre] += 1\n",
    "plot_dict(genres_ct_1970, \"Movie Count\")"
   ]
  },
  {
   "cell_type": "code",
   "execution_count": 39,
   "metadata": {},
   "outputs": [
    {
     "data": {
      "image/png": "[encoded data removed]",
      "text/plain": [
       "<Figure size 432x288 with 1 Axes>"
      ]
     },
     "metadata": {
      "needs_background": "light"
     },
     "output_type": "display_data"
    }
   ],
   "source": [
    "#Q30: How many movies are there of each genre, in or after 1990? (plot your answer)\n",
    "genres_ct_1990 = {}\n",
    "for dict in movies:\n",
    "    if dict[\"year\"] >= 1990:\n",
    "        genres = dict[\"genres\"]\n",
    "        for i in range(len(genres)):\n",
    "            genre = genres[i]\n",
    "            if not genre in genres_ct_1990:\n",
    "                genres_ct_1990[genre] = 0\n",
    "            genres_ct_1990[genre] += 1\n",
    "plot_dict(genres_ct_1990, \"Movie Count\")"
   ]
  },
  {
   "cell_type": "code",
   "execution_count": 40,
   "metadata": {},
   "outputs": [
    {
     "data": {
      "image/png": "[encoded data removed]",
      "text/plain": [
       "<Figure size 432x288 with 1 Axes>"
      ]
     },
     "metadata": {
      "needs_background": "light"
     },
     "output_type": "display_data"
    }
   ],
   "source": [
    "#Q31: How many movies have there been per year, after (not including) 2005? (plot your answer)\n",
    "year_ct_2005 = {}\n",
    "for dict in movies:\n",
    "    if dict[\"year\"] > 2005:\n",
    "        year = dict[\"year\"]\n",
    "        if not year in year_ct_2005:\n",
    "            year_ct_2005[year] = 0\n",
    "        year_ct_2005[year] += 1\n",
    "plot_dict(year_ct_2005, \"Movie Count\")"
   ]
  },
  {
   "cell_type": "code",
   "execution_count": 41,
   "metadata": {},
   "outputs": [
    {
     "data": {
      "text/plain": [
       "{'Robert De Niro': 49,\n",
       " 'Kurt Russell': 50,\n",
       " 'John Wayne': 46,\n",
       " 'Mickey Rooney': 75,\n",
       " 'Robert Mitchum': 51,\n",
       " 'Henry Fonda': 46,\n",
       " 'Glenn Ford': 52,\n",
       " 'Jeff Bridges': 48,\n",
       " 'James Caan': 52,\n",
       " 'Anthony Quinn': 61,\n",
       " 'Marlon Brando': 49,\n",
       " 'Tony Curtis': 45,\n",
       " 'Ernest Borgnine': 47,\n",
       " 'Rod Steiger': 45,\n",
       " 'George Burns': 60,\n",
       " 'Bruce Dern': 45,\n",
       " 'Dean Stockwell': 53}"
      ]
     },
     "execution_count": 41,
     "metadata": {},
     "output_type": "execute_result"
    }
   ],
   "source": [
    "#Q32: What are the acting career spans of the actors who have acted for at least 45 years?\n",
    "def career_span(position, years):\n",
    "    people = []\n",
    "    spans = {}\n",
    "    for movie in movies:\n",
    "        for item in movie[position]:\n",
    "            if item not in people:\n",
    "                people.append(item)\n",
    "    for individual in people:\n",
    "        first_year = None\n",
    "        last_year = None\n",
    "        for movie in movies:\n",
    "            if individual in movie[position]:\n",
    "                if first_year == None or movie[\"year\"] < first_year:\n",
    "                    first_year = movie[\"year\"]\n",
    "                if last_year == None or movie[\"year\"] > last_year:\n",
    "                    last_year = movie[\"year\"]\n",
    "        if first_year != None and last_year != None:\n",
    "            span = last_year - first_year\n",
    "        if span >= years:\n",
    "            spans[individual] = span\n",
    "    return spans\n",
    "career_span(\"actors\", 45)   "
   ]
  },
  {
   "cell_type": "code",
   "execution_count": 42,
   "metadata": {},
   "outputs": [
    {
     "data": {
      "text/plain": [
       "{'Howard Hawks': 42,\n",
       " 'Charles Chaplin': 34,\n",
       " 'J. Lee Thompson': 28,\n",
       " 'Henry Hathaway': 36,\n",
       " 'John Ford': 25,\n",
       " 'Stanley Kubrick': 46,\n",
       " 'Taylor Hackford': 32,\n",
       " 'Cecil B. DeMille': 30,\n",
       " 'Lee H. Katzin': 30,\n",
       " 'John Sturges': 25,\n",
       " 'Richard Fleischer': 32,\n",
       " 'Don Siegel': 27,\n",
       " 'Sidney Lumet': 33,\n",
       " 'George Sherman': 33,\n",
       " 'John Huston': 30,\n",
       " 'Burt Kennedy': 25,\n",
       " 'William A. Graham': 25,\n",
       " 'Richard Thorpe': 29,\n",
       " 'Robert Siodmak': 30,\n",
       " 'Eldar Ryazanov': 31,\n",
       " 'Martin Ritt': 32}"
      ]
     },
     "execution_count": 42,
     "metadata": {},
     "output_type": "execute_result"
    }
   ],
   "source": [
    "#Q33: What are the directing career spans of the directors who have directed for at least 25 years?\n",
    "career_span(\"directors\", 25)"
   ]
  },
  {
   "cell_type": "code",
   "execution_count": 43,
   "metadata": {},
   "outputs": [
    {
     "data": {
      "text/plain": [
       "[{'name': 'Mickey Rooney', 'span': 75},\n",
       " {'name': 'Anthony Quinn', 'span': 61},\n",
       " {'name': 'George Burns', 'span': 60},\n",
       " {'name': 'Dean Stockwell', 'span': 53},\n",
       " {'name': 'Glenn Ford', 'span': 52},\n",
       " {'name': 'James Caan', 'span': 52},\n",
       " {'name': 'Robert Mitchum', 'span': 51},\n",
       " {'name': 'Kurt Russell', 'span': 50},\n",
       " {'name': 'Robert De Niro', 'span': 49},\n",
       " {'name': 'Marlon Brando', 'span': 49}]"
      ]
     },
     "execution_count": 43,
     "metadata": {},
     "output_type": "execute_result"
    }
   ],
   "source": [
    "#Q34: Who are the top 10 actors with the longest careers?\n",
    "def row_ranking(row):\n",
    "    return row[\"span\"]\n",
    "\n",
    "def top_n_span(buckets, n):\n",
    "    spans = buckets\n",
    "    rows = []\n",
    "    for name in spans:\n",
    "        span = spans[name]\n",
    "        rows.append({\"name\": name, \"span\": span})\n",
    "    rows.sort(key = row_ranking, reverse = True)\n",
    "    return rows[:n]\n",
    "\n",
    "top_n_span(career_span(\"actors\", 0), 10)"
   ]
  },
  {
   "cell_type": "code",
   "execution_count": 44,
   "metadata": {},
   "outputs": [
    {
     "data": {
      "text/plain": [
       "[{'name': 'Stanley Kubrick', 'span': 46},\n",
       " {'name': 'Howard Hawks', 'span': 42},\n",
       " {'name': 'Henry Hathaway', 'span': 36},\n",
       " {'name': 'Charles Chaplin', 'span': 34},\n",
       " {'name': 'Sidney Lumet', 'span': 33},\n",
       " {'name': 'George Sherman', 'span': 33},\n",
       " {'name': 'Taylor Hackford', 'span': 32},\n",
       " {'name': 'Richard Fleischer', 'span': 32},\n",
       " {'name': 'Martin Ritt', 'span': 32},\n",
       " {'name': 'Eldar Ryazanov', 'span': 31},\n",
       " {'name': 'Cecil B. DeMille', 'span': 30},\n",
       " {'name': 'Lee H. Katzin', 'span': 30},\n",
       " {'name': 'John Huston', 'span': 30},\n",
       " {'name': 'Robert Siodmak', 'span': 30},\n",
       " {'name': 'Richard Thorpe', 'span': 29},\n",
       " {'name': 'J. Lee Thompson', 'span': 28},\n",
       " {'name': 'Don Siegel', 'span': 27},\n",
       " {'name': 'John Ford', 'span': 25},\n",
       " {'name': 'John Sturges', 'span': 25},\n",
       " {'name': 'Burt Kennedy', 'span': 25},\n",
       " {'name': 'William A. Graham', 'span': 25}]"
      ]
     },
     "execution_count": 44,
     "metadata": {},
     "output_type": "execute_result"
    }
   ],
   "source": [
    "#Q35: Who are the top twenty one directors with the longest careers?\n",
    "top_n_span(career_span(\"directors\", 0), 21)"
   ]
  },
  {
   "cell_type": "code",
   "execution_count": 45,
   "metadata": {},
   "outputs": [],
   "source": [
    "import copy\n",
    "\n",
    "def median(nums):\n",
    "    numbs_copied = copy.copy(nums)\n",
    "    numbs_copied.sort()\n",
    "    if len(numbs_copied) % 2 == 1:\n",
    "        return numbs_copied[len(numbs_copied) // 2]\n",
    "    else:\n",
    "        v1 = numbs_copied[len(numbs_copied) // 2]\n",
    "        v2 = numbs_copied[len(numbs_copied) // 2 - 1]\n",
    "        return (v1+v2) / 2\n",
    "    \n",
    "def best_people(position):\n",
    "    medians = {}\n",
    "    people = list(bucketize(movies, position).keys())\n",
    "    for ppl in people:\n",
    "        ratings = []\n",
    "        for movie in bucketize(movies, position)[ppl]:\n",
    "            ratings.append(movie[\"rating\"])\n",
    "        med = median(ratings)\n",
    "        medians[ppl] = med\n",
    "    return medians"
   ]
  },
  {
   "cell_type": "code",
   "execution_count": 46,
   "metadata": {},
   "outputs": [
    {
     "data": {
      "text/plain": [
       "[{'name': 'Heath Ledger', 'rating': 9.0, 'count': 1},\n",
       " {'name': 'John Fiedler', 'rating': 8.9, 'count': 1},\n",
       " {'name': 'Aldo Giuffrè', 'rating': 8.9, 'count': 1},\n",
       " {'name': 'Steven Williams', 'rating': 8.8, 'count': 1},\n",
       " {'name': 'Daniel Roebuck', 'rating': 8.8, 'count': 1},\n",
       " {'name': 'Joseph Gordon-Levitt', 'rating': 8.8, 'count': 1},\n",
       " {'name': 'Miyu Irino', 'rating': 8.6, 'count': 1},\n",
       " {'name': 'Andrew Kevin Walker', 'rating': 8.6, 'count': 1},\n",
       " {'name': 'Ken Watanabe', 'rating': 8.55, 'count': 2}]"
      ]
     },
     "execution_count": 46,
     "metadata": {},
     "output_type": "execute_result"
    }
   ],
   "source": [
    "#Q36: Who are the nine best actors?\n",
    "def row_ranking(row):\n",
    "    return row[\"rating\"]\n",
    "\n",
    "def top_n_rating(buckets, position, n):\n",
    "    ratings = buckets\n",
    "    rows = []\n",
    "    for name in ratings:\n",
    "        rating = ratings[name]\n",
    "        count = len(bucketize(movies, position)[name])\n",
    "        rows.append({\"name\": name, \"rating\": rating, \"count\": count})\n",
    "    rows.sort(key = row_ranking, reverse = True)\n",
    "    return rows[:n]\n",
    "\n",
    "top_n_rating(best_people(\"actors\"), \"actors\", 9)"
   ]
  },
  {
   "cell_type": "code",
   "execution_count": 47,
   "metadata": {
    "scrolled": true
   },
   "outputs": [
    {
     "data": {
      "text/plain": [
       "[{'name': 'James Marlowe', 'rating': 8.8, 'count': 1},\n",
       " {'name': 'Kirk Wise', 'rating': 8.6, 'count': 1},\n",
       " {'name': 'David Fincher', 'rating': 8.6, 'count': 1},\n",
       " {'name': 'Christopher Nolan', 'rating': 8.5, 'count': 9},\n",
       " {'name': 'Leonid Gayday', 'rating': 8.4, 'count': 5},\n",
       " {'name': 'Adrian Molina', 'rating': 8.4, 'count': 1},\n",
       " {'name': 'Stanley Kubrick', 'rating': 8.3, 'count': 11},\n",
       " {'name': 'Sergio Leone', 'rating': 8.3, 'count': 7},\n",
       " {'name': 'Satyajit Ray', 'rating': 8.2, 'count': 9},\n",
       " {'name': 'Moustapha Akkad', 'rating': 8.2, 'count': 1},\n",
       " {'name': 'Andrew Grieve', 'rating': 8.2, 'count': 6},\n",
       " {'name': 'Danny Boyle', 'rating': 8.2, 'count': 1}]"
      ]
     },
     "execution_count": 47,
     "metadata": {},
     "output_type": "execute_result"
    }
   ],
   "source": [
    "#Q37: Who are the twelve best directors?\n",
    "top_n_rating(best_people(\"directors\"), \"directors\", 12)"
   ]
  },
  {
   "cell_type": "code",
   "execution_count": 48,
   "metadata": {},
   "outputs": [
    {
     "data": {
      "text/plain": [
       "[{'name': 'Henry Bergman', 'rating': 8.2, 'count': 5},\n",
       " {'name': 'Ioan Gruffudd', 'rating': 8.2, 'count': 6},\n",
       " {'name': 'Robert Lindsay', 'rating': 8.2, 'count': 6},\n",
       " {'name': 'Charles Chaplin', 'rating': 8.149999999999999, 'count': 10},\n",
       " {'name': 'Bradley Cooper', 'rating': 7.3, 'count': 5},\n",
       " {'name': 'Joe Pesci', 'rating': 7.2, 'count': 7},\n",
       " {'name': 'Robin Williams', 'rating': 7.2, 'count': 5},\n",
       " {'name': 'Kirk Douglas', 'rating': 7.15, 'count': 12},\n",
       " {'name': 'Ward Bond', 'rating': 7.1, 'count': 10},\n",
       " {'name': 'Gregory Peck', 'rating': 7.1, 'count': 5},\n",
       " {'name': 'Tom Hanks', 'rating': 7.1, 'count': 6},\n",
       " {'name': 'Al Pacino', 'rating': 7.050000000000001, 'count': 8},\n",
       " {'name': 'Ben Johnson', 'rating': 7.050000000000001, 'count': 6},\n",
       " {'name': 'Charles Coburn', 'rating': 7.0, 'count': 9}]"
      ]
     },
     "execution_count": 48,
     "metadata": {},
     "output_type": "execute_result"
    }
   ],
   "source": [
    "#Q38: Who are the fourteen best actors, if we only consider those who have acted in at least 5 movies?\n",
    "def new_top_n_rating(buckets, position, n, N):\n",
    "    ratings = buckets\n",
    "    rows = []\n",
    "    for name in ratings:\n",
    "        count = len(bucketize(movies, position)[name])\n",
    "        if count >= N:\n",
    "            rating = ratings[name]\n",
    "            rows.append({\"name\": name, \"rating\": rating, \"count\": count})\n",
    "    rows.sort(key = row_ranking, reverse = True)\n",
    "    return rows[:n]\n",
    "new_top_n_rating(best_people(\"actors\"), \"actors\", 14, 5)"
   ]
  },
  {
   "cell_type": "code",
   "execution_count": 49,
   "metadata": {},
   "outputs": [
    {
     "data": {
      "text/plain": [
       "[{'name': 'Henry Fonda', 'rating': 6.9, 'count': 77},\n",
       " {'name': 'Mickey Rooney', 'rating': 6.7, 'count': 82},\n",
       " {'name': 'Anthony Quinn', 'rating': 6.7, 'count': 79},\n",
       " {'name': 'Brian Donlevy', 'rating': 6.7, 'count': 47},\n",
       " {'name': 'Robert Mitchum', 'rating': 6.65, 'count': 74},\n",
       " {'name': 'Glenn Ford', 'rating': 6.6, 'count': 74},\n",
       " {'name': 'George Sanders', 'rating': 6.6, 'count': 74},\n",
       " {'name': 'Robert De Niro', 'rating': 6.55, 'count': 74},\n",
       " {'name': 'Randolph Scott', 'rating': 6.5, 'count': 76},\n",
       " {'name': 'Jeff Bridges', 'rating': 6.5, 'count': 59},\n",
       " {'name': 'Ned Beatty', 'rating': 6.45, 'count': 50},\n",
       " {'name': 'Kurt Russell', 'rating': 6.4, 'count': 46},\n",
       " {'name': 'John Wayne', 'rating': 6.4, 'count': 130},\n",
       " {'name': 'John Cusack', 'rating': 6.4, 'count': 52},\n",
       " {'name': 'Danny Glover', 'rating': 6.4, 'count': 51},\n",
       " {'name': 'Dennis Quaid', 'rating': 6.35, 'count': 60}]"
      ]
     },
     "execution_count": 49,
     "metadata": {},
     "output_type": "execute_result"
    }
   ],
   "source": [
    "#Q39: Who are the sixteen best actors, if we only consider those who have acted in at least 30 movies?\n",
    "new_top_n_rating(best_people(\"actors\"), \"actors\", 16, 30)"
   ]
  },
  {
   "cell_type": "code",
   "execution_count": 50,
   "metadata": {},
   "outputs": [
    {
     "data": {
      "text/plain": [
       "[{'name': 'Christopher Nolan', 'rating': 8.5, 'count': 9},\n",
       " {'name': 'Stanley Kubrick', 'rating': 8.3, 'count': 11},\n",
       " {'name': 'Satyajit Ray', 'rating': 8.2, 'count': 9},\n",
       " {'name': 'Charles Chaplin', 'rating': 8.1, 'count': 11},\n",
       " {'name': 'Hayao Miyazaki', 'rating': 8.1, 'count': 9},\n",
       " {'name': 'Martin Scorsese', 'rating': 8.0, 'count': 8},\n",
       " {'name': 'John Ford', 'rating': 7.3, 'count': 21},\n",
       " {'name': 'Fritz Lang', 'rating': 7.2, 'count': 9}]"
      ]
     },
     "execution_count": 50,
     "metadata": {},
     "output_type": "execute_result"
    }
   ],
   "source": [
    "#Q40: Who are the eight best directors, if we only count directors having at least 8 movies?\n",
    "new_top_n_rating(best_people(\"directors\"), \"directors\", 8, 8)"
   ]
  },
  {
   "cell_type": "code",
   "execution_count": null,
   "metadata": {},
   "outputs": [],
   "source": []
  }
 ],
 "metadata": {
  "kernelspec": {
   "display_name": "Python 3",
   "language": "python",
   "name": "python3"
  },
  "language_info": {
   "codemirror_mode": {
    "name": "ipython",
    "version": 3
   },
   "file_extension": ".py",
   "mimetype": "text/x-python",
   "name": "python",
   "nbconvert_exporter": "python",
   "pygments_lexer": "ipython3",
   "version": "3.8.1"
  }
 },
 "nbformat": 4,
 "nbformat_minor": 4
}
