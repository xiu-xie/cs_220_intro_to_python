{
 "cells": [
  {
   "cell_type": "code",
   "execution_count": 1,
   "metadata": {},
   "outputs": [],
   "source": [
    "# project: p10\n",
    "# submitter: xxie65\n",
    "# partner: none"
   ]
  },
  {
   "cell_type": "code",
   "execution_count": 2,
   "metadata": {},
   "outputs": [
    {
     "data": {
      "text/html": [
       "<style>em { color: red; }</style> <style>.container {width:100% !important; }</style>"
      ],
      "text/plain": [
       "<IPython.core.display.HTML object>"
      ]
     },
     "execution_count": 2,
     "metadata": {},
     "output_type": "execute_result"
    }
   ],
   "source": [
    "from IPython.core.display import HTML\n",
    "HTML('<style>em { color: red; }</style> <style>.container {width:100% !important; }</style>')"
   ]
  },
  {
   "cell_type": "code",
   "execution_count": 3,
   "metadata": {},
   "outputs": [],
   "source": [
    "import requests\n",
    "import os \n",
    "import sqlite3\n",
    "import matplotlib\n",
    "import math\n",
    "from matplotlib import pyplot as plt\n",
    "import pandas as pd\n",
    "from pandas import DataFrame, Series\n",
    "%matplotlib inline"
   ]
  },
  {
   "cell_type": "code",
   "execution_count": 4,
   "metadata": {},
   "outputs": [],
   "source": [
    "def download(filename, url):\n",
    "    # We do not download again if the file already exists\n",
    "    if os.path.exists(filename):\n",
    "        return (str(filename) + \" already exists!\")\n",
    "    resp = requests.get(url)\n",
    "    resp.raise_for_status()\n",
    "    f = open(filename, \"w\")\n",
    "    f.write(resp.text)\n",
    "    f.close()"
   ]
  },
  {
   "cell_type": "code",
   "execution_count": 5,
   "metadata": {},
   "outputs": [
    {
     "data": {
      "text/html": [
       "<div>\n",
       "<style scoped>\n",
       "    .dataframe tbody tr th:only-of-type {\n",
       "        vertical-align: middle;\n",
       "    }\n",
       "\n",
       "    .dataframe tbody tr th {\n",
       "        vertical-align: top;\n",
       "    }\n",
       "\n",
       "    .dataframe thead th {\n",
       "        text-align: right;\n",
       "    }\n",
       "</style>\n",
       "<table border=\"1\" class=\"dataframe\">\n",
       "  <thead>\n",
       "    <tr style=\"text-align: right;\">\n",
       "      <th></th>\n",
       "      <th>area</th>\n",
       "      <th>birth-rate</th>\n",
       "      <th>coastline</th>\n",
       "      <th>continent</th>\n",
       "      <th>country</th>\n",
       "      <th>death-rate</th>\n",
       "      <th>gdp-per-capita</th>\n",
       "      <th>infant-mortality</th>\n",
       "      <th>literacy</th>\n",
       "      <th>net-migration</th>\n",
       "      <th>phones</th>\n",
       "      <th>population</th>\n",
       "      <th>region</th>\n",
       "    </tr>\n",
       "  </thead>\n",
       "  <tbody>\n",
       "    <tr>\n",
       "      <th>0</th>\n",
       "      <td>756950</td>\n",
       "      <td>15.23</td>\n",
       "      <td>0.85</td>\n",
       "      <td>South America</td>\n",
       "      <td>Chile</td>\n",
       "      <td>5.81</td>\n",
       "      <td>9900</td>\n",
       "      <td>8.80</td>\n",
       "      <td>96,2</td>\n",
       "      <td>0.00</td>\n",
       "      <td>213,0</td>\n",
       "      <td>16134219</td>\n",
       "      <td>LATIN AMER. &amp; CARIB</td>\n",
       "    </tr>\n",
       "    <tr>\n",
       "      <th>1</th>\n",
       "      <td>665</td>\n",
       "      <td>17.80</td>\n",
       "      <td>24.21</td>\n",
       "      <td>Asia</td>\n",
       "      <td>Bahrain</td>\n",
       "      <td>4.14</td>\n",
       "      <td>16900</td>\n",
       "      <td>17.27</td>\n",
       "      <td>89,1</td>\n",
       "      <td>1.05</td>\n",
       "      <td>281,3</td>\n",
       "      <td>698585</td>\n",
       "      <td>NEAR EAST</td>\n",
       "    </tr>\n",
       "    <tr>\n",
       "      <th>2</th>\n",
       "      <td>22966</td>\n",
       "      <td>28.84</td>\n",
       "      <td>1.68</td>\n",
       "      <td>North America</td>\n",
       "      <td>Belize</td>\n",
       "      <td>5.72</td>\n",
       "      <td>4900</td>\n",
       "      <td>25.69</td>\n",
       "      <td>94,1</td>\n",
       "      <td>0.00</td>\n",
       "      <td>115,7</td>\n",
       "      <td>287730</td>\n",
       "      <td>LATIN AMER. &amp; CARIB</td>\n",
       "    </tr>\n",
       "    <tr>\n",
       "      <th>3</th>\n",
       "      <td>582650</td>\n",
       "      <td>39.72</td>\n",
       "      <td>0.09</td>\n",
       "      <td>Africa</td>\n",
       "      <td>Kenya</td>\n",
       "      <td>14.02</td>\n",
       "      <td>1000</td>\n",
       "      <td>61.47</td>\n",
       "      <td>85,1</td>\n",
       "      <td>-0.10</td>\n",
       "      <td>8,1</td>\n",
       "      <td>34707817</td>\n",
       "      <td>SUB-SAHARAN AFRICA</td>\n",
       "    </tr>\n",
       "    <tr>\n",
       "      <th>4</th>\n",
       "      <td>11854</td>\n",
       "      <td>33.05</td>\n",
       "      <td>3.12</td>\n",
       "      <td>Australia</td>\n",
       "      <td>Marshall Islands</td>\n",
       "      <td>4.78</td>\n",
       "      <td>1600</td>\n",
       "      <td>29.45</td>\n",
       "      <td>93,7</td>\n",
       "      <td>-6.04</td>\n",
       "      <td>91,2</td>\n",
       "      <td>60422</td>\n",
       "      <td>OCEANIA</td>\n",
       "    </tr>\n",
       "  </tbody>\n",
       "</table>\n",
       "</div>"
      ],
      "text/plain": [
       "     area  birth-rate  coastline      continent           country  death-rate  \\\n",
       "0  756950       15.23       0.85  South America             Chile        5.81   \n",
       "1     665       17.80      24.21           Asia           Bahrain        4.14   \n",
       "2   22966       28.84       1.68  North America            Belize        5.72   \n",
       "3  582650       39.72       0.09         Africa             Kenya       14.02   \n",
       "4   11854       33.05       3.12      Australia  Marshall Islands        4.78   \n",
       "\n",
       "   gdp-per-capita  infant-mortality literacy  net-migration phones  \\\n",
       "0            9900              8.80     96,2           0.00  213,0   \n",
       "1           16900             17.27     89,1           1.05  281,3   \n",
       "2            4900             25.69     94,1           0.00  115,7   \n",
       "3            1000             61.47     85,1          -0.10    8,1   \n",
       "4            1600             29.45     93,7          -6.04   91,2   \n",
       "\n",
       "   population               region  \n",
       "0    16134219  LATIN AMER. & CARIB  \n",
       "1      698585            NEAR EAST  \n",
       "2      287730  LATIN AMER. & CARIB  \n",
       "3    34707817   SUB-SAHARAN AFRICA  \n",
       "4       60422              OCEANIA  "
      ]
     },
     "execution_count": 5,
     "metadata": {},
     "output_type": "execute_result"
    }
   ],
   "source": [
    "download(\"countries.json\", \"https://raw.githubusercontent.com/msyamkumar/cs220-projects/master/spring20/p10/countries.json\")\n",
    "countries = pd.read_json('countries.json')\n",
    "countries.head()"
   ]
  },
  {
   "cell_type": "code",
   "execution_count": 6,
   "metadata": {},
   "outputs": [
    {
     "data": {
      "text/plain": [
       "174"
      ]
     },
     "execution_count": 6,
     "metadata": {},
     "output_type": "execute_result"
    }
   ],
   "source": [
    "#Q1: How many countries do we have in our dataset?\n",
    "len(countries)"
   ]
  },
  {
   "cell_type": "code",
   "execution_count": 7,
   "metadata": {},
   "outputs": [
    {
     "data": {
      "text/plain": [
       "6261901793"
      ]
     },
     "execution_count": 7,
     "metadata": {},
     "output_type": "execute_result"
    }
   ],
   "source": [
    "#Q2: what is the total population across all the countries in our dataset?\n",
    "countries[\"population\"].sum()"
   ]
  },
  {
   "cell_type": "code",
   "execution_count": 8,
   "metadata": {},
   "outputs": [
    {
     "data": {
      "text/html": [
       "<div>\n",
       "<style scoped>\n",
       "    .dataframe tbody tr th:only-of-type {\n",
       "        vertical-align: middle;\n",
       "    }\n",
       "\n",
       "    .dataframe tbody tr th {\n",
       "        vertical-align: top;\n",
       "    }\n",
       "\n",
       "    .dataframe thead th {\n",
       "        text-align: right;\n",
       "    }\n",
       "</style>\n",
       "<table border=\"1\" class=\"dataframe\">\n",
       "  <thead>\n",
       "    <tr style=\"text-align: right;\">\n",
       "      <th></th>\n",
       "      <th>country</th>\n",
       "      <th>capital</th>\n",
       "      <th>latitude</th>\n",
       "      <th>longitude</th>\n",
       "    </tr>\n",
       "  </thead>\n",
       "  <tbody>\n",
       "    <tr>\n",
       "      <th>0</th>\n",
       "      <td>Afghanistan</td>\n",
       "      <td>Kabul</td>\n",
       "      <td>34.516667</td>\n",
       "      <td>69.183333</td>\n",
       "    </tr>\n",
       "    <tr>\n",
       "      <th>1</th>\n",
       "      <td>Albania</td>\n",
       "      <td>Tirana</td>\n",
       "      <td>41.316667</td>\n",
       "      <td>19.816667</td>\n",
       "    </tr>\n",
       "    <tr>\n",
       "      <th>2</th>\n",
       "      <td>Algeria</td>\n",
       "      <td>Algiers</td>\n",
       "      <td>36.750000</td>\n",
       "      <td>3.050000</td>\n",
       "    </tr>\n",
       "    <tr>\n",
       "      <th>3</th>\n",
       "      <td>Anguilla</td>\n",
       "      <td>The Valley</td>\n",
       "      <td>18.216667</td>\n",
       "      <td>-63.050000</td>\n",
       "    </tr>\n",
       "    <tr>\n",
       "      <th>4</th>\n",
       "      <td>Argentina</td>\n",
       "      <td>Buenos Aires</td>\n",
       "      <td>-34.583333</td>\n",
       "      <td>-58.666667</td>\n",
       "    </tr>\n",
       "  </tbody>\n",
       "</table>\n",
       "</div>"
      ],
      "text/plain": [
       "       country       capital   latitude  longitude\n",
       "0  Afghanistan         Kabul  34.516667  69.183333\n",
       "1      Albania        Tirana  41.316667  19.816667\n",
       "2      Algeria       Algiers  36.750000   3.050000\n",
       "3     Anguilla    The Valley  18.216667 -63.050000\n",
       "4    Argentina  Buenos Aires -34.583333 -58.666667"
      ]
     },
     "execution_count": 8,
     "metadata": {},
     "output_type": "execute_result"
    }
   ],
   "source": [
    "download(\"capitals.json\", \"https://raw.githubusercontent.com/msyamkumar/cs220-projects/master/spring20/p10/capitals.json\")\n",
    "capitals = pd.read_json('capitals.json')\n",
    "capitals.head()"
   ]
  },
  {
   "cell_type": "code",
   "execution_count": 9,
   "metadata": {},
   "outputs": [
    {
     "data": {
      "text/plain": [
       "['Abu Dhabi',\n",
       " 'Abuja',\n",
       " 'Accra',\n",
       " 'Addis Ababa',\n",
       " 'Algiers',\n",
       " 'Amman',\n",
       " 'Amsterdam',\n",
       " 'Ankara',\n",
       " 'Antananarivo',\n",
       " 'Apia',\n",
       " 'Ashgabat',\n",
       " 'Asmara',\n",
       " 'Astana',\n",
       " 'Asuncion',\n",
       " 'Athens',\n",
       " 'Baghdad',\n",
       " 'Baku',\n",
       " 'Bamako',\n",
       " 'Bangkok',\n",
       " 'Beijing',\n",
       " 'Beirut',\n",
       " 'Belmopan',\n",
       " 'Berlin',\n",
       " 'Bern',\n",
       " 'Bishkek',\n",
       " 'Bissau',\n",
       " 'Bogota',\n",
       " 'Brasilia',\n",
       " 'Bridgetown',\n",
       " 'Brussels',\n",
       " 'Bucharest',\n",
       " 'Budapest',\n",
       " 'Buenos Aires',\n",
       " 'Bujumbura',\n",
       " 'Cairo',\n",
       " 'Canberra',\n",
       " 'Caracas',\n",
       " 'Castries',\n",
       " 'Chisinau',\n",
       " 'Colombo',\n",
       " 'Conakry',\n",
       " 'Copenhagen',\n",
       " 'Dakar',\n",
       " 'Damascus',\n",
       " 'Dar es Salaam',\n",
       " 'Dhaka',\n",
       " 'Djibouti',\n",
       " 'Doha',\n",
       " 'Dublin',\n",
       " 'Dushanbe',\n",
       " 'Freetown',\n",
       " 'Gaborone',\n",
       " 'George Town',\n",
       " 'Georgetown',\n",
       " 'Guatemala City',\n",
       " 'Hagatna',\n",
       " 'Hamilton',\n",
       " 'Hanoi',\n",
       " 'Harare',\n",
       " 'Havana',\n",
       " 'Helsinki',\n",
       " 'Islamabad',\n",
       " 'Jakarta',\n",
       " 'Jamestown',\n",
       " 'Jerusalem',\n",
       " 'Kabul',\n",
       " 'Kampala',\n",
       " 'Kathmandu',\n",
       " 'Khartoum',\n",
       " 'Kigali',\n",
       " 'Kingston',\n",
       " 'Kingstown',\n",
       " 'Kuala Lumpur',\n",
       " 'Kuwait City',\n",
       " 'Kyiv',\n",
       " 'La Paz',\n",
       " 'Libreville',\n",
       " 'Lilongwe',\n",
       " 'Lima',\n",
       " 'Lisbon',\n",
       " 'Ljubljana',\n",
       " 'Lome',\n",
       " 'London',\n",
       " 'Lusaka',\n",
       " 'Luxembourg',\n",
       " 'Madrid',\n",
       " 'Majuro',\n",
       " 'Malabo',\n",
       " 'Male',\n",
       " 'Managua',\n",
       " 'Manama',\n",
       " 'Manila',\n",
       " 'Maputo',\n",
       " 'Maseru',\n",
       " 'Mbabane',\n",
       " 'Melekeok',\n",
       " 'Mexico City',\n",
       " 'Minsk',\n",
       " 'Mogadishu',\n",
       " 'Monaco',\n",
       " 'Monrovia',\n",
       " 'Montevideo',\n",
       " 'Moroni',\n",
       " 'Moscow',\n",
       " 'Muscat',\n",
       " 'Nairobi',\n",
       " 'New Delhi',\n",
       " 'Niamey',\n",
       " 'Nouakchott',\n",
       " 'Noumea',\n",
       " 'Nuku’alofa',\n",
       " 'N’Djamena',\n",
       " 'Oranjestad',\n",
       " 'Oslo',\n",
       " 'Ottawa',\n",
       " 'Ouagadougou',\n",
       " 'Panama City',\n",
       " 'Papeete',\n",
       " 'Paramaribo',\n",
       " 'Paris',\n",
       " 'Phnom Penh',\n",
       " 'Port Louis',\n",
       " 'Port Moresby',\n",
       " 'Port-Vila',\n",
       " 'Port-au-Prince',\n",
       " 'Porto-Novo',\n",
       " 'Prague',\n",
       " 'Praia',\n",
       " 'Pretoria',\n",
       " 'Quito',\n",
       " 'Rabat',\n",
       " 'Reykjavik',\n",
       " 'Riga',\n",
       " 'Riyadh',\n",
       " 'Rome',\n",
       " 'Roseau',\n",
       " 'Saint George’s',\n",
       " 'San Jose',\n",
       " 'San Juan',\n",
       " 'San Marino',\n",
       " 'San Salvador',\n",
       " 'Sanaa',\n",
       " 'Santiago',\n",
       " 'Santo Domingo',\n",
       " 'Singapore',\n",
       " 'Sofia',\n",
       " 'Stockholm',\n",
       " 'Suva',\n",
       " 'Taipei',\n",
       " 'Tallinn',\n",
       " 'Tashkent',\n",
       " 'Tbilisi',\n",
       " 'Tegucigalpa',\n",
       " 'Tehran',\n",
       " 'The Valley',\n",
       " 'Thimphu',\n",
       " 'Tirana',\n",
       " 'Tokyo',\n",
       " 'Tripoli',\n",
       " 'Tunis',\n",
       " 'Ulaanbaatar',\n",
       " 'Vaduz',\n",
       " 'Valletta',\n",
       " 'Victoria',\n",
       " 'Vienna',\n",
       " 'Vientiane',\n",
       " 'Vilnius',\n",
       " 'Warsaw',\n",
       " 'Washington, D.C.',\n",
       " 'Wellington',\n",
       " 'Windhoek',\n",
       " 'Yaounde',\n",
       " 'Yerevan',\n",
       " 'Zagreb']"
      ]
     },
     "execution_count": 9,
     "metadata": {},
     "output_type": "execute_result"
    }
   ],
   "source": [
    "#Q3: What are the capital names in capitals.json?\n",
    "sorted(list(capitals[\"capital\"]))"
   ]
  },
  {
   "cell_type": "code",
   "execution_count": 10,
   "metadata": {},
   "outputs": [
    {
     "data": {
      "text/plain": [
       "'Rome'"
      ]
     },
     "execution_count": 10,
     "metadata": {},
     "output_type": "execute_result"
    }
   ],
   "source": [
    "#Q4: What is the capital of Italy?\n",
    "next(iter(capitals[capitals[\"country\"] == \"Italy\"][\"capital\"]))"
   ]
  },
  {
   "cell_type": "code",
   "execution_count": 11,
   "metadata": {},
   "outputs": [
    {
     "data": {
      "text/plain": [
       "'Belgium'"
      ]
     },
     "execution_count": 11,
     "metadata": {},
     "output_type": "execute_result"
    }
   ],
   "source": [
    "#Q5: Which country's capital is Brussels?\n",
    "next(iter(capitals[capitals[\"capital\"] == \"Brussels\"][\"country\"]))"
   ]
  },
  {
   "cell_type": "code",
   "execution_count": 12,
   "metadata": {},
   "outputs": [
    {
     "data": {
      "text/plain": [
       "['New Zealand',\n",
       " 'Australia',\n",
       " 'Uruguay',\n",
       " 'Argentina',\n",
       " 'Chile',\n",
       " 'Lesotho',\n",
       " 'Swaziland']"
      ]
     },
     "execution_count": 12,
     "metadata": {},
     "output_type": "execute_result"
    }
   ],
   "source": [
    "#Q6: Which 7 countries have the southern-most capitals?\n",
    "list(capitals.sort_values(by = [\"latitude\"])[:7][\"country\"])"
   ]
  },
  {
   "cell_type": "code",
   "execution_count": 13,
   "metadata": {},
   "outputs": [
    {
     "data": {
      "text/plain": [
       "['Iceland',\n",
       " 'Finland',\n",
       " 'Norway',\n",
       " 'Estonia',\n",
       " 'Sweden',\n",
       " 'Latvia',\n",
       " 'Russia',\n",
       " 'Denmark',\n",
       " 'Lithuania',\n",
       " 'Belarus']"
      ]
     },
     "execution_count": 13,
     "metadata": {},
     "output_type": "execute_result"
    }
   ],
   "source": [
    "#Q7: Which 10 countries have the capitals closest to the North Pole?\n",
    "list(capitals.sort_values(by = [\"latitude\"], ascending = False)[:10][\"country\"])"
   ]
  },
  {
   "cell_type": "code",
   "execution_count": 14,
   "metadata": {},
   "outputs": [
    {
     "data": {
      "text/plain": [
       "1.4349003699749172"
      ]
     },
     "execution_count": 14,
     "metadata": {},
     "output_type": "execute_result"
    }
   ],
   "source": [
    "#Q8: What is the distance between Camp Randall Stadium and the Wisconsin State Capital?\n",
    "\n",
    "from haversine import haversine, Unit\n",
    "\n",
    "randall = [43.070231, -89.411893]  \n",
    "wisc_capital = [43.074645, -89.384113]   \n",
    "haversine(randall, wisc_capital, unit = 'mi') "
   ]
  },
  {
   "cell_type": "code",
   "execution_count": 15,
   "metadata": {},
   "outputs": [
    {
     "data": {
      "text/plain": [
       "521.2217471002617"
      ]
     },
     "execution_count": 15,
     "metadata": {},
     "output_type": "execute_result"
    }
   ],
   "source": [
    "#Q9: What is the distance between Germany and Norway?\n",
    "ger_co = [next(iter(capitals[capitals[\"country\"] == \"Germany\"][\"latitude\"])), next(iter(capitals[capitals[\"country\"] == \"Germany\"][\"longitude\"]))]\n",
    "nor_co = [next(iter(capitals[capitals[\"country\"] == \"Norway\"][\"latitude\"])), next(iter(capitals[capitals[\"country\"] == \"Norway\"][\"longitude\"]))]\n",
    "haversine(ger_co, nor_co, unit = 'mi')  "
   ]
  },
  {
   "cell_type": "code",
   "execution_count": 16,
   "metadata": {},
   "outputs": [
    {
     "data": {
      "text/html": [
       "<div>\n",
       "<style scoped>\n",
       "    .dataframe tbody tr th:only-of-type {\n",
       "        vertical-align: middle;\n",
       "    }\n",
       "\n",
       "    .dataframe tbody tr th {\n",
       "        vertical-align: top;\n",
       "    }\n",
       "\n",
       "    .dataframe thead th {\n",
       "        text-align: right;\n",
       "    }\n",
       "</style>\n",
       "<table border=\"1\" class=\"dataframe\">\n",
       "  <thead>\n",
       "    <tr style=\"text-align: right;\">\n",
       "      <th></th>\n",
       "      <th>Switzerland</th>\n",
       "      <th>Netherlands</th>\n",
       "      <th>Spain</th>\n",
       "    </tr>\n",
       "  </thead>\n",
       "  <tbody>\n",
       "    <tr>\n",
       "      <th>Switzerland</th>\n",
       "      <td>NaN</td>\n",
       "      <td>392.302</td>\n",
       "      <td>715.303</td>\n",
       "    </tr>\n",
       "    <tr>\n",
       "      <th>Netherlands</th>\n",
       "      <td>392.302</td>\n",
       "      <td>NaN</td>\n",
       "      <td>920.326</td>\n",
       "    </tr>\n",
       "    <tr>\n",
       "      <th>Spain</th>\n",
       "      <td>715.303</td>\n",
       "      <td>920.326</td>\n",
       "      <td>NaN</td>\n",
       "    </tr>\n",
       "  </tbody>\n",
       "</table>\n",
       "</div>"
      ],
      "text/plain": [
       "            Switzerland Netherlands    Spain\n",
       "Switzerland         NaN     392.302  715.303\n",
       "Netherlands     392.302         NaN  920.326\n",
       "Spain           715.303     920.326      NaN"
      ]
     },
     "execution_count": 16,
     "metadata": {},
     "output_type": "execute_result"
    }
   ],
   "source": [
    "#Q10: What are the distances between Switzerland, Netherlands and Spain?\n",
    "swi_co = [next(iter(capitals[capitals[\"country\"] == \"Switzerland\"][\"latitude\"])), next(iter(capitals[capitals[\"country\"] == \"Switzerland\"][\"longitude\"]))]\n",
    "net_co = [next(iter(capitals[capitals[\"country\"] == \"Netherlands\"][\"latitude\"])), next(iter(capitals[capitals[\"country\"] == \"Netherlands\"][\"longitude\"]))]\n",
    "spa_co = [next(iter(capitals[capitals[\"country\"] == \"Spain\"][\"latitude\"])), next(iter(capitals[capitals[\"country\"] == \"Spain\"][\"longitude\"]))]\n",
    "\n",
    "dis_q10 = pd.DataFrame(index=[\"Switzerland\", \"Netherlands\", \"Spain\"], \n",
    "                       columns=[\"Switzerland\", \"Netherlands\", \"Spain\"])\n",
    "dis_q10.iloc[0] = [\"NaN\", haversine(swi_co, net_co, unit = 'mi'), haversine(swi_co, spa_co, unit = 'mi')]\n",
    "dis_q10.iloc[1] = [haversine(swi_co, net_co, unit = 'mi'), \"NaN\", haversine(net_co, spa_co, unit = 'mi')]\n",
    "dis_q10.iloc[2] = [haversine(swi_co, spa_co, unit = 'mi'), haversine(spa_co, net_co, unit = 'mi'), \"NaN\"]\n",
    "\n",
    "dis_q10"
   ]
  },
  {
   "cell_type": "code",
   "execution_count": 17,
   "metadata": {},
   "outputs": [
    {
     "data": {
      "text/html": [
       "<div>\n",
       "<style scoped>\n",
       "    .dataframe tbody tr th:only-of-type {\n",
       "        vertical-align: middle;\n",
       "    }\n",
       "\n",
       "    .dataframe tbody tr th {\n",
       "        vertical-align: top;\n",
       "    }\n",
       "\n",
       "    .dataframe thead th {\n",
       "        text-align: right;\n",
       "    }\n",
       "</style>\n",
       "<table border=\"1\" class=\"dataframe\">\n",
       "  <thead>\n",
       "    <tr style=\"text-align: right;\">\n",
       "      <th></th>\n",
       "      <th>Chile</th>\n",
       "      <th>Guyana</th>\n",
       "      <th>Colombia</th>\n",
       "      <th>Suriname</th>\n",
       "      <th>Brazil</th>\n",
       "      <th>Bolivia</th>\n",
       "      <th>Venezuela</th>\n",
       "      <th>Argentina</th>\n",
       "      <th>Peru</th>\n",
       "      <th>Ecuador</th>\n",
       "      <th>Uruguay</th>\n",
       "      <th>Paraguay</th>\n",
       "    </tr>\n",
       "  </thead>\n",
       "  <tbody>\n",
       "    <tr>\n",
       "      <th>Chile</th>\n",
       "      <td>NaN</td>\n",
       "      <td>2899.58</td>\n",
       "      <td>2638.49</td>\n",
       "      <td>2897.83</td>\n",
       "      <td>1871.04</td>\n",
       "      <td>1181.57</td>\n",
       "      <td>3045.78</td>\n",
       "      <td>691.266</td>\n",
       "      <td>1532.55</td>\n",
       "      <td>2351.85</td>\n",
       "      <td>833.985</td>\n",
       "      <td>964.308</td>\n",
       "    </tr>\n",
       "    <tr>\n",
       "      <th>Guyana</th>\n",
       "      <td>2899.58</td>\n",
       "      <td>NaN</td>\n",
       "      <td>1105.84</td>\n",
       "      <td>215.487</td>\n",
       "      <td>1710.26</td>\n",
       "      <td>1748.99</td>\n",
       "      <td>647.421</td>\n",
       "      <td>2859.52</td>\n",
       "      <td>1839.14</td>\n",
       "      <td>1484.23</td>\n",
       "      <td>2880.65</td>\n",
       "      <td>2215.83</td>\n",
       "    </tr>\n",
       "    <tr>\n",
       "      <th>Colombia</th>\n",
       "      <td>2638.49</td>\n",
       "      <td>1105.84</td>\n",
       "      <td>NaN</td>\n",
       "      <td>1304.31</td>\n",
       "      <td>2277.1</td>\n",
       "      <td>1513.17</td>\n",
       "      <td>639.807</td>\n",
       "      <td>2887.37</td>\n",
       "      <td>1168.32</td>\n",
       "      <td>451.319</td>\n",
       "      <td>2964.3</td>\n",
       "      <td>2339.25</td>\n",
       "    </tr>\n",
       "    <tr>\n",
       "      <th>Suriname</th>\n",
       "      <td>2897.83</td>\n",
       "      <td>215.487</td>\n",
       "      <td>1304.31</td>\n",
       "      <td>NaN</td>\n",
       "      <td>1573.77</td>\n",
       "      <td>1780.01</td>\n",
       "      <td>862.058</td>\n",
       "      <td>2801.84</td>\n",
       "      <td>1946.11</td>\n",
       "      <td>1662.86</td>\n",
       "      <td>2811.71</td>\n",
       "      <td>2155.36</td>\n",
       "    </tr>\n",
       "    <tr>\n",
       "      <th>Brazil</th>\n",
       "      <td>1871.04</td>\n",
       "      <td>1710.26</td>\n",
       "      <td>2277.1</td>\n",
       "      <td>1573.77</td>\n",
       "      <td>NaN</td>\n",
       "      <td>1343.23</td>\n",
       "      <td>2230.25</td>\n",
       "      <td>1460.16</td>\n",
       "      <td>1969.14</td>\n",
       "      <td>2346.22</td>\n",
       "      <td>1413.08</td>\n",
       "      <td>908.82</td>\n",
       "    </tr>\n",
       "    <tr>\n",
       "      <th>Bolivia</th>\n",
       "      <td>1181.57</td>\n",
       "      <td>1748.99</td>\n",
       "      <td>1513.17</td>\n",
       "      <td>1780.01</td>\n",
       "      <td>1343.23</td>\n",
       "      <td>NaN</td>\n",
       "      <td>1866.43</td>\n",
       "      <td>1380.42</td>\n",
       "      <td>670.394</td>\n",
       "      <td>1327.68</td>\n",
       "      <td>1468.28</td>\n",
       "      <td>907.432</td>\n",
       "    </tr>\n",
       "    <tr>\n",
       "      <th>Venezuela</th>\n",
       "      <td>3045.78</td>\n",
       "      <td>647.421</td>\n",
       "      <td>639.807</td>\n",
       "      <td>862.058</td>\n",
       "      <td>2230.25</td>\n",
       "      <td>1866.43</td>\n",
       "      <td>NaN</td>\n",
       "      <td>3159.83</td>\n",
       "      <td>1706.61</td>\n",
       "      <td>1088.82</td>\n",
       "      <td>3209.59</td>\n",
       "      <td>2546.58</td>\n",
       "    </tr>\n",
       "    <tr>\n",
       "      <th>Argentina</th>\n",
       "      <td>691.266</td>\n",
       "      <td>2859.52</td>\n",
       "      <td>2887.37</td>\n",
       "      <td>2801.84</td>\n",
       "      <td>1460.16</td>\n",
       "      <td>1380.42</td>\n",
       "      <td>3159.83</td>\n",
       "      <td>NaN</td>\n",
       "      <td>1937.82</td>\n",
       "      <td>2698.03</td>\n",
       "      <td>143.17</td>\n",
       "      <td>646.487</td>\n",
       "    </tr>\n",
       "    <tr>\n",
       "      <th>Peru</th>\n",
       "      <td>1532.55</td>\n",
       "      <td>1839.14</td>\n",
       "      <td>1168.32</td>\n",
       "      <td>1946.11</td>\n",
       "      <td>1969.14</td>\n",
       "      <td>670.394</td>\n",
       "      <td>1706.61</td>\n",
       "      <td>1937.82</td>\n",
       "      <td>NaN</td>\n",
       "      <td>823.629</td>\n",
       "      <td>2048</td>\n",
       "      <td>1559.72</td>\n",
       "    </tr>\n",
       "    <tr>\n",
       "      <th>Ecuador</th>\n",
       "      <td>2351.85</td>\n",
       "      <td>1484.23</td>\n",
       "      <td>451.319</td>\n",
       "      <td>1662.86</td>\n",
       "      <td>2346.22</td>\n",
       "      <td>1327.68</td>\n",
       "      <td>1088.82</td>\n",
       "      <td>2698.03</td>\n",
       "      <td>823.629</td>\n",
       "      <td>NaN</td>\n",
       "      <td>2793.15</td>\n",
       "      <td>2220.2</td>\n",
       "    </tr>\n",
       "    <tr>\n",
       "      <th>Uruguay</th>\n",
       "      <td>833.985</td>\n",
       "      <td>2880.65</td>\n",
       "      <td>2964.3</td>\n",
       "      <td>2811.71</td>\n",
       "      <td>1413.08</td>\n",
       "      <td>1468.28</td>\n",
       "      <td>3209.59</td>\n",
       "      <td>143.17</td>\n",
       "      <td>2048</td>\n",
       "      <td>2793.15</td>\n",
       "      <td>NaN</td>\n",
       "      <td>668.165</td>\n",
       "    </tr>\n",
       "    <tr>\n",
       "      <th>Paraguay</th>\n",
       "      <td>964.308</td>\n",
       "      <td>2215.83</td>\n",
       "      <td>2339.25</td>\n",
       "      <td>2155.36</td>\n",
       "      <td>908.82</td>\n",
       "      <td>907.432</td>\n",
       "      <td>2546.58</td>\n",
       "      <td>646.487</td>\n",
       "      <td>1559.72</td>\n",
       "      <td>2220.2</td>\n",
       "      <td>668.165</td>\n",
       "      <td>NaN</td>\n",
       "    </tr>\n",
       "  </tbody>\n",
       "</table>\n",
       "</div>"
      ],
      "text/plain": [
       "             Chile   Guyana Colombia Suriname   Brazil  Bolivia Venezuela  \\\n",
       "Chile          NaN  2899.58  2638.49  2897.83  1871.04  1181.57   3045.78   \n",
       "Guyana     2899.58      NaN  1105.84  215.487  1710.26  1748.99   647.421   \n",
       "Colombia   2638.49  1105.84      NaN  1304.31   2277.1  1513.17   639.807   \n",
       "Suriname   2897.83  215.487  1304.31      NaN  1573.77  1780.01   862.058   \n",
       "Brazil     1871.04  1710.26   2277.1  1573.77      NaN  1343.23   2230.25   \n",
       "Bolivia    1181.57  1748.99  1513.17  1780.01  1343.23      NaN   1866.43   \n",
       "Venezuela  3045.78  647.421  639.807  862.058  2230.25  1866.43       NaN   \n",
       "Argentina  691.266  2859.52  2887.37  2801.84  1460.16  1380.42   3159.83   \n",
       "Peru       1532.55  1839.14  1168.32  1946.11  1969.14  670.394   1706.61   \n",
       "Ecuador    2351.85  1484.23  451.319  1662.86  2346.22  1327.68   1088.82   \n",
       "Uruguay    833.985  2880.65   2964.3  2811.71  1413.08  1468.28   3209.59   \n",
       "Paraguay   964.308  2215.83  2339.25  2155.36   908.82  907.432   2546.58   \n",
       "\n",
       "          Argentina     Peru  Ecuador  Uruguay Paraguay  \n",
       "Chile       691.266  1532.55  2351.85  833.985  964.308  \n",
       "Guyana      2859.52  1839.14  1484.23  2880.65  2215.83  \n",
       "Colombia    2887.37  1168.32  451.319   2964.3  2339.25  \n",
       "Suriname    2801.84  1946.11  1662.86  2811.71  2155.36  \n",
       "Brazil      1460.16  1969.14  2346.22  1413.08   908.82  \n",
       "Bolivia     1380.42  670.394  1327.68  1468.28  907.432  \n",
       "Venezuela   3159.83  1706.61  1088.82  3209.59  2546.58  \n",
       "Argentina       NaN  1937.82  2698.03   143.17  646.487  \n",
       "Peru        1937.82      NaN  823.629     2048  1559.72  \n",
       "Ecuador     2698.03  823.629      NaN  2793.15   2220.2  \n",
       "Uruguay      143.17     2048  2793.15      NaN  668.165  \n",
       "Paraguay    646.487  1559.72   2220.2  668.165      NaN  "
      ]
     },
     "execution_count": 17,
     "metadata": {},
     "output_type": "execute_result"
    }
   ],
   "source": [
    "#Q11: What is the distance between every pair of countries in the South American continent?\n",
    "sa_countries = list(countries[countries[\"continent\"] == \"South America\"]['country'])\n",
    "sa_cos = []\n",
    "for country in sa_countries:\n",
    "    co = [next(iter(capitals[capitals[\"country\"] == country][\"latitude\"])), \n",
    "          next(iter(capitals[capitals[\"country\"] == country][\"longitude\"]))]\n",
    "    sa_cos.append(co)\n",
    "df_q11 = pd.DataFrame(index = sa_countries, columns = sa_countries)\n",
    "\n",
    "for i in range(len(sa_countries)):\n",
    "    country = sa_countries[i]\n",
    "    co = sa_cos[i]\n",
    "    for j in range(len(sa_countries)):\n",
    "        country2 = sa_countries[j]\n",
    "        co2 = sa_cos[j]\n",
    "        if i == j:\n",
    "            df_q11[str(country)][str(country2)] = \"NaN\"\n",
    "        else:\n",
    "            df_q11[str(country)][str(country2)] = haversine(co, co2, unit = 'mi')\n",
    "df_q11"
   ]
  },
  {
   "cell_type": "code",
   "execution_count": 18,
   "metadata": {},
   "outputs": [
    {
     "data": {
      "text/plain": [
       "'Bolivia'"
      ]
     },
     "execution_count": 18,
     "metadata": {},
     "output_type": "execute_result"
    }
   ],
   "source": [
    "#Q12: What is the most central country in the South American continent?\n",
    "df_q11 = df_q11.astype(float)\n",
    "df_q11.mean().sort_values().index[0]"
   ]
  },
  {
   "cell_type": "code",
   "execution_count": 19,
   "metadata": {},
   "outputs": [
    {
     "data": {
      "text/plain": [
       "'Uruguay'"
      ]
     },
     "execution_count": 19,
     "metadata": {},
     "output_type": "execute_result"
    }
   ],
   "source": [
    "#Q13: What is the least central country in South America?\n",
    "df_q11.mean().sort_values(ascending = False).index[0]"
   ]
  },
  {
   "cell_type": "code",
   "execution_count": 20,
   "metadata": {},
   "outputs": [
    {
     "data": {
      "text/html": [
       "<div>\n",
       "<style scoped>\n",
       "    .dataframe tbody tr th:only-of-type {\n",
       "        vertical-align: middle;\n",
       "    }\n",
       "\n",
       "    .dataframe tbody tr th {\n",
       "        vertical-align: top;\n",
       "    }\n",
       "\n",
       "    .dataframe thead th {\n",
       "        text-align: right;\n",
       "    }\n",
       "</style>\n",
       "<table border=\"1\" class=\"dataframe\">\n",
       "  <thead>\n",
       "    <tr style=\"text-align: right;\">\n",
       "      <th></th>\n",
       "      <th>nearest</th>\n",
       "      <th>distance</th>\n",
       "    </tr>\n",
       "  </thead>\n",
       "  <tbody>\n",
       "    <tr>\n",
       "      <th>Chile</th>\n",
       "      <td>Argentina</td>\n",
       "      <td>691.266343</td>\n",
       "    </tr>\n",
       "    <tr>\n",
       "      <th>Guyana</th>\n",
       "      <td>Suriname</td>\n",
       "      <td>215.486643</td>\n",
       "    </tr>\n",
       "    <tr>\n",
       "      <th>Colombia</th>\n",
       "      <td>Ecuador</td>\n",
       "      <td>451.318925</td>\n",
       "    </tr>\n",
       "    <tr>\n",
       "      <th>Suriname</th>\n",
       "      <td>Guyana</td>\n",
       "      <td>215.486643</td>\n",
       "    </tr>\n",
       "    <tr>\n",
       "      <th>Brazil</th>\n",
       "      <td>Paraguay</td>\n",
       "      <td>908.819633</td>\n",
       "    </tr>\n",
       "    <tr>\n",
       "      <th>Bolivia</th>\n",
       "      <td>Peru</td>\n",
       "      <td>670.393988</td>\n",
       "    </tr>\n",
       "    <tr>\n",
       "      <th>Venezuela</th>\n",
       "      <td>Colombia</td>\n",
       "      <td>639.807399</td>\n",
       "    </tr>\n",
       "    <tr>\n",
       "      <th>Argentina</th>\n",
       "      <td>Uruguay</td>\n",
       "      <td>143.169807</td>\n",
       "    </tr>\n",
       "    <tr>\n",
       "      <th>Peru</th>\n",
       "      <td>Bolivia</td>\n",
       "      <td>670.393988</td>\n",
       "    </tr>\n",
       "    <tr>\n",
       "      <th>Ecuador</th>\n",
       "      <td>Colombia</td>\n",
       "      <td>451.318925</td>\n",
       "    </tr>\n",
       "    <tr>\n",
       "      <th>Uruguay</th>\n",
       "      <td>Argentina</td>\n",
       "      <td>143.169807</td>\n",
       "    </tr>\n",
       "    <tr>\n",
       "      <th>Paraguay</th>\n",
       "      <td>Argentina</td>\n",
       "      <td>646.487382</td>\n",
       "    </tr>\n",
       "  </tbody>\n",
       "</table>\n",
       "</div>"
      ],
      "text/plain": [
       "             nearest    distance\n",
       "Chile      Argentina  691.266343\n",
       "Guyana      Suriname  215.486643\n",
       "Colombia     Ecuador  451.318925\n",
       "Suriname      Guyana  215.486643\n",
       "Brazil      Paraguay  908.819633\n",
       "Bolivia         Peru  670.393988\n",
       "Venezuela   Colombia  639.807399\n",
       "Argentina    Uruguay  143.169807\n",
       "Peru         Bolivia  670.393988\n",
       "Ecuador     Colombia  451.318925\n",
       "Uruguay    Argentina  143.169807\n",
       "Paraguay   Argentina  646.487382"
      ]
     },
     "execution_count": 20,
     "metadata": {},
     "output_type": "execute_result"
    }
   ],
   "source": [
    "#Q14: How close is each country in South America to it's nearest neighbor?\n",
    "df_q14 = pd.DataFrame(df_q11.idxmin(), columns = [\"nearest\"])\n",
    "df_q14[\"distance\"] = df_q11.min().values\n",
    "df_q14"
   ]
  },
  {
   "cell_type": "code",
   "execution_count": 21,
   "metadata": {},
   "outputs": [
    {
     "data": {
      "text/html": [
       "<div>\n",
       "<style scoped>\n",
       "    .dataframe tbody tr th:only-of-type {\n",
       "        vertical-align: middle;\n",
       "    }\n",
       "\n",
       "    .dataframe tbody tr th {\n",
       "        vertical-align: top;\n",
       "    }\n",
       "\n",
       "    .dataframe thead th {\n",
       "        text-align: right;\n",
       "    }\n",
       "</style>\n",
       "<table border=\"1\" class=\"dataframe\">\n",
       "  <thead>\n",
       "    <tr style=\"text-align: right;\">\n",
       "      <th></th>\n",
       "      <th>furthest</th>\n",
       "      <th>distance</th>\n",
       "    </tr>\n",
       "  </thead>\n",
       "  <tbody>\n",
       "    <tr>\n",
       "      <th>Chile</th>\n",
       "      <td>Venezuela</td>\n",
       "      <td>3045.782196</td>\n",
       "    </tr>\n",
       "    <tr>\n",
       "      <th>Guyana</th>\n",
       "      <td>Chile</td>\n",
       "      <td>2899.575619</td>\n",
       "    </tr>\n",
       "    <tr>\n",
       "      <th>Colombia</th>\n",
       "      <td>Uruguay</td>\n",
       "      <td>2964.298613</td>\n",
       "    </tr>\n",
       "    <tr>\n",
       "      <th>Suriname</th>\n",
       "      <td>Chile</td>\n",
       "      <td>2897.832084</td>\n",
       "    </tr>\n",
       "    <tr>\n",
       "      <th>Brazil</th>\n",
       "      <td>Ecuador</td>\n",
       "      <td>2346.221468</td>\n",
       "    </tr>\n",
       "    <tr>\n",
       "      <th>Bolivia</th>\n",
       "      <td>Venezuela</td>\n",
       "      <td>1866.433063</td>\n",
       "    </tr>\n",
       "    <tr>\n",
       "      <th>Venezuela</th>\n",
       "      <td>Uruguay</td>\n",
       "      <td>3209.590944</td>\n",
       "    </tr>\n",
       "    <tr>\n",
       "      <th>Argentina</th>\n",
       "      <td>Venezuela</td>\n",
       "      <td>3159.828108</td>\n",
       "    </tr>\n",
       "    <tr>\n",
       "      <th>Peru</th>\n",
       "      <td>Uruguay</td>\n",
       "      <td>2048.000119</td>\n",
       "    </tr>\n",
       "    <tr>\n",
       "      <th>Ecuador</th>\n",
       "      <td>Uruguay</td>\n",
       "      <td>2793.145008</td>\n",
       "    </tr>\n",
       "    <tr>\n",
       "      <th>Uruguay</th>\n",
       "      <td>Venezuela</td>\n",
       "      <td>3209.590944</td>\n",
       "    </tr>\n",
       "    <tr>\n",
       "      <th>Paraguay</th>\n",
       "      <td>Venezuela</td>\n",
       "      <td>2546.575870</td>\n",
       "    </tr>\n",
       "  </tbody>\n",
       "</table>\n",
       "</div>"
      ],
      "text/plain": [
       "            furthest     distance\n",
       "Chile      Venezuela  3045.782196\n",
       "Guyana         Chile  2899.575619\n",
       "Colombia     Uruguay  2964.298613\n",
       "Suriname       Chile  2897.832084\n",
       "Brazil       Ecuador  2346.221468\n",
       "Bolivia    Venezuela  1866.433063\n",
       "Venezuela    Uruguay  3209.590944\n",
       "Argentina  Venezuela  3159.828108\n",
       "Peru         Uruguay  2048.000119\n",
       "Ecuador      Uruguay  2793.145008\n",
       "Uruguay    Venezuela  3209.590944\n",
       "Paraguay   Venezuela  2546.575870"
      ]
     },
     "execution_count": 21,
     "metadata": {},
     "output_type": "execute_result"
    }
   ],
   "source": [
    "#Q15: How far is each country in South America to it's furthest neighbor?\n",
    "df_q15 = pd.DataFrame(df_q11.idxmax(), columns = [\"furthest\"])\n",
    "df_q15[\"distance\"] = df_q11.max().values\n",
    "df_q15"
   ]
  },
  {
   "cell_type": "code",
   "execution_count": 22,
   "metadata": {},
   "outputs": [],
   "source": [
    "conn = sqlite3.connect('countries.db')\n",
    "countries.to_sql(\"countries\", conn, if_exists=\"replace\", index=False)\n",
    "capitals.to_sql(\"capitals\", conn, if_exists=\"replace\", index=False)\n",
    "\n",
    "# remember to do conn.close() at the end of your notebook"
   ]
  },
  {
   "cell_type": "code",
   "execution_count": 23,
   "metadata": {},
   "outputs": [
    {
     "data": {
      "text/html": [
       "<div>\n",
       "<style scoped>\n",
       "    .dataframe tbody tr th:only-of-type {\n",
       "        vertical-align: middle;\n",
       "    }\n",
       "\n",
       "    .dataframe tbody tr th {\n",
       "        vertical-align: top;\n",
       "    }\n",
       "\n",
       "    .dataframe thead th {\n",
       "        text-align: right;\n",
       "    }\n",
       "</style>\n",
       "<table border=\"1\" class=\"dataframe\">\n",
       "  <thead>\n",
       "    <tr style=\"text-align: right;\">\n",
       "      <th></th>\n",
       "      <th>continent</th>\n",
       "      <th>number of countries</th>\n",
       "    </tr>\n",
       "  </thead>\n",
       "  <tbody>\n",
       "    <tr>\n",
       "      <th>0</th>\n",
       "      <td>Australia</td>\n",
       "      <td>12</td>\n",
       "    </tr>\n",
       "    <tr>\n",
       "      <th>1</th>\n",
       "      <td>South America</td>\n",
       "      <td>12</td>\n",
       "    </tr>\n",
       "    <tr>\n",
       "      <th>2</th>\n",
       "      <td>North America</td>\n",
       "      <td>24</td>\n",
       "    </tr>\n",
       "    <tr>\n",
       "      <th>3</th>\n",
       "      <td>Asia</td>\n",
       "      <td>38</td>\n",
       "    </tr>\n",
       "    <tr>\n",
       "      <th>4</th>\n",
       "      <td>Europe</td>\n",
       "      <td>41</td>\n",
       "    </tr>\n",
       "    <tr>\n",
       "      <th>5</th>\n",
       "      <td>Africa</td>\n",
       "      <td>47</td>\n",
       "    </tr>\n",
       "  </tbody>\n",
       "</table>\n",
       "</div>"
      ],
      "text/plain": [
       "       continent  number of countries\n",
       "0      Australia                   12\n",
       "1  South America                   12\n",
       "2  North America                   24\n",
       "3           Asia                   38\n",
       "4         Europe                   41\n",
       "5         Africa                   47"
      ]
     },
     "execution_count": 23,
     "metadata": {},
     "output_type": "execute_result"
    }
   ],
   "source": [
    "#Q16: In our dataset, how many countries are in each continent?\n",
    "def qry(sql):\n",
    "    return pd.read_sql(sql, conn)\n",
    "\n",
    "qry (\"\"\"\n",
    "SELECT continent, count(*) as `number of countries`\n",
    "FROM countries\n",
    "group by continent\n",
    "order by `number of countries` \n",
    "\"\"\")"
   ]
  },
  {
   "cell_type": "code",
   "execution_count": 24,
   "metadata": {},
   "outputs": [
    {
     "data": {
      "text/plain": [
       "Text(0, 0.5, 'number of countries')"
      ]
     },
     "execution_count": 24,
     "metadata": {},
     "output_type": "execute_result"
    },
    {
     "data": {
      "image/png": "[encoded data removed]",
      "text/plain": [
       "<Figure size 432x288 with 1 Axes>"
      ]
     },
     "metadata": {
      "needs_background": "light"
     },
     "output_type": "display_data"
    }
   ],
   "source": [
    "#Q17: How many countries are in each continent? (answer with a plot)\n",
    "df_q17 = qry (\"\"\"\n",
    "SELECT continent, count(*) as `number of countries`\n",
    "FROM countries\n",
    "group by continent\n",
    "order by `number of countries` \n",
    "\"\"\")\n",
    "\n",
    "matplotlib.rcParams[\"font.size\"] = 14\n",
    "ax_q17 = df_q17.plot.bar(x = \"continent\", y = \"number of countries\", color = \"black\", legend = False)\n",
    "ax_q17.set_ylabel(\"number of countries\")"
   ]
  },
  {
   "cell_type": "code",
   "execution_count": 25,
   "metadata": {},
   "outputs": [
    {
     "data": {
      "text/html": [
       "<div>\n",
       "<style scoped>\n",
       "    .dataframe tbody tr th:only-of-type {\n",
       "        vertical-align: middle;\n",
       "    }\n",
       "\n",
       "    .dataframe tbody tr th {\n",
       "        vertical-align: top;\n",
       "    }\n",
       "\n",
       "    .dataframe thead th {\n",
       "        text-align: right;\n",
       "    }\n",
       "</style>\n",
       "<table border=\"1\" class=\"dataframe\">\n",
       "  <thead>\n",
       "    <tr style=\"text-align: right;\">\n",
       "      <th></th>\n",
       "      <th>continent</th>\n",
       "      <th>total area</th>\n",
       "    </tr>\n",
       "  </thead>\n",
       "  <tbody>\n",
       "    <tr>\n",
       "      <th>0</th>\n",
       "      <td>Asia</td>\n",
       "      <td>29731231</td>\n",
       "    </tr>\n",
       "    <tr>\n",
       "      <th>1</th>\n",
       "      <td>Africa</td>\n",
       "      <td>25199550</td>\n",
       "    </tr>\n",
       "    <tr>\n",
       "      <th>2</th>\n",
       "      <td>Europe</td>\n",
       "      <td>23708430</td>\n",
       "    </tr>\n",
       "    <tr>\n",
       "      <th>3</th>\n",
       "      <td>North America</td>\n",
       "      <td>22327685</td>\n",
       "    </tr>\n",
       "    <tr>\n",
       "      <th>4</th>\n",
       "      <td>South America</td>\n",
       "      <td>17715335</td>\n",
       "    </tr>\n",
       "    <tr>\n",
       "      <th>5</th>\n",
       "      <td>Australia</td>\n",
       "      <td>8488612</td>\n",
       "    </tr>\n",
       "  </tbody>\n",
       "</table>\n",
       "</div>"
      ],
      "text/plain": [
       "       continent  total area\n",
       "0           Asia    29731231\n",
       "1         Africa    25199550\n",
       "2         Europe    23708430\n",
       "3  North America    22327685\n",
       "4  South America    17715335\n",
       "5      Australia     8488612"
      ]
     },
     "execution_count": 25,
     "metadata": {},
     "output_type": "execute_result"
    }
   ],
   "source": [
    "#Q18: What is the total area of each continent?\n",
    "df_q18 = qry (\"\"\"\n",
    "SELECT continent, sum(area) as `total area`\n",
    "FROM countries\n",
    "group by continent\n",
    "order by `total area` desc\n",
    "\"\"\")\n",
    "df_q18"
   ]
  },
  {
   "cell_type": "code",
   "execution_count": 26,
   "metadata": {},
   "outputs": [
    {
     "data": {
      "text/plain": [
       "Text(0, 0.5, 'total area')"
      ]
     },
     "execution_count": 26,
     "metadata": {},
     "output_type": "execute_result"
    },
    {
     "data": {
      "image/png": "[encoded data removed]",
      "text/plain": [
       "<Figure size 432x288 with 1 Axes>"
      ]
     },
     "metadata": {
      "needs_background": "light"
     },
     "output_type": "display_data"
    }
   ],
   "source": [
    "#Q19: What is the total area of each continent? (answer with a plot)\n",
    "df_q18[\"total area\"] = df_q18[\"total area\"].astype(float)\n",
    "matplotlib.rcParams[\"font.size\"] = 16\n",
    "ax_q19 = df_q18.plot.bar(x = \"continent\", y = \"total area\", color = \"black\", legend = False)\n",
    "ax_q19.set_ylabel(\"total area\")"
   ]
  },
  {
   "cell_type": "code",
   "execution_count": 27,
   "metadata": {},
   "outputs": [
    {
     "data": {
      "text/html": [
       "<div>\n",
       "<style scoped>\n",
       "    .dataframe tbody tr th:only-of-type {\n",
       "        vertical-align: middle;\n",
       "    }\n",
       "\n",
       "    .dataframe tbody tr th {\n",
       "        vertical-align: top;\n",
       "    }\n",
       "\n",
       "    .dataframe thead th {\n",
       "        text-align: right;\n",
       "    }\n",
       "</style>\n",
       "<table border=\"1\" class=\"dataframe\">\n",
       "  <thead>\n",
       "    <tr style=\"text-align: right;\">\n",
       "      <th></th>\n",
       "      <th>country</th>\n",
       "      <th>area</th>\n",
       "    </tr>\n",
       "  </thead>\n",
       "  <tbody>\n",
       "    <tr>\n",
       "      <th>0</th>\n",
       "      <td>Brazil</td>\n",
       "      <td>8511965</td>\n",
       "    </tr>\n",
       "    <tr>\n",
       "      <th>1</th>\n",
       "      <td>Argentina</td>\n",
       "      <td>2766890</td>\n",
       "    </tr>\n",
       "    <tr>\n",
       "      <th>2</th>\n",
       "      <td>Peru</td>\n",
       "      <td>1285220</td>\n",
       "    </tr>\n",
       "    <tr>\n",
       "      <th>3</th>\n",
       "      <td>Colombia</td>\n",
       "      <td>1138910</td>\n",
       "    </tr>\n",
       "    <tr>\n",
       "      <th>4</th>\n",
       "      <td>Bolivia</td>\n",
       "      <td>1098580</td>\n",
       "    </tr>\n",
       "    <tr>\n",
       "      <th>5</th>\n",
       "      <td>Venezuela</td>\n",
       "      <td>912050</td>\n",
       "    </tr>\n",
       "    <tr>\n",
       "      <th>6</th>\n",
       "      <td>Chile</td>\n",
       "      <td>756950</td>\n",
       "    </tr>\n",
       "    <tr>\n",
       "      <th>7</th>\n",
       "      <td>Paraguay</td>\n",
       "      <td>406750</td>\n",
       "    </tr>\n",
       "    <tr>\n",
       "      <th>8</th>\n",
       "      <td>Ecuador</td>\n",
       "      <td>283560</td>\n",
       "    </tr>\n",
       "    <tr>\n",
       "      <th>9</th>\n",
       "      <td>Guyana</td>\n",
       "      <td>214970</td>\n",
       "    </tr>\n",
       "    <tr>\n",
       "      <th>10</th>\n",
       "      <td>Uruguay</td>\n",
       "      <td>176220</td>\n",
       "    </tr>\n",
       "    <tr>\n",
       "      <th>11</th>\n",
       "      <td>Suriname</td>\n",
       "      <td>163270</td>\n",
       "    </tr>\n",
       "  </tbody>\n",
       "</table>\n",
       "</div>"
      ],
      "text/plain": [
       "      country     area\n",
       "0      Brazil  8511965\n",
       "1   Argentina  2766890\n",
       "2        Peru  1285220\n",
       "3    Colombia  1138910\n",
       "4     Bolivia  1098580\n",
       "5   Venezuela   912050\n",
       "6       Chile   756950\n",
       "7    Paraguay   406750\n",
       "8     Ecuador   283560\n",
       "9      Guyana   214970\n",
       "10    Uruguay   176220\n",
       "11   Suriname   163270"
      ]
     },
     "execution_count": 27,
     "metadata": {},
     "output_type": "execute_result"
    }
   ],
   "source": [
    "#Q20: What is the area of each country in South America?\n",
    "df_q20 = qry (\"\"\"\n",
    "SELECT country, area\n",
    "FROM countries\n",
    "where continent = 'South America'\n",
    "order by area desc\n",
    "\"\"\")\n",
    "df_q20"
   ]
  },
  {
   "cell_type": "code",
   "execution_count": 28,
   "metadata": {},
   "outputs": [
    {
     "data": {
      "text/html": [
       "<div>\n",
       "<style scoped>\n",
       "    .dataframe tbody tr th:only-of-type {\n",
       "        vertical-align: middle;\n",
       "    }\n",
       "\n",
       "    .dataframe tbody tr th {\n",
       "        vertical-align: top;\n",
       "    }\n",
       "\n",
       "    .dataframe thead th {\n",
       "        text-align: right;\n",
       "    }\n",
       "</style>\n",
       "<table border=\"1\" class=\"dataframe\">\n",
       "  <thead>\n",
       "    <tr style=\"text-align: right;\">\n",
       "      <th></th>\n",
       "      <th>country</th>\n",
       "      <th>real GDP (billion)</th>\n",
       "    </tr>\n",
       "  </thead>\n",
       "  <tbody>\n",
       "    <tr>\n",
       "      <th>0</th>\n",
       "      <td>United States</td>\n",
       "      <td>11281.191327</td>\n",
       "    </tr>\n",
       "    <tr>\n",
       "      <th>1</th>\n",
       "      <td>China</td>\n",
       "      <td>6569.868565</td>\n",
       "    </tr>\n",
       "    <tr>\n",
       "      <th>2</th>\n",
       "      <td>Japan</td>\n",
       "      <td>3594.473830</td>\n",
       "    </tr>\n",
       "    <tr>\n",
       "      <th>3</th>\n",
       "      <td>India</td>\n",
       "      <td>3176.520785</td>\n",
       "    </tr>\n",
       "    <tr>\n",
       "      <th>4</th>\n",
       "      <td>Germany</td>\n",
       "      <td>2274.855452</td>\n",
       "    </tr>\n",
       "    <tr>\n",
       "      <th>5</th>\n",
       "      <td>France</td>\n",
       "      <td>1680.181354</td>\n",
       "    </tr>\n",
       "    <tr>\n",
       "      <th>6</th>\n",
       "      <td>United Kingdom</td>\n",
       "      <td>1678.873538</td>\n",
       "    </tr>\n",
       "    <tr>\n",
       "      <th>7</th>\n",
       "      <td>Italy</td>\n",
       "      <td>1552.164690</td>\n",
       "    </tr>\n",
       "  </tbody>\n",
       "</table>\n",
       "</div>"
      ],
      "text/plain": [
       "          country  real GDP (billion)\n",
       "0   United States        11281.191327\n",
       "1           China         6569.868565\n",
       "2           Japan         3594.473830\n",
       "3           India         3176.520785\n",
       "4         Germany         2274.855452\n",
       "5          France         1680.181354\n",
       "6  United Kingdom         1678.873538\n",
       "7           Italy         1552.164690"
      ]
     },
     "execution_count": 28,
     "metadata": {},
     "output_type": "execute_result"
    }
   ],
   "source": [
    "#Q21: What are the top 8 countries that have the largest real GDP?\n",
    "df_q21 = qry('''\n",
    "select country, `gdp-per-capita`*population/1000000000.0 as `real GDP (billion)`\n",
    "from countries\n",
    "order by `real GDP (billion)` desc\n",
    "limit 8\n",
    "''')\n",
    "df_q21"
   ]
  },
  {
   "cell_type": "code",
   "execution_count": 29,
   "metadata": {},
   "outputs": [
    {
     "data": {
      "text/plain": [
       "Text(0, 0.5, 'real GDP (billion)')"
      ]
     },
     "execution_count": 29,
     "metadata": {},
     "output_type": "execute_result"
    },
    {
     "data": {
      "image/png": "[encoded data removed]",
      "text/plain": [
       "<Figure size 432x288 with 1 Axes>"
      ]
     },
     "metadata": {
      "needs_background": "light"
     },
     "output_type": "display_data"
    }
   ],
   "source": [
    "#Q22: What are the top 8 countries that have the largest real GDP? (answer with a plot)\n",
    "df_others = pd.DataFrame([[\"Others\", \"NaN\"]], columns=['country', 'real GDP (billion)'])\n",
    "plot_df_q22 = df_q21.append(df_others, ignore_index=True)\n",
    "\n",
    "df_gdp = qry('''\n",
    "select country, `gdp-per-capita`*population/1000000000.0 as `real GDP (billion)`\n",
    "from countries\n",
    "order by `real GDP (billion)` desc\n",
    "''')\n",
    "df_gdp[8:][\"real GDP (billion)\"].sum()\n",
    "plot_df_q22[\"real GDP (billion)\"][8] = df_gdp[8:][\"real GDP (billion)\"].sum()\n",
    "plot_df_q22\n",
    "\n",
    "ax_q22 = plot_df_q22.plot.bar(x = \"country\", y = \"real GDP (billion)\", color = \"black\", legend = False)\n",
    "ax_q22.set_ylabel(\"real GDP (billion)\")"
   ]
  },
  {
   "cell_type": "code",
   "execution_count": 30,
   "metadata": {},
   "outputs": [
    {
     "data": {
      "text/plain": [
       "Text(0, 0.5, 'net-migration')"
      ]
     },
     "execution_count": 30,
     "metadata": {},
     "output_type": "execute_result"
    },
    {
     "data": {
      "image/png": "[encoded data removed]",
      "text/plain": [
       "<Figure size 432x288 with 1 Axes>"
      ]
     },
     "metadata": {
      "needs_background": "light"
     },
     "output_type": "display_data"
    }
   ],
   "source": [
    "#Q23: What is the relationship between GDP per capita and net-migration?\n",
    "df_q23 = qry('''\n",
    "select `gdp-per-capita`, `net-migration`\n",
    "from countries\n",
    "''')\n",
    "ax_q23 = df_q23.plot.scatter(x = \"gdp-per-capita\", y = \"net-migration\", color = \"black\", legend = False)\n",
    "ax_q23.set_ylabel(\"net-migration\")"
   ]
  },
  {
   "cell_type": "code",
   "execution_count": 31,
   "metadata": {},
   "outputs": [
    {
     "data": {
      "text/plain": [
       "0.4523211325011283"
      ]
     },
     "execution_count": 31,
     "metadata": {},
     "output_type": "execute_result"
    }
   ],
   "source": [
    "#Q24: What is the correlation between GDP per capita and net-migration?\n",
    "countries.corr()[\"gdp-per-capita\"][\"net-migration\"]"
   ]
  },
  {
   "cell_type": "code",
   "execution_count": 32,
   "metadata": {},
   "outputs": [
    {
     "data": {
      "text/plain": [
       "Text(0, 0.5, 'death-rate')"
      ]
     },
     "execution_count": 32,
     "metadata": {},
     "output_type": "execute_result"
    },
    {
     "data": {
      "image/png": "[encoded data removed]",
      "text/plain": [
       "<Figure size 432x288 with 1 Axes>"
      ]
     },
     "metadata": {
      "needs_background": "light"
     },
     "output_type": "display_data"
    }
   ],
   "source": [
    "#Q25: What is the relationship between GDP per capita and death rates?\n",
    "df_q25 = qry('''\n",
    "select `gdp-per-capita`, `death-rate`\n",
    "from countries\n",
    "''')\n",
    "ax_q25 = df_q25.plot.scatter(x = \"gdp-per-capita\", y = \"death-rate\", color = \"black\", legend = False)\n",
    "ax_q25.set_ylabel(\"death-rate\")"
   ]
  },
  {
   "cell_type": "code",
   "execution_count": 33,
   "metadata": {},
   "outputs": [
    {
     "data": {
      "text/plain": [
       "Text(0, 0.5, 'infant-mortality')"
      ]
     },
     "execution_count": 33,
     "metadata": {},
     "output_type": "execute_result"
    },
    {
     "data": {
      "image/png": "[encoded data removed]",
      "text/plain": [
       "<Figure size 432x288 with 1 Axes>"
      ]
     },
     "metadata": {
      "needs_background": "light"
     },
     "output_type": "display_data"
    }
   ],
   "source": [
    "#Q26: What is the relationship between GDP per capita and infant-mortality?\n",
    "df_q26 = qry('''\n",
    "select `gdp-per-capita`, `infant-mortality`\n",
    "from countries\n",
    "''')\n",
    "ax_q26 = df_q26.plot.scatter(x = \"gdp-per-capita\", y = \"infant-mortality\", color = \"black\", legend = False)\n",
    "ax_q26.set_ylabel(\"infant-mortality\")"
   ]
  },
  {
   "cell_type": "code",
   "execution_count": 34,
   "metadata": {},
   "outputs": [
    {
     "data": {
      "text/plain": [
       "Text(0, 0.5, 'inverse')"
      ]
     },
     "execution_count": 34,
     "metadata": {},
     "output_type": "execute_result"
    },
    {
     "data": {
      "image/png": "[encoded data removed]",
      "text/plain": [
       "<Figure size 432x288 with 1 Axes>"
      ]
     },
     "metadata": {
      "needs_background": "light"
     },
     "output_type": "display_data"
    }
   ],
   "source": [
    "#Q27: What is the relationship between GDP per capita and inverse of infant-mortality?\n",
    "df_q27 = qry('''\n",
    "select `gdp-per-capita`, 1/`infant-mortality` as inverse\n",
    "from countries\n",
    "''')\n",
    "ax_q27 = df_q27.plot.scatter(x = \"gdp-per-capita\", y = \"inverse\", color = \"black\", legend = False)\n",
    "ax_q27.set_ylabel(\"inverse\")"
   ]
  },
  {
   "cell_type": "code",
   "execution_count": 35,
   "metadata": {},
   "outputs": [
    {
     "data": {
      "text/plain": [
       "(6.482983154848297e-06, 0.013237849092120857)"
      ]
     },
     "execution_count": 35,
     "metadata": {},
     "output_type": "execute_result"
    }
   ],
   "source": [
    "#Q28: fit a y = m * x + n line to the scatter plot in question 27 using the least-squares method;\n",
    "#what are the coefficients m and n?\n",
    "import numpy as np\n",
    "\n",
    "df_q27[\"1\"] = 1\n",
    "\n",
    "res = np.linalg.lstsq(df_q27[[\"gdp-per-capita\", \"1\"]], df_q27[\"inverse\"], rcond=None)\n",
    "coefficients = res[0] # coefficients is (m,n:\n",
    "m = coefficients[0] # slope\n",
    "n = coefficients[1] # intercept\n",
    "m,n"
   ]
  },
  {
   "cell_type": "code",
   "execution_count": 36,
   "metadata": {},
   "outputs": [
    {
     "data": {
      "text/plain": [
       "2.963955279079342"
      ]
     },
     "execution_count": 36,
     "metadata": {},
     "output_type": "execute_result"
    }
   ],
   "source": [
    "#Q29: When gdp-per-capita = 50000, what is the expected value for infant-mortality?\n",
    "1/(50000*m + n)"
   ]
  },
  {
   "cell_type": "code",
   "execution_count": 37,
   "metadata": {},
   "outputs": [
    {
     "data": {
      "text/plain": [
       "<matplotlib.axes._subplots.AxesSubplot at 0x119b771f0>"
      ]
     },
     "execution_count": 37,
     "metadata": {},
     "output_type": "execute_result"
    },
    {
     "data": {
      "image/png": "[encoded data removed]",
      "text/plain": [
       "<Figure size 432x288 with 1 Axes>"
      ]
     },
     "metadata": {
      "needs_background": "light"
     },
     "output_type": "display_data"
    }
   ],
   "source": [
    "#Q30: plot the regression line to the scatter plot\n",
    "ax = df_q27.plot.scatter(x='gdp-per-capita', y='inverse', color = \"black\")\n",
    "df_q27[\"fit\"] = df_q27[\"gdp-per-capita\"] * m + n\n",
    "df_q27.plot.line(x='gdp-per-capita', y='fit', c='red', ax=ax)"
   ]
  },
  {
   "cell_type": "code",
   "execution_count": 38,
   "metadata": {},
   "outputs": [],
   "source": [
    "conn.close()"
   ]
  },
  {
   "cell_type": "code",
   "execution_count": null,
   "metadata": {},
   "outputs": [],
   "source": []
  }
 ],
 "metadata": {
  "kernelspec": {
   "display_name": "Python 3",
   "language": "python",
   "name": "python3"
  },
  "language_info": {
   "codemirror_mode": {
    "name": "ipython",
    "version": 3
   },
   "file_extension": ".py",
   "mimetype": "text/x-python",
   "name": "python",
   "nbconvert_exporter": "python",
   "pygments_lexer": "ipython3",
   "version": "3.8.1"
  }
 },
 "nbformat": 4,
 "nbformat_minor": 4
}
