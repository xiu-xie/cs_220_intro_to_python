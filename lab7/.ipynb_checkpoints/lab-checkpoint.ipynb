{
 "cells": [
  {
   "cell_type": "code",
   "execution_count": 1,
   "metadata": {},
   "outputs": [
    {
     "data": {
      "text/plain": [
       "{'t': 4,\n",
       " 'h': 2,\n",
       " 'r': 3,\n",
       " 'e': 11,\n",
       " ',': 12,\n",
       " ' ': 12,\n",
       " 'd': 1,\n",
       " 'o': 5,\n",
       " 'n': 6,\n",
       " 'f': 4,\n",
       " 'u': 1,\n",
       " 'i': 6,\n",
       " 'v': 3,\n",
       " 'w': 1,\n",
       " 's': 1,\n",
       " 'x': 1}"
      ]
     },
     "execution_count": 1,
     "metadata": {},
     "output_type": "execute_result"
    }
   ],
   "source": [
    "#Fill in the blanks so that counts becomes a dictionary where each key is a character and the \n",
    "#corresponding value is how many times it appeared in PI.\n",
    "PI = \"three, dot, one, four, one, five, nine, two, six, five, three, five, nine\"\n",
    "counts = {}\n",
    "for char in PI:\n",
    "    if not char in counts:\n",
    "        counts[char] = 1\n",
    "    else:\n",
    "        counts[char] += 1\n",
    "counts"
   ]
  },
  {
   "cell_type": "code",
   "execution_count": 2,
   "metadata": {},
   "outputs": [
    {
     "data": {
      "text/plain": [
       "{'three': 2,\n",
       " 'dot': 1,\n",
       " 'one': 2,\n",
       " 'four': 1,\n",
       " 'five': 3,\n",
       " 'nine': 2,\n",
       " 'two': 1,\n",
       " 'six': 1}"
      ]
     },
     "execution_count": 2,
     "metadata": {},
     "output_type": "execute_result"
    }
   ],
   "source": [
    "#Counting Words\n",
    "PI = \"three, dot, one, four, one, five, nine, two, six, five, three, five, nine\"\n",
    "counts = {}\n",
    "for word in PI.replace(\", \", \",\").split(\",\"):\n",
    "    if word not in counts:\n",
    "        counts[word] = 1\n",
    "    else:\n",
    "        counts[word] += 1\n",
    "counts"
   ]
  },
  {
   "cell_type": "code",
   "execution_count": 3,
   "metadata": {},
   "outputs": [
    {
     "data": {
      "text/plain": [
       "{'two': 'dos', 'zero': 'cero'}"
      ]
     },
     "execution_count": 3,
     "metadata": {},
     "output_type": "execute_result"
    }
   ],
   "source": [
    "#Dictionary from Two Lists: map the English words to the Spanish words\n",
    "keys = [\"two\", \"zero\"]\n",
    "vals = [\"dos\", \"cero\"]\n",
    "en2sp = {}\n",
    "for i in range(len(keys)):\n",
    "    en2sp[keys[i]] = vals[i]\n",
    "en2sp"
   ]
  },
  {
   "cell_type": "code",
   "execution_count": 4,
   "metadata": {},
   "outputs": [
    {
     "data": {
      "text/plain": [
       "'I love Comp Sci dos dos cero'"
      ]
     },
     "execution_count": 4,
     "metadata": {},
     "output_type": "execute_result"
    }
   ],
   "source": [
    "words = \"I love Comp Sci two two zero\".split(\" \")\n",
    "for i in range(len(words)):\n",
    "    default = words[i] # don't translate it\n",
    "    words[i] = en2sp.get(words[i], default)\n",
    "\" \".join(words)"
   ]
  },
  {
   "cell_type": "code",
   "execution_count": 5,
   "metadata": {},
   "outputs": [
    {
     "data": {
      "text/plain": [
       "{'dos': 'two', 'cero': 'zero'}"
      ]
     },
     "execution_count": 5,
     "metadata": {},
     "output_type": "execute_result"
    }
   ],
   "source": [
    "#Flipping Keys and Values: convert from Spanish back to English\n",
    "sp2en = {}\n",
    "for en in en2sp:\n",
    "    sp = en2sp[en]\n",
    "    sp2en[sp] = en\n",
    "sp2en"
   ]
  },
  {
   "cell_type": "code",
   "execution_count": 6,
   "metadata": {},
   "outputs": [
    {
     "data": {
      "text/plain": [
       "{'A': 0.5, 'B': 0.5, 'C': 0.75}"
      ]
     },
     "execution_count": 6,
     "metadata": {},
     "output_type": "execute_result"
    }
   ],
   "source": [
    "#Dictionary Division\n",
    "numerators = {\"A\": 1, \"B\": 2, \"C\": 3}\n",
    "denominators = {\"A\": 2, \"B\": 4, \"C\": 4}\n",
    "result = {}\n",
    "for key in numerators:\n",
    "    result[key] = numerators[key] / denominators[key]\n",
    "result"
   ]
  },
  {
   "cell_type": "code",
   "execution_count": 7,
   "metadata": {},
   "outputs": [
    {
     "name": "stdout",
     "output_type": "stream",
     "text": [
      "2014 8\n",
      "2015 10\n",
      "2016 14\n",
      "2017 13\n",
      "2018 16\n",
      "2019 18\n"
     ]
    }
   ],
   "source": [
    "#Ordered Print: print the incidents per year, with earliest year first\n",
    "incidents = {2016: 14, 2019: 18, 2017: 13, 2018: 16, 2014: 8, 2015: 10}\n",
    "keys = sorted(list(incidents.keys()))\n",
    "for k in keys:\n",
    "    print(k, incidents[k])"
   ]
  },
  {
   "cell_type": "code",
   "execution_count": 8,
   "metadata": {},
   "outputs": [
    {
     "name": "stdout",
     "output_type": "stream",
     "text": [
      "2014 ********\n",
      "2015 **********\n",
      "2016 **************\n",
      "2017 *************\n",
      "2018 ****************\n",
      "2019 ******************\n"
     ]
    }
   ],
   "source": [
    "#Histogram\n",
    "incidents = {2016: 14, 2019: 18, 2017: 13, 2018: 16, 2014: 8, 2015: 10}\n",
    "keys = sorted(list(incidents.keys()))\n",
    "for k in keys:\n",
    "    print(k, incidents[k]*\"*\")"
   ]
  },
  {
   "cell_type": "code",
   "execution_count": 9,
   "metadata": {},
   "outputs": [
    {
     "name": "stdout",
     "output_type": "stream",
     "text": [
      "Year 2019 had 18 incidents (the max)\n"
     ]
    }
   ],
   "source": [
    "#Dictionary Max: find the year with the most incidents\n",
    "incidents = {2016: 14, 2019: 18, 2017: 13, 2018: 16, 2014: 8, 2015: 10}\n",
    "best_key = None\n",
    "for key in incidents:\n",
    "    if best_key == None or incidents[key] > incidents[best_key]:\n",
    "        best_key = key\n",
    "print(\"Year\", best_key, \"had\", incidents[best_key], \"incidents (the max)\")"
   ]
  },
  {
   "cell_type": "code",
   "execution_count": null,
   "metadata": {},
   "outputs": [],
   "source": []
  }
 ],
 "metadata": {
  "kernelspec": {
   "display_name": "Python 3",
   "language": "python",
   "name": "python3"
  },
  "language_info": {
   "codemirror_mode": {
    "name": "ipython",
    "version": 3
   },
   "file_extension": ".py",
   "mimetype": "text/x-python",
   "name": "python",
   "nbconvert_exporter": "python",
   "pygments_lexer": "ipython3",
   "version": "3.8.1"
  }
 },
 "nbformat": 4,
 "nbformat_minor": 4
}
