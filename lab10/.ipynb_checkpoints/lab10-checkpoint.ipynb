{
 "cells": [
  {
   "cell_type": "code",
   "execution_count": 1,
   "metadata": {},
   "outputs": [
    {
     "data": {
      "text/html": [
       "<style>em { color: red; }</style> <style>.container {width:100% !important; }</style>"
      ],
      "text/plain": [
       "<IPython.core.display.HTML object>"
      ]
     },
     "execution_count": 1,
     "metadata": {},
     "output_type": "execute_result"
    }
   ],
   "source": [
    "from IPython.core.display import HTML\n",
    "HTML('<style>em { color: red; }</style> <style>.container {width:100% !important; }</style>')"
   ]
  },
  {
   "cell_type": "code",
   "execution_count": 2,
   "metadata": {},
   "outputs": [
    {
     "data": {
      "text/plain": [
       "[1, 3, 5, 4, 8]"
      ]
     },
     "execution_count": 2,
     "metadata": {},
     "output_type": "execute_result"
    }
   ],
   "source": [
    "#Lint\n",
    "def abs_value(n_list):\n",
    "    n_list = n_list[:] # copy it\n",
    "    for i in range(len(n_list)):\n",
    "        if n_list[i] < 0:\n",
    "            n_list[i] = -n_list[i]\n",
    "    return n_list\n",
    "\n",
    "abs_value([-1, -3, 5, -4, 8])"
   ]
  },
  {
   "cell_type": "code",
   "execution_count": 3,
   "metadata": {},
   "outputs": [
    {
     "data": {
      "text/plain": [
       "3.504753112792969e-05"
      ]
     },
     "execution_count": 3,
     "metadata": {},
     "output_type": "execute_result"
    }
   ],
   "source": [
    "#Timing\n",
    "import time\n",
    "t1 = time.time()\n",
    "# some code we want to measure\n",
    "t2 = time.time()\n",
    "t2 - t1"
   ]
  },
  {
   "cell_type": "code",
   "execution_count": 4,
   "metadata": {},
   "outputs": [
    {
     "name": "stdout",
     "output_type": "stream",
     "text": [
      "TOTAL: 4950\n",
      "ms: 0.3409385681152344\n"
     ]
    }
   ],
   "source": [
    "#Measuring Addition\n",
    "t1 = time.time()\n",
    "\n",
    "total = 0\n",
    "limit = 100 # try changing this\n",
    "for i in range(limit):\n",
    "    total += i\n",
    "\n",
    "t2 = time.time()\n",
    "\n",
    "print(\"TOTAL:\", total)\n",
    "milliseconds = (t2-t1) * 1000\n",
    "print(\"ms:\", milliseconds)"
   ]
  },
  {
   "cell_type": "code",
   "execution_count": 5,
   "metadata": {},
   "outputs": [
    {
     "name": "stdout",
     "output_type": "stream",
     "text": [
      "ms: 175.54187774658203\n"
     ]
    }
   ],
   "source": [
    "#Measuring Web Requests and File Usage\n",
    "import requests\n",
    "t1 = time.time()\n",
    "\n",
    "r = requests.get(\"https://raw.githubusercontent.com/msyamkumar/cs220-projects/master/spring20/lab-p10a/hello.txt\")\n",
    "r.raise_for_status()\n",
    "data = r.text\n",
    "\n",
    "t2 = time.time()\n",
    "\n",
    "milliseconds = (t2-t1) * 1000\n",
    "print(\"ms:\", milliseconds)"
   ]
  },
  {
   "cell_type": "code",
   "execution_count": 6,
   "metadata": {},
   "outputs": [
    {
     "name": "stdout",
     "output_type": "stream",
     "text": [
      "ms: 2.192258834838867\n"
     ]
    }
   ],
   "source": [
    "t1 = time.time()\n",
    "\n",
    "f = open(\"hello.txt\", \"w\", encoding=\"utf-8\")\n",
    "f.write(data)\n",
    "f.close()\n",
    "\n",
    "t2 = time.time()\n",
    "\n",
    "milliseconds = (t2-t1) * 1000\n",
    "print(\"ms:\", milliseconds)"
   ]
  },
  {
   "cell_type": "code",
   "execution_count": 7,
   "metadata": {},
   "outputs": [
    {
     "name": "stdout",
     "output_type": "stream",
     "text": [
      "ms: 6.404876708984375\n"
     ]
    }
   ],
   "source": [
    "t1 = time.time()\n",
    "\n",
    "f = open(\"hello.txt\", encoding=\"utf-8\")\n",
    "data = f.read()\n",
    "f.close()\n",
    "\n",
    "t2 = time.time()\n",
    "\n",
    "milliseconds = (t2-t1) * 1000\n",
    "print(\"ms:\", milliseconds)"
   ]
  },
  {
   "cell_type": "code",
   "execution_count": 8,
   "metadata": {},
   "outputs": [
    {
     "data": {
      "text/plain": [
       "'hello.html already exists!'"
      ]
     },
     "execution_count": 8,
     "metadata": {},
     "output_type": "execute_result"
    }
   ],
   "source": [
    "#Implementing Caching\n",
    "import os \n",
    "\n",
    "def download(filename, url):\n",
    "    # We do not download again if the file already exists\n",
    "    if os.path.exists(filename):\n",
    "        return (str(filename) + \" already exists!\")\n",
    "    resp = requests.get(url)\n",
    "    resp.raise_for_status()\n",
    "    f = open(filename, \"w\")\n",
    "    f.write(resp.text)\n",
    "    f.close()\n",
    "    # TODO: Write the code to download the file from URL\n",
    "    # and save it in `filename`\n",
    "\n",
    "    return (str(filename) + \" created!\")\n",
    "\n",
    "download(\"hello.html\", \"https://raw.githubusercontent.com/msyamkumar/cs220-projects/master/spring20/lab-p10a/hello.html\")"
   ]
  },
  {
   "cell_type": "code",
   "execution_count": 9,
   "metadata": {},
   "outputs": [],
   "source": [
    "#Creating DataFrames\n",
    "import pandas as pd\n",
    "from pandas import DataFrame, Series"
   ]
  },
  {
   "cell_type": "code",
   "execution_count": 10,
   "metadata": {},
   "outputs": [
    {
     "data": {
      "text/html": [
       "<div>\n",
       "<style scoped>\n",
       "    .dataframe tbody tr th:only-of-type {\n",
       "        vertical-align: middle;\n",
       "    }\n",
       "\n",
       "    .dataframe tbody tr th {\n",
       "        vertical-align: top;\n",
       "    }\n",
       "\n",
       "    .dataframe thead th {\n",
       "        text-align: right;\n",
       "    }\n",
       "</style>\n",
       "<table border=\"1\" class=\"dataframe\">\n",
       "  <thead>\n",
       "    <tr style=\"text-align: right;\">\n",
       "      <th></th>\n",
       "      <th>0</th>\n",
       "      <th>1</th>\n",
       "    </tr>\n",
       "  </thead>\n",
       "  <tbody>\n",
       "    <tr>\n",
       "      <th>0</th>\n",
       "      <td>1</td>\n",
       "      <td>2</td>\n",
       "    </tr>\n",
       "    <tr>\n",
       "      <th>1</th>\n",
       "      <td>3</td>\n",
       "      <td>4</td>\n",
       "    </tr>\n",
       "  </tbody>\n",
       "</table>\n",
       "</div>"
      ],
      "text/plain": [
       "   0  1\n",
       "0  1  2\n",
       "1  3  4"
      ]
     },
     "execution_count": 10,
     "metadata": {},
     "output_type": "execute_result"
    }
   ],
   "source": [
    "# option 1\n",
    "DataFrame([[1,2], [3,4]])"
   ]
  },
  {
   "cell_type": "code",
   "execution_count": 11,
   "metadata": {},
   "outputs": [
    {
     "data": {
      "text/html": [
       "<div>\n",
       "<style scoped>\n",
       "    .dataframe tbody tr th:only-of-type {\n",
       "        vertical-align: middle;\n",
       "    }\n",
       "\n",
       "    .dataframe tbody tr th {\n",
       "        vertical-align: top;\n",
       "    }\n",
       "\n",
       "    .dataframe thead th {\n",
       "        text-align: right;\n",
       "    }\n",
       "</style>\n",
       "<table border=\"1\" class=\"dataframe\">\n",
       "  <thead>\n",
       "    <tr style=\"text-align: right;\">\n",
       "      <th></th>\n",
       "      <th>x</th>\n",
       "      <th>y</th>\n",
       "    </tr>\n",
       "  </thead>\n",
       "  <tbody>\n",
       "    <tr>\n",
       "      <th>0</th>\n",
       "      <td>1</td>\n",
       "      <td>2</td>\n",
       "    </tr>\n",
       "    <tr>\n",
       "      <th>1</th>\n",
       "      <td>3</td>\n",
       "      <td>4</td>\n",
       "    </tr>\n",
       "  </tbody>\n",
       "</table>\n",
       "</div>"
      ],
      "text/plain": [
       "   x  y\n",
       "0  1  2\n",
       "1  3  4"
      ]
     },
     "execution_count": 11,
     "metadata": {},
     "output_type": "execute_result"
    }
   ],
   "source": [
    "# option 2\n",
    "## regardless of whether the dicts are the inner or outer structures, the dict keys will \n",
    "## translate to DataFrame column names\n",
    "DataFrame([{\"x\":1, \"y\":2},\n",
    "           {\"x\":3, \"y\":4}])"
   ]
  },
  {
   "cell_type": "code",
   "execution_count": 12,
   "metadata": {},
   "outputs": [
    {
     "data": {
      "text/html": [
       "<div>\n",
       "<style scoped>\n",
       "    .dataframe tbody tr th:only-of-type {\n",
       "        vertical-align: middle;\n",
       "    }\n",
       "\n",
       "    .dataframe tbody tr th {\n",
       "        vertical-align: top;\n",
       "    }\n",
       "\n",
       "    .dataframe thead th {\n",
       "        text-align: right;\n",
       "    }\n",
       "</style>\n",
       "<table border=\"1\" class=\"dataframe\">\n",
       "  <thead>\n",
       "    <tr style=\"text-align: right;\">\n",
       "      <th></th>\n",
       "      <th>x</th>\n",
       "      <th>y</th>\n",
       "    </tr>\n",
       "  </thead>\n",
       "  <tbody>\n",
       "    <tr>\n",
       "      <th>0</th>\n",
       "      <td>1</td>\n",
       "      <td>2</td>\n",
       "    </tr>\n",
       "    <tr>\n",
       "      <th>1</th>\n",
       "      <td>3</td>\n",
       "      <td>4</td>\n",
       "    </tr>\n",
       "  </tbody>\n",
       "</table>\n",
       "</div>"
      ],
      "text/plain": [
       "   x  y\n",
       "0  1  2\n",
       "1  3  4"
      ]
     },
     "execution_count": 12,
     "metadata": {},
     "output_type": "execute_result"
    }
   ],
   "source": [
    "# option 3\n",
    "DataFrame({\"x\":[1,3],\n",
    "           \"y\":[2,4]})"
   ]
  },
  {
   "cell_type": "code",
   "execution_count": 13,
   "metadata": {},
   "outputs": [
    {
     "data": {
      "text/html": [
       "<div>\n",
       "<style scoped>\n",
       "    .dataframe tbody tr th:only-of-type {\n",
       "        vertical-align: middle;\n",
       "    }\n",
       "\n",
       "    .dataframe tbody tr th {\n",
       "        vertical-align: top;\n",
       "    }\n",
       "\n",
       "    .dataframe thead th {\n",
       "        text-align: right;\n",
       "    }\n",
       "</style>\n",
       "<table border=\"1\" class=\"dataframe\">\n",
       "  <thead>\n",
       "    <tr style=\"text-align: right;\">\n",
       "      <th></th>\n",
       "      <th>x</th>\n",
       "      <th>y</th>\n",
       "    </tr>\n",
       "  </thead>\n",
       "  <tbody>\n",
       "    <tr>\n",
       "      <th>A</th>\n",
       "      <td>1</td>\n",
       "      <td>2</td>\n",
       "    </tr>\n",
       "    <tr>\n",
       "      <th>B</th>\n",
       "      <td>3</td>\n",
       "      <td>4</td>\n",
       "    </tr>\n",
       "  </tbody>\n",
       "</table>\n",
       "</div>"
      ],
      "text/plain": [
       "   x  y\n",
       "A  1  2\n",
       "B  3  4"
      ]
     },
     "execution_count": 13,
     "metadata": {},
     "output_type": "execute_result"
    }
   ],
   "source": [
    "# option 4\n",
    "## dict of dicts: keys of the outer dict will be the columns of the DataFrame, and the keys \n",
    "## of the inner dicts will be the index of the DataFrame\n",
    "DataFrame({\"x\":{\"A\":1,\"B\":3},\n",
    "           \"y\":{\"A\":2,\"B\":4}})"
   ]
  },
  {
   "cell_type": "code",
   "execution_count": 14,
   "metadata": {},
   "outputs": [],
   "source": [
    "# Lab 10b: Fit Lines"
   ]
  },
  {
   "cell_type": "code",
   "execution_count": 15,
   "metadata": {},
   "outputs": [
    {
     "data": {
      "text/html": [
       "<div>\n",
       "<style scoped>\n",
       "    .dataframe tbody tr th:only-of-type {\n",
       "        vertical-align: middle;\n",
       "    }\n",
       "\n",
       "    .dataframe tbody tr th {\n",
       "        vertical-align: top;\n",
       "    }\n",
       "\n",
       "    .dataframe thead th {\n",
       "        text-align: right;\n",
       "    }\n",
       "</style>\n",
       "<table border=\"1\" class=\"dataframe\">\n",
       "  <thead>\n",
       "    <tr style=\"text-align: right;\">\n",
       "      <th></th>\n",
       "      <th>age</th>\n",
       "      <th>height</th>\n",
       "    </tr>\n",
       "  </thead>\n",
       "  <tbody>\n",
       "    <tr>\n",
       "      <th>0</th>\n",
       "      <td>5.925903</td>\n",
       "      <td>13.660833</td>\n",
       "    </tr>\n",
       "    <tr>\n",
       "      <th>1</th>\n",
       "      <td>5.386635</td>\n",
       "      <td>11.073534</td>\n",
       "    </tr>\n",
       "    <tr>\n",
       "      <th>2</th>\n",
       "      <td>3.282236</td>\n",
       "      <td>6.699775</td>\n",
       "    </tr>\n",
       "    <tr>\n",
       "      <th>3</th>\n",
       "      <td>8.903419</td>\n",
       "      <td>20.289901</td>\n",
       "    </tr>\n",
       "    <tr>\n",
       "      <th>4</th>\n",
       "      <td>1.091462</td>\n",
       "      <td>2.242725</td>\n",
       "    </tr>\n",
       "  </tbody>\n",
       "</table>\n",
       "</div>"
      ],
      "text/plain": [
       "        age     height\n",
       "0  5.925903  13.660833\n",
       "1  5.386635  11.073534\n",
       "2  3.282236   6.699775\n",
       "3  8.903419  20.289901\n",
       "4  1.091462   2.242725"
      ]
     },
     "execution_count": 15,
     "metadata": {},
     "output_type": "execute_result"
    }
   ],
   "source": [
    "# Drawing a Fit\n",
    "import random\n",
    "\n",
    "ages = []\n",
    "heights = []\n",
    "for i in range(1, 100):\n",
    "    age = random.uniform(1, 10)\n",
    "    noise = random.uniform(-1.5, 1.5)\n",
    "    height = age * 2.3 + noise\n",
    "    ages.append(age)\n",
    "    heights.append(height)\n",
    "\n",
    "trees = DataFrame({\"age\":ages, \"height\":heights})\n",
    "trees.head()"
   ]
  },
  {
   "cell_type": "code",
   "execution_count": 16,
   "metadata": {},
   "outputs": [
    {
     "data": {
      "text/plain": [
       "Text(0, 0.5, 'Height (feet)')"
      ]
     },
     "execution_count": 16,
     "metadata": {},
     "output_type": "execute_result"
    },
    {
     "data": {
      "image/png": "[encoded data removed]",
      "text/plain": [
       "<Figure size 432x288 with 1 Axes>"
      ]
     },
     "metadata": {
      "needs_background": "light"
     },
     "output_type": "display_data"
    }
   ],
   "source": [
    "# tree scatter\n",
    "import matplotlib\n",
    "matplotlib.rcParams[\"font.size\"] = 12\n",
    "\n",
    "ax = trees.plot.scatter(x=\"age\", y=\"height\", c=\"black\", xlim=0, ylim=0)\n",
    "ax.set_xlabel(\"Age (years)\")\n",
    "ax.set_ylabel(\"Height (feet)\")"
   ]
  },
  {
   "cell_type": "code",
   "execution_count": 17,
   "metadata": {},
   "outputs": [
    {
     "data": {
      "text/html": [
       "<div>\n",
       "<style scoped>\n",
       "    .dataframe tbody tr th:only-of-type {\n",
       "        vertical-align: middle;\n",
       "    }\n",
       "\n",
       "    .dataframe tbody tr th {\n",
       "        vertical-align: top;\n",
       "    }\n",
       "\n",
       "    .dataframe thead th {\n",
       "        text-align: right;\n",
       "    }\n",
       "</style>\n",
       "<table border=\"1\" class=\"dataframe\">\n",
       "  <thead>\n",
       "    <tr style=\"text-align: right;\">\n",
       "      <th></th>\n",
       "      <th>age</th>\n",
       "      <th>height</th>\n",
       "      <th>height-fitted</th>\n",
       "    </tr>\n",
       "  </thead>\n",
       "  <tbody>\n",
       "    <tr>\n",
       "      <th>0</th>\n",
       "      <td>5.925903</td>\n",
       "      <td>13.660833</td>\n",
       "      <td>11.851806</td>\n",
       "    </tr>\n",
       "    <tr>\n",
       "      <th>1</th>\n",
       "      <td>5.386635</td>\n",
       "      <td>11.073534</td>\n",
       "      <td>10.773271</td>\n",
       "    </tr>\n",
       "    <tr>\n",
       "      <th>2</th>\n",
       "      <td>3.282236</td>\n",
       "      <td>6.699775</td>\n",
       "      <td>6.564471</td>\n",
       "    </tr>\n",
       "    <tr>\n",
       "      <th>3</th>\n",
       "      <td>8.903419</td>\n",
       "      <td>20.289901</td>\n",
       "      <td>17.806838</td>\n",
       "    </tr>\n",
       "    <tr>\n",
       "      <th>4</th>\n",
       "      <td>1.091462</td>\n",
       "      <td>2.242725</td>\n",
       "      <td>2.182924</td>\n",
       "    </tr>\n",
       "  </tbody>\n",
       "</table>\n",
       "</div>"
      ],
      "text/plain": [
       "        age     height  height-fitted\n",
       "0  5.925903  13.660833      11.851806\n",
       "1  5.386635  11.073534      10.773271\n",
       "2  3.282236   6.699775       6.564471\n",
       "3  8.903419  20.289901      17.806838\n",
       "4  1.091462   2.242725       2.182924"
      ]
     },
     "execution_count": 17,
     "metadata": {},
     "output_type": "execute_result"
    }
   ],
   "source": [
    "trees[\"height-fitted\"] = trees[\"age\"] * 2\n",
    "trees.head()"
   ]
  },
  {
   "cell_type": "code",
   "execution_count": 18,
   "metadata": {},
   "outputs": [
    {
     "data": {
      "text/plain": [
       "<matplotlib.axes._subplots.AxesSubplot at 0x10caa3d60>"
      ]
     },
     "execution_count": 18,
     "metadata": {},
     "output_type": "execute_result"
    },
    {
     "data": {
      "image/png": "[encoded data removed]",
      "text/plain": [
       "<Figure size 432x288 with 1 Axes>"
      ]
     },
     "metadata": {
      "needs_background": "light"
     },
     "output_type": "display_data"
    }
   ],
   "source": [
    "# tree scatter\n",
    "import matplotlib\n",
    "matplotlib.rcParams[\"font.size\"] = 12\n",
    "\n",
    "ax = trees.plot.scatter(x=\"age\", y=\"height\", c=\"black\", xlim=0, ylim=0)\n",
    "ax.set_xlabel(\"age\")\n",
    "ax.set_ylabel(\"Height (feet)\")\n",
    "\n",
    "trees.plot.line(ax=ax, x=\"age\", y=\"height-fitted\", color=\"red\")"
   ]
  },
  {
   "cell_type": "code",
   "execution_count": 19,
   "metadata": {},
   "outputs": [
    {
     "data": {
      "text/plain": [
       "array([[1, 2, 3, 4],\n",
       "       [5, 6, 7, 8]])"
      ]
     },
     "execution_count": 19,
     "metadata": {},
     "output_type": "execute_result"
    }
   ],
   "source": [
    "# Numpy: most popular way to represent matrices in Python and do linear algebra\n",
    "import numpy as np\n",
    "\n",
    "# main data structure in numpy is the array; it is used to represent vectors and matrices\n",
    "np.array([1,2,3,4,5,6,7,8])\n",
    "\n",
    "matrix = np.array([1,2,3,4,5,6,7,8]).reshape(2, 4)\n",
    "matrix"
   ]
  },
  {
   "cell_type": "code",
   "execution_count": 20,
   "metadata": {},
   "outputs": [
    {
     "data": {
      "text/plain": [
       "array([[1, 2],\n",
       "       [3, 4],\n",
       "       [5, 6],\n",
       "       [7, 8]])"
      ]
     },
     "execution_count": 20,
     "metadata": {},
     "output_type": "execute_result"
    }
   ],
   "source": [
    "matrix = np.array([1,2,3,4,5,6,7,8]).reshape(4, 2)\n",
    "matrix"
   ]
  },
  {
   "cell_type": "code",
   "execution_count": 21,
   "metadata": {},
   "outputs": [
    {
     "data": {
      "text/plain": [
       "7"
      ]
     },
     "execution_count": 21,
     "metadata": {},
     "output_type": "execute_result"
    }
   ],
   "source": [
    "matrix[3][0]"
   ]
  },
  {
   "cell_type": "code",
   "execution_count": 22,
   "metadata": {},
   "outputs": [
    {
     "data": {
      "text/plain": [
       "6"
      ]
     },
     "execution_count": 22,
     "metadata": {},
     "output_type": "execute_result"
    }
   ],
   "source": [
    "matrix[2][1]"
   ]
  },
  {
   "cell_type": "code",
   "execution_count": 25,
   "metadata": {},
   "outputs": [
    {
     "data": {
      "text/plain": [
       "array([[ 5.9259029 , 13.66083285, 11.85180579],\n",
       "       [ 5.38663525, 11.07353399, 10.77327051],\n",
       "       [ 3.28223562,  6.69977506,  6.56447123],\n",
       "       [ 8.90341886, 20.28990138, 17.80683771],\n",
       "       [ 1.09146207,  2.24272462,  2.18292414],\n",
       "       [ 4.81979065, 10.57045384,  9.6395813 ],\n",
       "       [ 5.56860391, 13.3617517 , 11.13720782],\n",
       "       [ 3.15700594,  8.05288739,  6.31401187],\n",
       "       [ 1.15729165,  2.31246126,  2.31458329],\n",
       "       [ 1.13323432,  2.63065647,  2.26646864],\n",
       "       [ 8.37259055, 19.78312883, 16.7451811 ],\n",
       "       [ 8.75413087, 21.47152115, 17.50826173],\n",
       "       [ 2.76544935,  6.84163859,  5.5308987 ],\n",
       "       [ 4.64176708, 11.10229002,  9.28353415],\n",
       "       [ 4.09578649,  8.84829372,  8.19157298],\n",
       "       [ 9.45770422, 22.60740195, 18.91540844],\n",
       "       [ 3.21889592,  6.75403532,  6.43779184],\n",
       "       [ 2.20257036,  5.43853129,  4.40514071],\n",
       "       [ 6.58604077, 15.79074627, 13.17208154],\n",
       "       [ 6.12362379, 13.51370464, 12.24724758],\n",
       "       [ 1.26698426,  1.62681517,  2.53396851],\n",
       "       [ 5.15128478, 13.01144245, 10.30256957],\n",
       "       [ 9.84720021, 23.86480075, 19.69440041],\n",
       "       [ 2.60833824,  6.63095795,  5.21667648],\n",
       "       [ 8.686695  , 21.41482625, 17.37339001],\n",
       "       [ 9.77544653, 22.06820749, 19.55089306],\n",
       "       [ 2.33915002,  6.59894944,  4.67830003],\n",
       "       [ 4.53052136, 11.87421353,  9.06104273],\n",
       "       [ 5.23063663, 12.98257634, 10.46127325],\n",
       "       [ 5.52489509, 13.48116869, 11.04979018],\n",
       "       [ 9.61167023, 22.81512595, 19.22334046],\n",
       "       [ 8.63576763, 19.39902989, 17.27153525],\n",
       "       [ 1.97151156,  5.58212138,  3.94302312],\n",
       "       [ 7.06332001, 16.26600388, 14.12664002],\n",
       "       [ 1.48452261,  4.90281217,  2.96904522],\n",
       "       [ 9.23947988, 20.68456681, 18.47895977],\n",
       "       [ 4.31347811, 10.4393806 ,  8.62695622],\n",
       "       [ 8.33260784, 19.35678944, 16.66521568],\n",
       "       [ 3.08444066,  7.96861017,  6.16888132],\n",
       "       [ 5.13770334, 12.8787051 , 10.27540669],\n",
       "       [ 4.23537514,  8.91739365,  8.47075027],\n",
       "       [ 4.38914396,  9.23728919,  8.77828792],\n",
       "       [ 5.70581566, 14.45523193, 11.41163132],\n",
       "       [ 9.88572374, 22.45187395, 19.77144748],\n",
       "       [ 2.75060565,  5.72132067,  5.5012113 ],\n",
       "       [ 8.81851732, 18.84900201, 17.63703465],\n",
       "       [ 3.08544813,  7.49100719,  6.17089626],\n",
       "       [ 5.85794967, 14.75535262, 11.71589933],\n",
       "       [ 1.78372758,  3.52704446,  3.56745515],\n",
       "       [ 2.51558315,  6.47284978,  5.03116629],\n",
       "       [ 2.22402679,  5.18640849,  4.44805357],\n",
       "       [ 1.87588283,  5.55034326,  3.75176566],\n",
       "       [ 1.82691111,  3.77190622,  3.65382222],\n",
       "       [ 8.58917617, 19.39471426, 17.17835235],\n",
       "       [ 9.7622549 , 21.27118172, 19.5245098 ],\n",
       "       [ 7.32122582, 16.81219385, 14.64245164],\n",
       "       [ 7.58117965, 16.29484075, 15.1623593 ],\n",
       "       [ 3.75453053,  9.59176422,  7.50906105],\n",
       "       [ 2.29101161,  4.23176754,  4.58202321],\n",
       "       [ 8.68100956, 19.64724739, 17.36201912],\n",
       "       [ 4.27893128,  9.18837714,  8.55786256],\n",
       "       [ 7.64133367, 17.14873616, 15.28266734],\n",
       "       [ 2.04699884,  3.85396014,  4.09399768],\n",
       "       [ 1.6766157 ,  3.57013316,  3.35323139],\n",
       "       [ 3.48474096,  7.28096018,  6.96948193],\n",
       "       [ 2.88614265,  7.37230941,  5.7722853 ],\n",
       "       [ 6.23992023, 13.85859631, 12.47984046],\n",
       "       [ 9.46595474, 22.55436116, 18.93190948],\n",
       "       [ 2.28958966,  4.95463148,  4.57917932],\n",
       "       [ 6.82005436, 16.41413524, 13.64010872],\n",
       "       [ 6.04730816, 13.2996109 , 12.09461633],\n",
       "       [ 1.52427552,  4.42319575,  3.04855103],\n",
       "       [ 9.29471502, 22.59920204, 18.58943003],\n",
       "       [ 5.3900375 , 11.06253863, 10.780075  ],\n",
       "       [ 9.48410863, 21.90384592, 18.96821727],\n",
       "       [ 5.11208683, 10.74478902, 10.22417365],\n",
       "       [ 5.14607329, 10.68189854, 10.29214657],\n",
       "       [ 7.61899534, 16.16558076, 15.23799069],\n",
       "       [ 8.63523391, 18.40544676, 17.27046783],\n",
       "       [ 3.63614616,  9.31803106,  7.27229233],\n",
       "       [ 2.07046923,  3.49236688,  4.14093847],\n",
       "       [ 2.3552717 ,  6.56173115,  4.7105434 ],\n",
       "       [ 8.67066698, 18.85746482, 17.34133396],\n",
       "       [ 7.05807172, 17.08941105, 14.11614344],\n",
       "       [ 9.26423794, 19.98195146, 18.52847588],\n",
       "       [ 5.52360645, 13.9629319 , 11.04721291],\n",
       "       [ 4.9398439 , 11.82986631,  9.87968781],\n",
       "       [ 5.13042351, 10.43831405, 10.26084701],\n",
       "       [ 2.43826023,  6.73830514,  4.87652046],\n",
       "       [ 8.0420202 , 17.10080055, 16.08404041],\n",
       "       [ 2.23432775,  6.63361222,  4.4686555 ],\n",
       "       [ 9.28873844, 22.22737556, 18.57747689],\n",
       "       [ 1.52195175,  2.32569934,  3.04390351],\n",
       "       [ 3.82115271,  8.7455332 ,  7.64230541],\n",
       "       [ 5.13532275, 10.80881377, 10.27064549],\n",
       "       [ 5.12171539, 11.59582291, 10.24343077],\n",
       "       [ 7.32045568, 16.14161547, 14.64091136],\n",
       "       [ 5.32433393, 12.13204107, 10.64866785],\n",
       "       [ 1.97983702,  3.67074096,  3.95967405]])"
      ]
     },
     "execution_count": 25,
     "metadata": {},
     "output_type": "execute_result"
    }
   ],
   "source": [
    "# convert a Pandas DataFrame to a numpy array, using the .values attribute\n",
    "trees.values"
   ]
  },
  {
   "cell_type": "code",
   "execution_count": 28,
   "metadata": {},
   "outputs": [
    {
     "data": {
      "text/html": [
       "<div>\n",
       "<style scoped>\n",
       "    .dataframe tbody tr th:only-of-type {\n",
       "        vertical-align: middle;\n",
       "    }\n",
       "\n",
       "    .dataframe tbody tr th {\n",
       "        vertical-align: top;\n",
       "    }\n",
       "\n",
       "    .dataframe thead th {\n",
       "        text-align: right;\n",
       "    }\n",
       "</style>\n",
       "<table border=\"1\" class=\"dataframe\">\n",
       "  <thead>\n",
       "    <tr style=\"text-align: right;\">\n",
       "      <th></th>\n",
       "      <th>age</th>\n",
       "      <th>one</th>\n",
       "    </tr>\n",
       "  </thead>\n",
       "  <tbody>\n",
       "    <tr>\n",
       "      <th>0</th>\n",
       "      <td>5.925903</td>\n",
       "      <td>1</td>\n",
       "    </tr>\n",
       "    <tr>\n",
       "      <th>1</th>\n",
       "      <td>5.386635</td>\n",
       "      <td>1</td>\n",
       "    </tr>\n",
       "    <tr>\n",
       "      <th>2</th>\n",
       "      <td>3.282236</td>\n",
       "      <td>1</td>\n",
       "    </tr>\n",
       "    <tr>\n",
       "      <th>3</th>\n",
       "      <td>8.903419</td>\n",
       "      <td>1</td>\n",
       "    </tr>\n",
       "    <tr>\n",
       "      <th>4</th>\n",
       "      <td>1.091462</td>\n",
       "      <td>1</td>\n",
       "    </tr>\n",
       "  </tbody>\n",
       "</table>\n",
       "</div>"
      ],
      "text/plain": [
       "        age  one\n",
       "0  5.925903    1\n",
       "1  5.386635    1\n",
       "2  3.282236    1\n",
       "3  8.903419    1\n",
       "4  1.091462    1"
      ]
     },
     "execution_count": 28,
     "metadata": {},
     "output_type": "execute_result"
    }
   ],
   "source": [
    "# Computing a Fit\n",
    "output = trees[\"height\"]\n",
    "trees[\"one\"] = 1\n",
    "inputs = trees[[\"age\", \"one\"]]\n",
    "inputs.head()"
   ]
  },
  {
   "cell_type": "code",
   "execution_count": 29,
   "metadata": {},
   "outputs": [
    {
     "data": {
      "text/plain": [
       "(array([2.27880176, 0.12228778]),\n",
       " array([77.94230932]),\n",
       " 2,\n",
       " array([59.47400238,  4.53234982]))"
      ]
     },
     "execution_count": 29,
     "metadata": {},
     "output_type": "execute_result"
    }
   ],
   "source": [
    "result = np.linalg.lstsq(inputs, output, rcond=None)\n",
    "result\n",
    "# tuple: (coefficients, residuals, rank, singular_values)"
   ]
  },
  {
   "cell_type": "code",
   "execution_count": 30,
   "metadata": {},
   "outputs": [
    {
     "data": {
      "text/plain": [
       "(2.278801763329341, 0.12228778046009184)"
      ]
     },
     "execution_count": 30,
     "metadata": {},
     "output_type": "execute_result"
    }
   ],
   "source": [
    "slope = result[0][0]\n",
    "intercept = result[0][1]\n",
    "slope, intercept"
   ]
  },
  {
   "cell_type": "code",
   "execution_count": 31,
   "metadata": {},
   "outputs": [
    {
     "data": {
      "text/html": [
       "<div>\n",
       "<style scoped>\n",
       "    .dataframe tbody tr th:only-of-type {\n",
       "        vertical-align: middle;\n",
       "    }\n",
       "\n",
       "    .dataframe tbody tr th {\n",
       "        vertical-align: top;\n",
       "    }\n",
       "\n",
       "    .dataframe thead th {\n",
       "        text-align: right;\n",
       "    }\n",
       "</style>\n",
       "<table border=\"1\" class=\"dataframe\">\n",
       "  <thead>\n",
       "    <tr style=\"text-align: right;\">\n",
       "      <th></th>\n",
       "      <th>age</th>\n",
       "      <th>height</th>\n",
       "      <th>height-fitted</th>\n",
       "      <th>one</th>\n",
       "    </tr>\n",
       "  </thead>\n",
       "  <tbody>\n",
       "    <tr>\n",
       "      <th>0</th>\n",
       "      <td>5.925903</td>\n",
       "      <td>13.660833</td>\n",
       "      <td>13.626246</td>\n",
       "      <td>1</td>\n",
       "    </tr>\n",
       "    <tr>\n",
       "      <th>1</th>\n",
       "      <td>5.386635</td>\n",
       "      <td>11.073534</td>\n",
       "      <td>12.397362</td>\n",
       "      <td>1</td>\n",
       "    </tr>\n",
       "    <tr>\n",
       "      <th>2</th>\n",
       "      <td>3.282236</td>\n",
       "      <td>6.699775</td>\n",
       "      <td>7.601852</td>\n",
       "      <td>1</td>\n",
       "    </tr>\n",
       "    <tr>\n",
       "      <th>3</th>\n",
       "      <td>8.903419</td>\n",
       "      <td>20.289901</td>\n",
       "      <td>20.411414</td>\n",
       "      <td>1</td>\n",
       "    </tr>\n",
       "    <tr>\n",
       "      <th>4</th>\n",
       "      <td>1.091462</td>\n",
       "      <td>2.242725</td>\n",
       "      <td>2.609513</td>\n",
       "      <td>1</td>\n",
       "    </tr>\n",
       "  </tbody>\n",
       "</table>\n",
       "</div>"
      ],
      "text/plain": [
       "        age     height  height-fitted  one\n",
       "0  5.925903  13.660833      13.626246    1\n",
       "1  5.386635  11.073534      12.397362    1\n",
       "2  3.282236   6.699775       7.601852    1\n",
       "3  8.903419  20.289901      20.411414    1\n",
       "4  1.091462   2.242725       2.609513    1"
      ]
     },
     "execution_count": 31,
     "metadata": {},
     "output_type": "execute_result"
    }
   ],
   "source": [
    "trees[\"height-fitted\"] = trees[\"age\"] * slope + intercept\n",
    "trees.head()"
   ]
  },
  {
   "cell_type": "code",
   "execution_count": 32,
   "metadata": {},
   "outputs": [
    {
     "data": {
      "text/plain": [
       "<matplotlib.axes._subplots.AxesSubplot at 0x10cc398e0>"
      ]
     },
     "execution_count": 32,
     "metadata": {},
     "output_type": "execute_result"
    },
    {
     "data": {
      "image/png": "[encoded data removed]",
      "text/plain": [
       "<Figure size 432x288 with 1 Axes>"
      ]
     },
     "metadata": {
      "needs_background": "light"
     },
     "output_type": "display_data"
    }
   ],
   "source": [
    "import matplotlib\n",
    "matplotlib.rcParams[\"font.size\"] = 16\n",
    "\n",
    "ax = trees.plot.scatter(x=\"age\", y=\"height\", c=\"black\", xlim=0, ylim=0)\n",
    "ax.set_xlabel(\"Age (years)\")\n",
    "ax.set_ylabel(\"Height (feet)\")\n",
    "\n",
    "trees.plot.line(ax=ax, x=\"age\", y=\"height-fitted\", color=\"red\")"
   ]
  },
  {
   "cell_type": "code",
   "execution_count": null,
   "metadata": {},
   "outputs": [],
   "source": []
  }
 ],
 "metadata": {
  "kernelspec": {
   "display_name": "Python 3",
   "language": "python",
   "name": "python3"
  },
  "language_info": {
   "codemirror_mode": {
    "name": "ipython",
    "version": 3
   },
   "file_extension": ".py",
   "mimetype": "text/x-python",
   "name": "python",
   "nbconvert_exporter": "python",
   "pygments_lexer": "ipython3",
   "version": "3.8.1"
  }
 },
 "nbformat": 4,
 "nbformat_minor": 4
}
