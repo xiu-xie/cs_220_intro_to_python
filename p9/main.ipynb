{
 "cells": [
  {
   "cell_type": "code",
   "execution_count": 1,
   "metadata": {},
   "outputs": [],
   "source": [
    "# project: p9\n",
    "# submitter: xxie65\n",
    "# partner: none"
   ]
  },
  {
   "cell_type": "code",
   "execution_count": 2,
   "metadata": {},
   "outputs": [],
   "source": [
    "import os, json, csv"
   ]
  },
  {
   "cell_type": "code",
   "execution_count": 3,
   "metadata": {},
   "outputs": [
    {
     "data": {
      "text/plain": [
       "['sample_reviews.json',\n",
       " 'sample_reviews.csv',\n",
       " 'review5.json',\n",
       " 'review5.csv',\n",
       " 'review4.json',\n",
       " 'review4.csv',\n",
       " 'review3.json',\n",
       " 'review3.csv',\n",
       " 'review2.json',\n",
       " 'review2.csv',\n",
       " 'review1.json',\n",
       " 'review1.csv',\n",
       " 'products.json']"
      ]
     },
     "execution_count": 3,
     "metadata": {},
     "output_type": "execute_result"
    }
   ],
   "source": [
    "#Q1: What are the names of the files present in the data directory?\n",
    "filenames = os.listdir(\"./data\")\n",
    "sorted_filenames = sorted(filenames, reverse = True)\n",
    "sorted_filenames"
   ]
  },
  {
   "cell_type": "code",
   "execution_count": 4,
   "metadata": {},
   "outputs": [
    {
     "data": {
      "text/plain": [
       "['data/sample_reviews.json',\n",
       " 'data/sample_reviews.csv',\n",
       " 'data/review5.json',\n",
       " 'data/review5.csv',\n",
       " 'data/review4.json',\n",
       " 'data/review4.csv',\n",
       " 'data/review3.json',\n",
       " 'data/review3.csv',\n",
       " 'data/review2.json',\n",
       " 'data/review2.csv',\n",
       " 'data/review1.json',\n",
       " 'data/review1.csv',\n",
       " 'data/products.json']"
      ]
     },
     "execution_count": 4,
     "metadata": {},
     "output_type": "execute_result"
    }
   ],
   "source": [
    "#Q2: What are the paths of all the files in the data directory?\n",
    "paths = []\n",
    "for file in sorted_filenames:\n",
    "    paths += [os.path.join(\"data\", file)]\n",
    "paths"
   ]
  },
  {
   "cell_type": "code",
   "execution_count": 5,
   "metadata": {},
   "outputs": [
    {
     "data": {
      "text/plain": [
       "['data/sample_reviews.json',\n",
       " 'data/review5.json',\n",
       " 'data/review4.json',\n",
       " 'data/review3.json',\n",
       " 'data/review2.json',\n",
       " 'data/review1.json',\n",
       " 'data/products.json']"
      ]
     },
     "execution_count": 5,
     "metadata": {},
     "output_type": "execute_result"
    }
   ],
   "source": [
    "#Q3: What are the paths of all the JSON files present in data directory?\n",
    "json_paths = []\n",
    "for file in sorted_filenames:\n",
    "    if file.endswith(\".json\"):\n",
    "        json_paths += [os.path.join(\"data\", file)]\n",
    "json_paths"
   ]
  },
  {
   "cell_type": "code",
   "execution_count": 6,
   "metadata": {},
   "outputs": [
    {
     "data": {
      "text/plain": [
       "['data/review5.json',\n",
       " 'data/review5.csv',\n",
       " 'data/review4.json',\n",
       " 'data/review4.csv',\n",
       " 'data/review3.json',\n",
       " 'data/review3.csv',\n",
       " 'data/review2.json',\n",
       " 'data/review2.csv',\n",
       " 'data/review1.json',\n",
       " 'data/review1.csv']"
      ]
     },
     "execution_count": 6,
     "metadata": {},
     "output_type": "execute_result"
    }
   ],
   "source": [
    "#Q4: What are the paths of all the files present in data directory, that begin with the phrase 'review'?\n",
    "review_paths = []\n",
    "for file in sorted_filenames:\n",
    "    if file.startswith(\"review\"):\n",
    "        review_paths += [os.path.join(\"data\", file)]\n",
    "review_paths"
   ]
  },
  {
   "cell_type": "code",
   "execution_count": 7,
   "metadata": {},
   "outputs": [],
   "source": [
    "# read json files\n",
    "def read_json(filename):\n",
    "    f = open(os.path.join(\"data\", filename), encoding=\"utf-8\")\n",
    "    data = json.load(f)\n",
    "    f.close()\n",
    "    return data"
   ]
  },
  {
   "cell_type": "code",
   "execution_count": 8,
   "metadata": {},
   "outputs": [
    {
     "data": {
      "text/plain": [
       "{'B00QFQRELG': 'Amazon 9W PowerFast Official OEM USB Charger and Power Adapter for Fire Tablets and Kindle eReaders',\n",
       " 'B01BH83OOM': 'Amazon Tap Smart Assistant Alexa enabled (black) Brand New',\n",
       " 'B00ZV9PXP2': 'All-New Kindle E-reader - Black, 6\" Glare-Free Touchscreen Display, Wi-Fi - Includes Special Offers',\n",
       " 'B0751RGYJV': 'Amazon Echo (2nd Generation) Smart Assistant Oak Finish Priority Shipping',\n",
       " 'B00IOY8XWQ': 'Kindle Voyage E-reader, 6 High-Resolution Display (300 ppi) with Adaptive Built-in Light, PagePress Sensors, Wi-Fi - Includes Special Offers',\n",
       " 'B0752151W6': 'All-new Echo (2nd Generation) with improved sound, powered by Dolby, and a new design Walnut Finish',\n",
       " 'B018Y226XO': 'Fire Kids Edition Tablet, 7 Display, Wi-Fi, 16 GB, Pink Kid-Proof Case',\n",
       " 'B01ACEKAJY': 'All-New Fire HD 8 Tablet, 8 HD Display, Wi-Fi, 32 GB - Includes Special Offers, Black',\n",
       " 'B01AHB9CYG': 'All-New Fire HD 8 Tablet, 8 HD Display, Wi-Fi, 32 GB - Includes Special Offers, Magenta',\n",
       " 'B01AHB9CN2': 'All-New Fire HD 8 Tablet, 8 HD Display, Wi-Fi, 16 GB - Includes Special Offers, Magenta',\n",
       " 'B00VINDBJK': 'Kindle Oasis E-reader with Leather Charging Cover - Merlot, 6 High-Resolution Display (300 ppi), Wi-Fi - Includes Special Offers',\n",
       " 'B01AHB9C1E': 'Fire HD 8 Tablet with Alexa, 8 HD Display, 32 GB, Tangerine - with Special Offers',\n",
       " 'B018Y229OU': 'Fire Tablet, 7 Display, Wi-Fi, 8 GB - Includes Special Offers, Magenta'}"
      ]
     },
     "execution_count": 8,
     "metadata": {},
     "output_type": "execute_result"
    }
   ],
   "source": [
    "#Q5: What are the products in products.json?\n",
    "read_json(\"products.json\")"
   ]
  },
  {
   "cell_type": "code",
   "execution_count": 9,
   "metadata": {},
   "outputs": [],
   "source": [
    "# read csv\n",
    "import csv\n",
    "def read_csv(filename):\n",
    "    path = os.path.join(\"data\", filename)\n",
    "    review_file = open(path, encoding='utf-8')\n",
    "    file_reader = csv.reader(review_file)\n",
    "    review_data = list(file_reader)\n",
    "    review_file.close()\n",
    "    return review_data"
   ]
  },
  {
   "cell_type": "code",
   "execution_count": 10,
   "metadata": {},
   "outputs": [
    {
     "name": "stdout",
     "output_type": "stream",
     "text": [
      "['review id', 'review title', 'review text', 'review rating', 'review do_recommend', 'review num_helpful', 'review date']\n",
      "['10101', 'A charger', 'It seems to work just like any other usb plug in charger.', '5', 'True', '0', '2017-01-02']\n",
      "['99904', 'amazon power fast usb charger', 'got this for my kindle 7 tablet . Does an excellent job charging the kindle fire 7 a lot faster than the one it came with the kindle fire', '5', 'True', '2', '2016-06-03']\n",
      "['89604', 'Amazon powerfast wall charger', 'Best kindle charger ever. Took 30 minutes to being my kindle back to life.', '5', 'True', '0', '2016-11-21']\n",
      "['58704', 'correct plug for kindle', 'Quickly charges kindle so son can use it. Worked great right out of the package', '5', 'True', '0', '2016-10-14']\n",
      "['38104', 'Fast Charger', 'Bought this charger for the Kindle voyage and its great.', '5', 'True', '0', '2016-09-30']\n"
     ]
    }
   ],
   "source": [
    "review_1 = read_csv(\"review1.csv\")\n",
    "header_1 = review_1[0]\n",
    "review_data_1 = review_1[1:]\n",
    "print(header_1)\n",
    "for row in review_data_1[:5]:\n",
    "    print(row)"
   ]
  },
  {
   "cell_type": "code",
   "execution_count": 11,
   "metadata": {},
   "outputs": [],
   "source": [
    "def cell(filename, review_id, col_name):\n",
    "    review = read_csv(filename)\n",
    "    header = review[0]\n",
    "    review_data = review[1:]\n",
    "    col_idx = header.index(col_name)\n",
    "    row_idx = None\n",
    "    for i in range(len(review_data)):\n",
    "        if review_data[i][0] == review_id:\n",
    "            row_idx = i\n",
    "    if row_idx == None:\n",
    "        val = None\n",
    "    else:\n",
    "        val = review_data[row_idx][col_idx]\n",
    "    if val == \"\":\n",
    "        return None\n",
    "    return val"
   ]
  },
  {
   "cell_type": "code",
   "execution_count": 12,
   "metadata": {},
   "outputs": [
    {
     "data": {
      "text/plain": [
       "'I would recommend this product. It works great and ver compact.'"
      ]
     },
     "execution_count": 12,
     "metadata": {},
     "output_type": "execute_result"
    }
   ],
   "source": [
    "#Q6: What is the review text of review with id 84440?\n",
    "cell(\"review1.csv\", \"84440\", \"review text\")"
   ]
  },
  {
   "cell_type": "code",
   "execution_count": 13,
   "metadata": {},
   "outputs": [],
   "source": [
    "review_csvs = []\n",
    "for path in review_paths:\n",
    "    if path.endswith(\".csv\"):\n",
    "        review_csvs += [path]"
   ]
  },
  {
   "cell_type": "code",
   "execution_count": 14,
   "metadata": {},
   "outputs": [
    {
     "data": {
      "text/plain": [
       "'Loveeeeeeeee........................................'"
      ]
     },
     "execution_count": 14,
     "metadata": {},
     "output_type": "execute_result"
    }
   ],
   "source": [
    "#Q7: What is the review text of review with id 28615?\n",
    "for path in review_csvs:\n",
    "    filename = os.path.basename(path)\n",
    "    if cell(filename, \"28615\", \"review text\") != None:\n",
    "        review_28615 = cell(filename, \"28615\", \"review text\")\n",
    "    else: \n",
    "        continue\n",
    "review_28615"
   ]
  },
  {
   "cell_type": "code",
   "execution_count": 15,
   "metadata": {},
   "outputs": [
    {
     "data": {
      "text/plain": [
       "'review2.csv'"
      ]
     },
     "execution_count": 15,
     "metadata": {},
     "output_type": "execute_result"
    }
   ],
   "source": [
    "#Q8: What file contained the review with id 69273?\n",
    "for path in review_csvs:\n",
    "    filename = os.path.basename(path)\n",
    "    if cell(filename, \"69273\", \"review text\") != None:\n",
    "        file_69273 = path\n",
    "os.path.basename(file_69273)"
   ]
  },
  {
   "cell_type": "code",
   "execution_count": 16,
   "metadata": {},
   "outputs": [
    {
     "data": {
      "text/plain": [
       "{'46663': ['Dmh1589', 'B018Y229OU'],\n",
       " '36363': ['Shoot2thril', 'B018Y229OU'],\n",
       " '15763': ['Barbara', 'B018Y229OU'],\n",
       " '5463': ['Elec8', 'B018Y229OU'],\n",
       " '54066': ['Silvrblur', 'B018Y229OU'],\n",
       " '33466': ['Trish', 'B018Y229OU'],\n",
       " '40869': ['airbear', 'B018Y229OU'],\n",
       " '30569': ['lorphe', 'B018Y229OU'],\n",
       " '89472': ['felix', 'B018Y229OU'],\n",
       " '48272': ['Bull99', 'B018Y229OU']}"
      ]
     },
     "execution_count": 16,
     "metadata": {},
     "output_type": "execute_result"
    }
   ],
   "source": [
    "#Q9: What is the data stored in sample_reviews.json?\n",
    "read_json(\"sample_reviews.json\")"
   ]
  },
  {
   "cell_type": "code",
   "execution_count": 17,
   "metadata": {},
   "outputs": [],
   "source": [
    "from collections import namedtuple\n",
    "Review = namedtuple(\"Review\", [\"id\", \"username\", \"asin\", \"title\", \"text\", \"rating\", \"do_recommend\", \"num_helpful\", \"date\"])\n",
    "review = Review(38574, \"Rebe\", \"B018Y229OU\", \"Excellent\" , \"The tablet is great and works perfectly for any use\", 5, True, 0, \"2016-01-20\")\n",
    "#getattr(review, 'rating')\n",
    "#review.rating"
   ]
  },
  {
   "cell_type": "code",
   "execution_count": 18,
   "metadata": {},
   "outputs": [],
   "source": [
    "def get_reviews(csv_name, json_name):\n",
    "    csv_file = read_csv(csv_name)[1:]\n",
    "    json_file = read_json(json_name)\n",
    "    reviews = []\n",
    "    for key in list(json_file.keys()):\n",
    "        i_d = int(key)\n",
    "        for row in csv_file:\n",
    "            if len(row) < 7 or row[3] == \"True\" or row[0] == \"\" or row[1] == \"\":\n",
    "                continue\n",
    "            elif row[0] == key:\n",
    "                review = Review(i_d, json_file[key][0], json_file[key][1], row[1], row[2], int(row[3]), row[4] == \"True\", int(row[5]), row[6])\n",
    "                reviews.append(review)\n",
    "    return reviews"
   ]
  },
  {
   "cell_type": "code",
   "execution_count": 19,
   "metadata": {},
   "outputs": [
    {
     "data": {
      "text/plain": [
       "[Review(id=46663, username='Dmh1589', asin='B018Y229OU', title='Nice for kids', text='Easy to use. Memory fills up fast though. Battery life is decent.', rating=4, do_recommend=True, num_helpful=0, date='2016-12-23'),\n",
       " Review(id=36363, username='Shoot2thril', asin='B018Y229OU', title='Great tablet', text='Great tablet for the price. I already have 3 followers including the hd.', rating=5, do_recommend=True, num_helpful=0, date='2016-12-23'),\n",
       " Review(id=15763, username='Barbara', asin='B018Y229OU', title='Great tablet', text='Excellent tablet. Love the size. Fits perfectly in my purse. I would recommend this tablet.', rating=5, do_recommend=True, num_helpful=0, date='2016-12-23'),\n",
       " Review(id=5463, username='Elec8', asin='B018Y229OU', title='Great budget tablet', text='Great tablet for kids. Good for Netflix and YouTube.', rating=5, do_recommend=True, num_helpful=0, date='2016-12-23'),\n",
       " Review(id=54066, username='Silvrblur', asin='B018Y229OU', title='Great tablet for the price.', text='I bought this tablet for my 9 year old nephew and he loves it. It is easy to setup and very user friendly. Picked up a case for protection.Buy far the best bang for your buck for an entry level tablet.', rating=5, do_recommend=True, num_helpful=0, date='2016-12-23'),\n",
       " Review(id=33466, username='Trish', asin='B018Y229OU', title='Love it', text='My sister in law is in love with this. Best gift ever for her', rating=5, do_recommend=True, num_helpful=0, date='2016-12-23'),\n",
       " Review(id=40869, username='airbear', asin='B018Y229OU', title='Love it', text='Love it so much. So easy to use even for my little kids.', rating=5, do_recommend=True, num_helpful=0, date='2016-12-23'),\n",
       " Review(id=30569, username='lorphe', asin='B018Y229OU', title='Stand Amazon Tablet', text='Works well for the money. Got it from Black Friday deal. User friendly', rating=4, do_recommend=True, num_helpful=0, date='2016-12-23'),\n",
       " Review(id=89472, username='felix', asin='B018Y229OU', title='great ipad', text='i brought this for my kids and no regret. Make sure you buy a case protector along with it.', rating=5, do_recommend=True, num_helpful=0, date='2016-12-23'),\n",
       " Review(id=48272, username='Bull99', asin='B018Y229OU', title='Works great', text='This tablet is so compact and fit in my purse. It works very well.', rating=5, do_recommend=True, num_helpful=0, date='2016-12-23')]"
      ]
     },
     "execution_count": 19,
     "metadata": {},
     "output_type": "execute_result"
    }
   ],
   "source": [
    "#Q10: What is produced by your function get_reviews('sample_reviews.csv', 'sample_reviews.json')?\n",
    "get_reviews('sample_reviews.csv', \"sample_reviews.json\")"
   ]
  },
  {
   "cell_type": "code",
   "execution_count": 20,
   "metadata": {},
   "outputs": [
    {
     "data": {
      "text/plain": [
       "[Review(id=46663, username='Dmh1589', asin='B018Y229OU', title='Nice for kids', text='Easy to use. Memory fills up fast though. Battery life is decent.', rating=4, do_recommend=True, num_helpful=0, date='2016-12-23'),\n",
       " Review(id=36363, username='Shoot2thril', asin='B018Y229OU', title='Great tablet', text='Great tablet for the price. I already have 3 followers including the hd.', rating=5, do_recommend=True, num_helpful=0, date='2016-12-23'),\n",
       " Review(id=15763, username='Barbara', asin='B018Y229OU', title='Great tablet', text='Excellent tablet. Love the size. Fits perfectly in my purse. I would recommend this tablet.', rating=5, do_recommend=True, num_helpful=0, date='2016-12-23'),\n",
       " Review(id=5463, username='Elec8', asin='B018Y229OU', title='Great budget tablet', text='Great tablet for kids. Good for Netflix and YouTube.', rating=5, do_recommend=True, num_helpful=0, date='2016-12-23'),\n",
       " Review(id=54066, username='Silvrblur', asin='B018Y229OU', title='Great tablet for the price.', text='I bought this tablet for my 9 year old nephew and he loves it. It is easy to setup and very user friendly. Picked up a case for protection.Buy far the best bang for your buck for an entry level tablet.', rating=5, do_recommend=True, num_helpful=0, date='2016-12-23'),\n",
       " Review(id=33466, username='Trish', asin='B018Y229OU', title='Love it', text='My sister in law is in love with this. Best gift ever for her', rating=5, do_recommend=True, num_helpful=0, date='2016-12-23'),\n",
       " Review(id=40869, username='airbear', asin='B018Y229OU', title='Love it', text='Love it so much. So easy to use even for my little kids.', rating=5, do_recommend=True, num_helpful=0, date='2016-12-23'),\n",
       " Review(id=30569, username='lorphe', asin='B018Y229OU', title='Stand Amazon Tablet', text='Works well for the money. Got it from Black Friday deal. User friendly', rating=4, do_recommend=True, num_helpful=0, date='2016-12-23'),\n",
       " Review(id=89472, username='felix', asin='B018Y229OU', title='great ipad', text='i brought this for my kids and no regret. Make sure you buy a case protector along with it.', rating=5, do_recommend=True, num_helpful=0, date='2016-12-23'),\n",
       " Review(id=48272, username='Bull99', asin='B018Y229OU', title='Works great', text='This tablet is so compact and fit in my purse. It works very well.', rating=5, do_recommend=True, num_helpful=0, date='2016-12-23')]"
      ]
     },
     "execution_count": 20,
     "metadata": {},
     "output_type": "execute_result"
    }
   ],
   "source": [
    "#Q11: What are the first ten Review objects in the list produced by get_reviews('review4.csv', 'review4.json')?\n",
    "get_reviews('review4.csv', 'review4.json')[:10]"
   ]
  },
  {
   "cell_type": "code",
   "execution_count": 21,
   "metadata": {},
   "outputs": [
    {
     "data": {
      "text/plain": [
       "[Review(id=25136, username='Angrydagg', asin='B018Y229OU', title='Nice features for the price.', text='For the price this tables does everything I need. so far.', rating=4, do_recommend=True, num_helpful=0, date='2015-12-30'),\n",
       " Review(id=84039, username='Appman2015', asin='B018Y229OU', title='Great for xmas', text='So far I have bought three of these of tablets and they love it', rating=4, do_recommend=True, num_helpful=1, date='2015-12-30'),\n",
       " Review(id=22239, username='SuzieQ', asin='B018Y229OU', title='great for pre teens', text='i am glad i got them for my grand children they r enjoying them', rating=5, do_recommend=True, num_helpful=0, date='2015-12-31'),\n",
       " Review(id=70842, username='Gracie', asin='B018Y229OU', title='Great kindle', text='Purchase was good. Very easy to set up and use. Clear screen. Easy to charge. Would like more storage.', rating=5, do_recommend=True, num_helpful=0, date='2015-12-31'),\n",
       " Review(id=60542, username='Jeremyjeepster', asin='B018Y229OU', title='Good entry level tablet reader.', text='His is a very economical entry level tablet. Great for kids or for first time users.', rating=4, do_recommend=True, num_helpful=0, date='2015-12-31'),\n",
       " Review(id=9042, username='kinglowe78', asin='B018Y229OU', title='Good Deal', text='Real good deal. Nice present for those who want a tablet', rating=4, do_recommend=True, num_helpful=1, date='2016-01-01'),\n",
       " Review(id=98845, username='jamal', asin='B018Y229OU', title='good basic', text='Good gift for basic Internet use browsing emails .', rating=3, do_recommend=True, num_helpful=1, date='2016-01-01'),\n",
       " Review(id=88545, username='Abc1', asin='B018Y229OU', title='Lots of apps to play with', text='This is a good beginning tablet. Works well and has lots of preloaded apps to start you off.', rating=4, do_recommend=True, num_helpful=2, date='2016-01-01'),\n",
       " Review(id=47345, username='4Thrifty', asin='B018Y229OU', title='Great tablet', text='Well priced. Easy to operate. Fast and efficient. Great product.', rating=4, do_recommend=False, num_helpful=0, date='2016-01-02'),\n",
       " Review(id=54748, username='Sandycat19', asin='B018Y229OU', title='Good product fair price', text='Good for little ones who are just getting started on apps.', rating=5, do_recommend=True, num_helpful=0, date='2016-01-02')]"
      ]
     },
     "execution_count": 21,
     "metadata": {},
     "output_type": "execute_result"
    }
   ],
   "source": [
    "#Q12: What are the last ten Review objects in the list produced by get_reviews('review2.csv', 'review2.json')?\n",
    "get_reviews('review2.csv', 'review2.json')[-10:]"
   ]
  },
  {
   "cell_type": "code",
   "execution_count": 22,
   "metadata": {},
   "outputs": [
    {
     "data": {
      "text/plain": [
       "Review(id=25401, username='Brody16', asin='B018Y229OU', title='Wonderful for our grandsons', text='Love the ease of using them for our grandsons and they enjoyed them for Christmas', rating=1, do_recommend=True, num_helpful=0, date='2017-01-06')"
      ]
     },
     "execution_count": 22,
     "metadata": {},
     "output_type": "execute_result"
    }
   ],
   "source": [
    "#Q13: What is the Review object with review id 25401?\n",
    "for path in review_csvs:\n",
    "    filename = os.path.basename(path)\n",
    "    if cell(filename, \"25401\", \"review text\") != None:\n",
    "        file_25401 = filename\n",
    "json_filename_25401 = file_25401[0:-4] + \".json\"\n",
    "revlist_25401 = get_reviews(file_25401, json_filename_25401)\n",
    "for review in revlist_25401:\n",
    "    if review.id == 25401:\n",
    "        rev_25401 = review\n",
    "rev_25401"
   ]
  },
  {
   "cell_type": "code",
   "execution_count": 23,
   "metadata": {},
   "outputs": [
    {
     "data": {
      "text/plain": [
       "Review(id=78626, username='Mijenx', asin='B01AHB9CN2', title='Ended up returning', text='I bought this tablet for my 4 year old daughter. Too many advertisements. I would rather pay more and not have a single ad.', rating=1, do_recommend=False, num_helpful=2, date='2016-11-25')"
      ]
     },
     "execution_count": 23,
     "metadata": {},
     "output_type": "execute_result"
    }
   ],
   "source": [
    "#Q14: What is the Review object with review id 78626?\n",
    "for path in review_csvs:\n",
    "    filename = os.path.basename(path)\n",
    "    if cell(filename, \"78626\", \"review text\") != None:\n",
    "        file_78626 = filename\n",
    "json_filename_78626 = file_78626[0:-4] + \".json\"\n",
    "revlist_78626 = get_reviews(file_78626, json_filename_78626)\n",
    "for review in revlist_78626:\n",
    "    if review.id == 78626:\n",
    "        rev_78626 = review\n",
    "rev_78626"
   ]
  },
  {
   "cell_type": "code",
   "execution_count": 24,
   "metadata": {},
   "outputs": [],
   "source": [
    "review_jsons = []\n",
    "for path in review_paths:\n",
    "    if path.endswith(\".json\"):\n",
    "        review_jsons += [os.path.basename(path)]"
   ]
  },
  {
   "cell_type": "code",
   "execution_count": 25,
   "metadata": {},
   "outputs": [],
   "source": [
    "entire_data = []\n",
    "for csvpath in review_csvs:\n",
    "    csvfile = csvpath[5:]\n",
    "    for jsonfile in review_jsons:\n",
    "        if csvfile[6] == jsonfile[6]:\n",
    "            try: \n",
    "                reviews = get_reviews(csvfile, jsonfile)\n",
    "                entire_data += reviews\n",
    "            except:\n",
    "                continue "
   ]
  },
  {
   "cell_type": "code",
   "execution_count": 26,
   "metadata": {},
   "outputs": [
    {
     "data": {
      "text/plain": [
       "[Review(id=29325, username='zerofighterblue', asin='B018Y229OU', title='cant live without', text='have a kindle with a broken screen. bought originally for 99.00. now regular price is 49.99 and were on sale black Friday for 34.99. got 2 more.', rating=5, do_recommend=True, num_helpful=1, date='2015-12-10'),\n",
       " Review(id=96947, username='zedog83', asin='B01AHB9CN2', title='Great for kids', text='Bought this for our 6 year old daughter and she uses it daily. She enjoys watching movies on it and playing learning games. So far it has been very durable and battery life has been great.', rating=5, do_recommend=True, num_helpful=0, date='2017-01-18'),\n",
       " Review(id=77499, username='zcraig7', asin='B018Y229OU', title='Awesome picture quality', text='I bought two of these for black friday and the kids love them', rating=5, do_recommend=True, num_helpful=0, date='2016-01-04'),\n",
       " Review(id=48890, username='zarm7', asin='B018Y229OU', title='This is a nice tablet', text='I bought it for reading books. And it works very well for that purpose.', rating=4, do_recommend=True, num_helpful=0, date='2016-09-02'),\n",
       " Review(id=84641, username='zabintenn', asin='B018Y229OU', title='Good tablet', text='I bought this tablet as a gift for my granddaughter to play games on. It is very easy for her to use and it is just the right size.', rating=4, do_recommend=True, num_helpful=0, date='2016-12-15'),\n",
       " Review(id=15839, username='zRoyals', asin='B01AHB9CN2', title='One of the best', text='Easy to use and elegant in design. Perfect Gift for Kids.', rating=5, do_recommend=True, num_helpful=0, date='2016-12-07'),\n",
       " Review(id=48019, username='yuty', asin='B01AHB9CN2', title='Terrifico', text='Great tablet for the price point....especially if you are big Amazon user.Expandable memory is a great feature.', rating=5, do_recommend=True, num_helpful=0, date='2017-01-07'),\n",
       " Review(id=63046, username='yuri', asin='B018Y229OU', title='great and cheap', text='Easy to use. Durable great material very happy with it.', rating=4, do_recommend=True, num_helpful=0, date='2016-01-08'),\n",
       " Review(id=37258, username='yroc', asin='B018Y229OU', title='excellent bargain', text='Excellent bargain and works for all purposes that a tablet is needed for.', rating=5, do_recommend=True, num_helpful=0, date='2015-12-28'),\n",
       " Review(id=64466, username='yosi', asin='B018Y226XO', title='great', text='great table for kids and parents control great gre', rating=5, do_recommend=True, num_helpful=0, date='2016-12-19')]"
      ]
     },
     "execution_count": 26,
     "metadata": {},
     "output_type": "execute_result"
    }
   ],
   "source": [
    "#Q15: List the first ten Review objects in the entire dataset, when the usernames are sorted in the reverse alphabetical order.\n",
    "def sort_username(review):\n",
    "    return review.username\n",
    "entire_data.sort(key = sort_username, reverse = True)\n",
    "entire_data[:10]"
   ]
  },
  {
   "cell_type": "code",
   "execution_count": 27,
   "metadata": {},
   "outputs": [],
   "source": [
    "def bucketize(keyword): \n",
    "    all_reviews = {}\n",
    "    for review in entire_data:\n",
    "        attr = getattr(review, keyword)\n",
    "        if not attr in all_reviews:\n",
    "            all_reviews[attr] = []\n",
    "        all_reviews[attr].append(review)\n",
    "    return all_reviews"
   ]
  },
  {
   "cell_type": "code",
   "execution_count": 28,
   "metadata": {},
   "outputs": [],
   "source": [
    "num_reviews = {}\n",
    "for user in list(bucketize(\"username\").keys()):\n",
    "    num_reviews[user] = len(bucketize(\"username\")[user])\n",
    "most_num_reviews = sorted(num_reviews.values(), reverse = True)[:22]"
   ]
  },
  {
   "cell_type": "code",
   "execution_count": 29,
   "metadata": {},
   "outputs": [
    {
     "data": {
      "text/plain": [
       "{'steve': 3,\n",
       " 'paul': 3,\n",
       " 'Susie': 3,\n",
       " 'Susan': 4,\n",
       " 'Steve': 3,\n",
       " 'Richard': 3,\n",
       " 'Missy': 4,\n",
       " 'Mike': 4,\n",
       " 'Michael': 3,\n",
       " 'Manny': 3,\n",
       " 'Lisa': 3,\n",
       " 'Kathy': 3,\n",
       " 'John': 3,\n",
       " 'James': 3,\n",
       " 'Grandma': 3,\n",
       " 'Frank': 3,\n",
       " 'Dave': 4,\n",
       " 'Chris': 3,\n",
       " 'Bubba': 3,\n",
       " 'Bill': 3,\n",
       " 'Angie': 3,\n",
       " '1234': 4}"
      ]
     },
     "execution_count": 29,
     "metadata": {},
     "output_type": "execute_result"
    }
   ],
   "source": [
    "#Q16: Who are the top 22 prolific users in this dataset?\n",
    "most_reviews_dict = {}\n",
    "for user in num_reviews:\n",
    "    if num_reviews[user] in most_num_reviews:\n",
    "        if user not in most_reviews_dict:\n",
    "            most_reviews_dict[user] = 0\n",
    "        most_reviews_dict[user] = num_reviews[user]\n",
    "most_reviews_dict   "
   ]
  },
  {
   "cell_type": "code",
   "execution_count": 30,
   "metadata": {},
   "outputs": [
    {
     "data": {
      "text/plain": [
       "{'trouble': 5,\n",
       " 'Stuartc': 8,\n",
       " 'Rodge': 6,\n",
       " 'Raza': 5,\n",
       " 'Mark': 5,\n",
       " 'Kime': 5,\n",
       " 'Karch': 5,\n",
       " 'FrankW': 5,\n",
       " 'Ellen': 10,\n",
       " 'Earthdog': 27,\n",
       " '1Briansapp': 5}"
      ]
     },
     "execution_count": 30,
     "metadata": {},
     "output_type": "execute_result"
    }
   ],
   "source": [
    "#Q17: Who are the users whose comments have been found helpful at least five times?\n",
    "helpful_sums = {}\n",
    "for review in entire_data:\n",
    "    username = review.username\n",
    "    if not username in helpful_sums:\n",
    "        helpful_sums[username] = 0\n",
    "    helpful_sums[username] += review.num_helpful\n",
    "helpful_five = {}\n",
    "for user in helpful_sums:\n",
    "    if helpful_sums[user] >= 5:\n",
    "        if not user in helpful_five:\n",
    "            helpful_five[user] = 0\n",
    "        helpful_five[user] = helpful_sums[user]\n",
    "helpful_five"
   ]
  },
  {
   "cell_type": "code",
   "execution_count": 31,
   "metadata": {},
   "outputs": [],
   "source": [
    "%matplotlib inline\n",
    "import pandas as pd\n",
    "\n",
    "# Scatter\n",
    "def scatter(x, y, xlabel=\"please label me!\", ylabel=\"please label me!\"):\n",
    "    df = pd.DataFrame({\"x\":x, \"y\":y})\n",
    "    ax = df.plot.scatter(x=\"x\", y=\"y\", color=\"black\", fontsize=16, xlim=0, ylim=0)\n",
    "    ax.set_xlabel(xlabel, fontsize=16)\n",
    "    ax.set_ylabel(ylabel, fontsize=16)\n",
    "    ax.get_xaxis().get_major_formatter().set_scientific(False)\n",
    "    ax.get_yaxis().get_major_formatter().set_scientific(False)"
   ]
  },
  {
   "cell_type": "code",
   "execution_count": 32,
   "metadata": {},
   "outputs": [
    {
     "data": {
      "image/png": "[encoded data removed]",
      "text/plain": [
       "<Figure size 432x288 with 1 Axes>"
      ]
     },
     "metadata": {
      "needs_background": "light"
     },
     "output_type": "display_data"
    }
   ],
   "source": [
    "#Q18: What is the relationship between the rating and the average text length?ratings = list(bucketize('rating').keys())      \n",
    "ratings = list(bucketize('rating').keys())\n",
    "avg_len = []\n",
    "for rating in bucketize('rating'):\n",
    "    reviews = bucketize('rating')[rating]\n",
    "    tot_len = 0\n",
    "    for review in reviews:\n",
    "        text = getattr(review, \"text\")\n",
    "        tot_len += len(text)\n",
    "    avg_len.append(tot_len/len(reviews))\n",
    "scatter(ratings, avg_len, \"Rating\", \"Average text length\")"
   ]
  },
  {
   "cell_type": "code",
   "execution_count": 33,
   "metadata": {},
   "outputs": [
    {
     "data": {
      "image/png": "[encoded data removed]",
      "text/plain": [
       "<Figure size 432x288 with 1 Axes>"
      ]
     },
     "metadata": {
      "needs_background": "light"
     },
     "output_type": "display_data"
    }
   ],
   "source": [
    "#Q19: What is the relationship between the rating and the likelihood of the review being helpful?\n",
    "# percentage of reviews that were found helpful by at least one person\n",
    "pct = []\n",
    "for rating in bucketize('rating'):\n",
    "    reviews = bucketize('rating')[rating]\n",
    "    tot_helpful = 0\n",
    "    for review in reviews:\n",
    "        num_helpful = getattr(review, \"num_helpful\")\n",
    "        if num_helpful >= 1:\n",
    "            tot_helpful += 1    \n",
    "    pct.append(tot_helpful/len(reviews))\n",
    "scatter(ratings, pct, \"Rating\", \"Percentage of helpful reviews\")\n",
    "#1 being the most helpful rating and 3 being the least."
   ]
  },
  {
   "cell_type": "code",
   "execution_count": 34,
   "metadata": {},
   "outputs": [
    {
     "data": {
      "text/plain": [
       "{'Fire Tablet, 7 Display, Wi-Fi, 8 GB - Includes Special Offers, Magenta': 4.506039150354019,\n",
       " 'All-New Fire HD 8 Tablet, 8 HD Display, Wi-Fi, 16 GB - Includes Special Offers, Magenta': 4.6,\n",
       " 'Fire Kids Edition Tablet, 7 Display, Wi-Fi, 16 GB, Pink Kid-Proof Case': 4.603448275862069,\n",
       " 'All-New Kindle E-reader - Black, 6\" Glare-Free Touchscreen Display, Wi-Fi - Includes Special Offers': 4.590163934426229,\n",
       " 'Kindle Voyage E-reader, 6 High-Resolution Display (300 ppi) with Adaptive Built-in Light, PagePress Sensors, Wi-Fi - Includes Special Offers': 4.666666666666667,\n",
       " 'Amazon Tap Smart Assistant Alexa enabled (black) Brand New': 4.6909090909090905,\n",
       " 'Kindle Oasis E-reader with Leather Charging Cover - Merlot, 6 High-Resolution Display (300 ppi), Wi-Fi - Includes Special Offers': 4.866666666666666,\n",
       " 'All-New Fire HD 8 Tablet, 8 HD Display, Wi-Fi, 32 GB - Includes Special Offers, Magenta': 4.574468085106383,\n",
       " 'All-new Echo (2nd Generation) with improved sound, powered by Dolby, and a new design Walnut Finish': 5.0,\n",
       " 'Fire HD 8 Tablet with Alexa, 8 HD Display, 32 GB, Tangerine - with Special Offers': 3.8333333333333335,\n",
       " 'All-New Fire HD 8 Tablet, 8 HD Display, Wi-Fi, 32 GB - Includes Special Offers, Black': 4.583333333333333,\n",
       " 'Amazon 9W PowerFast Official OEM USB Charger and Power Adapter for Fire Tablets and Kindle eReaders': 4.7272727272727275,\n",
       " 'Amazon Echo (2nd Generation) Smart Assistant Oak Finish Priority Shipping': 5.0}"
      ]
     },
     "execution_count": 34,
     "metadata": {},
     "output_type": "execute_result"
    }
   ],
   "source": [
    "#Q20: Find the average rating of each product.\n",
    "avg_ratings = {}\n",
    "for product in bucketize(\"asin\"):\n",
    "    reviews = bucketize(\"asin\")[product]\n",
    "    tot_ratings = 0\n",
    "    for review in reviews:\n",
    "        tot_ratings += getattr(review, \"rating\")\n",
    "    if not product in avg_ratings:\n",
    "        avg_ratings[product] = 0\n",
    "    avg_ratings[product] = (tot_ratings/len(reviews))\n",
    "new_avg_ratings = {}\n",
    "map_names = read_json(\"products.json\")\n",
    "for asin in avg_ratings:\n",
    "    for map_asin in map_names:\n",
    "        if asin == map_asin:\n",
    "            prod_name = map_names[map_asin]\n",
    "            new_avg_ratings[prod_name] = avg_ratings[asin]\n",
    "new_avg_ratings"
   ]
  },
  {
   "cell_type": "code",
   "execution_count": 35,
   "metadata": {},
   "outputs": [
    {
     "data": {
      "image/png": "[encoded data removed]",
      "text/plain": [
       "<Figure size 432x288 with 1 Axes>"
      ]
     },
     "metadata": {
      "needs_background": "light"
     },
     "output_type": "display_data"
    }
   ],
   "source": [
    "#Q21: What is the relationship between the number of reviews and the average rating of a product?\n",
    "num_reviews = []\n",
    "for prod in bucketize(\"asin\"):\n",
    "    reviews = bucketize(\"asin\")[prod] \n",
    "    num_reviews.append(len(reviews))\n",
    "avg_rat_lst = list(avg_ratings.values())\n",
    "scatter(num_reviews, avg_rat_lst, \"Number of Reviews\", \"Average Rating\")"
   ]
  },
  {
   "cell_type": "code",
   "execution_count": 36,
   "metadata": {},
   "outputs": [
    {
     "data": {
      "image/png": "[encoded data removed]",
      "text/plain": [
       "<Figure size 432x288 with 1 Axes>"
      ]
     },
     "metadata": {
      "needs_background": "light"
     },
     "output_type": "display_data"
    }
   ],
   "source": [
    "#Q22: Remove the outliers from the last plot.\n",
    "out_num = []\n",
    "out_idx = []\n",
    "out_rat = []\n",
    "for value in num_reviews:\n",
    "    if value > 500:\n",
    "        out_num.append(value)\n",
    "        out_idx.append(num_reviews.index(value))\n",
    "for i in out_idx:\n",
    "    out_rat.append(avg_rat_lst[i])\n",
    "new_x = [i for i in num_reviews if i not in out_num] \n",
    "new_y = [i for i in avg_rat_lst if i not in out_rat] \n",
    "scatter(new_x, new_y, \"Number of Reviews\", \"Average Rating\")"
   ]
  },
  {
   "cell_type": "code",
   "execution_count": 37,
   "metadata": {},
   "outputs": [
    {
     "data": {
      "image/png": "[encoded data removed]",
      "text/plain": [
       "<Figure size 432x288 with 1 Axes>"
      ]
     },
     "metadata": {
      "needs_background": "light"
     },
     "output_type": "display_data"
    }
   ],
   "source": [
    "#Q23: What is the relationship between the month and the total number of reviews for the product 'Fire Kids Edition Tablet, 7 Display, Wi-Fi, 16 GB, Pink Kid-Proof Case' for each month?\n",
    "import matplotlib, pandas\n",
    "def plot_dict(d, xlabel=\"Please Label Me!!!\", ylabel=\"Please Label Me!!!\"):\n",
    "    ax = pandas.Series(d).sort_index().plot.bar(color=\"black\", fontsize=16)\n",
    "    ax.set_ylabel(xlabel, fontsize=16)\n",
    "    ax.set_xlabel(ylabel, fontsize=16)\n",
    "    \n",
    "for prod in bucketize(\"asin\"):\n",
    "    if map_names[prod] == \"Fire Kids Edition Tablet, 7 Display, Wi-Fi, 16 GB, Pink Kid-Proof Case\":\n",
    "        prod_reviews = bucketize(\"asin\")[prod]\n",
    "mon_dict = {}\n",
    "for review in prod_reviews:\n",
    "    month = review.date[5:7]\n",
    "    for i in range(13):\n",
    "        if int(month) == i:\n",
    "            if not month in mon_dict:\n",
    "                mon_dict[month] = 0\n",
    "            mon_dict[month] += 1\n",
    "\n",
    "plot_dict(mon_dict, \"Number of reviews\", \"Month\")"
   ]
  },
  {
   "cell_type": "code",
   "execution_count": 38,
   "metadata": {},
   "outputs": [
    {
     "data": {
      "image/png": "[encoded data removed]",
      "text/plain": [
       "<Figure size 432x288 with 1 Axes>"
      ]
     },
     "metadata": {
      "needs_background": "light"
     },
     "output_type": "display_data"
    }
   ],
   "source": [
    "#Q24: What is the relationship between the month and the total number of reviews for the product 'Fire Tablet, 7 Display, Wi-Fi, 8 GB - Includes Special Offers, Magenta' for each month?      \n",
    "for prod in bucketize(\"asin\"):\n",
    "    if map_names[prod] == \"Fire Tablet, 7 Display, Wi-Fi, 8 GB - Includes Special Offers, Magenta\":\n",
    "        prod_reviews_2 = bucketize(\"asin\")[prod]\n",
    "mon_dict_2 = {}\n",
    "for review in prod_reviews_2:\n",
    "    month = review.date[5:7]\n",
    "    for i in range(13):\n",
    "        if int(month) == i:\n",
    "            if not month in mon_dict_2:\n",
    "                mon_dict_2[month] = 0\n",
    "            mon_dict_2[month] += 1\n",
    "\n",
    "plot_dict(mon_dict_2, \"Number of reviews\", \"Month\")"
   ]
  },
  {
   "cell_type": "code",
   "execution_count": 39,
   "metadata": {},
   "outputs": [],
   "source": [
    "paths = []\n",
    "def fprint(path):\n",
    "    for k in os.listdir(path):\n",
    "        if not k.startswith(\".\"):\n",
    "            new_path = os.path.join(path, k)\n",
    "            if os.path.isdir(new_path):\n",
    "                fprint(new_path)\n",
    "            else: #os.path.isfile(new_path):\n",
    "                paths.append(new_path)\n",
    "    return sorted(paths, reverse = True)"
   ]
  },
  {
   "cell_type": "code",
   "execution_count": 40,
   "metadata": {},
   "outputs": [
    {
     "data": {
      "text/plain": [
       "['broken_file/rating4/very_helpful/very_helpful.json']"
      ]
     },
     "execution_count": 40,
     "metadata": {},
     "output_type": "execute_result"
    }
   ],
   "source": [
    "#Q25: List the paths in the very_helpful directory of rating4 of broken_file.\n",
    "fprint(os.path.join(\"broken_file\", os.path.join(\"rating4\", \"very_helpful\")))"
   ]
  },
  {
   "cell_type": "code",
   "execution_count": 41,
   "metadata": {},
   "outputs": [
    {
     "data": {
      "text/plain": [
       "['broken_file/rating5/others.json', 'broken_file/rating5/helpful/helpful.json']"
      ]
     },
     "execution_count": 41,
     "metadata": {},
     "output_type": "execute_result"
    }
   ],
   "source": [
    "#Q26: List the paths of all the files in the rating5 directory of broken_file.\n",
    "paths = []\n",
    "fprint(os.path.join(\"broken_file\", \"rating5\"))"
   ]
  },
  {
   "cell_type": "code",
   "execution_count": 42,
   "metadata": {},
   "outputs": [
    {
     "data": {
      "text/plain": [
       "['broken_file/rating5/others.json',\n",
       " 'broken_file/rating5/helpful/helpful.json',\n",
       " 'broken_file/rating4/very_helpful/very_helpful.json',\n",
       " 'broken_file/rating4/others/short/short.json',\n",
       " 'broken_file/rating4/others/others/others.json',\n",
       " 'broken_file/rating4/not_helpful.json',\n",
       " 'broken_file/rating3/others/others.json',\n",
       " 'broken_file/rating3/long/long.json',\n",
       " 'broken_file/others.json']"
      ]
     },
     "execution_count": 42,
     "metadata": {},
     "output_type": "execute_result"
    }
   ],
   "source": [
    "#Q27: List the paths of all the files in the broken_file directory.\n",
    "paths = []\n",
    "fprint(\"broken_file\")"
   ]
  },
  {
   "cell_type": "code",
   "execution_count": 43,
   "metadata": {},
   "outputs": [
    {
     "data": {
      "text/plain": [
       "1"
      ]
     },
     "execution_count": 43,
     "metadata": {},
     "output_type": "execute_result"
    }
   ],
   "source": [
    "#Q28: Combine all the files in broken_file directory and find the number of unique products being reviewed in these files.\n",
    "json3 = {}\n",
    "broken_files = fprint(\"broken_file\")\n",
    "\n",
    "def new_read_json(path):\n",
    "    f = open(path, encoding=\"utf-8\")\n",
    "    data = json.load(f)\n",
    "    f.close()\n",
    "    return data\n",
    "\n",
    "for path in broken_files:\n",
    "    pt_dict = new_read_json(path)\n",
    "    for id_num in pt_dict:\n",
    "        info = pt_dict[id_num]\n",
    "        if not id_num in json3:\n",
    "            json3[id_num] = []\n",
    "        json3[id_num] = info\n",
    "        \n",
    "uniq_asin_3 = []\n",
    "for id_num in json3:\n",
    "    info = json3[id_num]\n",
    "    if not info[1] in uniq_asin_3:\n",
    "        uniq_asin_3.append(info[1])\n",
    "len(uniq_asin_3)"
   ]
  },
  {
   "cell_type": "code",
   "execution_count": 44,
   "metadata": {},
   "outputs": [
    {
     "data": {
      "text/plain": [
       "4995"
      ]
     },
     "execution_count": 44,
     "metadata": {},
     "output_type": "execute_result"
    }
   ],
   "source": [
    "#Q29: Combine all the files in the directories data and broken_file, and find the total number of reviews.\n",
    "new_data_pt = []\n",
    "for csvpath in review_csvs:\n",
    "    csvfile = csvpath[5:]\n",
    "    for jsonfile in review_jsons:\n",
    "        if csvfile[6] == jsonfile[6]:\n",
    "            try: \n",
    "                reviews = get_reviews(csvfile, jsonfile)\n",
    "                new_data_pt += reviews\n",
    "            except:\n",
    "                continue \n",
    "                \n",
    "def new_get_reviews(csv_name, json_file):\n",
    "    csv_file = read_csv(csv_name)[1:]\n",
    "    reviews = []\n",
    "    for key in list(json_file.keys()):\n",
    "        i_d = int(key)\n",
    "        for row in csv_file:\n",
    "            if len(row) < 7 or row[3] == \"True\" or row[0] == \"\" or row[1] == \"\":\n",
    "                continue\n",
    "            elif row[0] == key:\n",
    "                review = Review(i_d, json_file[key][0], json_file[key][1], row[1], row[2], int(row[3]), row[4] == \"True\", int(row[5]), row[6])\n",
    "                reviews.append(review)\n",
    "    return reviews\n",
    "reviews3 = new_get_reviews(\"review3.csv\", json3)\n",
    "\n",
    "new_data = new_data_pt + reviews3\n",
    "len(new_data)"
   ]
  },
  {
   "cell_type": "code",
   "execution_count": 45,
   "metadata": {},
   "outputs": [
    {
     "data": {
      "text/plain": [
       "-0.039407079451942564"
      ]
     },
     "execution_count": 45,
     "metadata": {},
     "output_type": "execute_result"
    }
   ],
   "source": [
    "#Q30: What is the percentage of change in the average rating changed for the product 'Fire Tablet, 7 Display, Wi-Fi, 8 GB - Includes Special Offers, Magenta', because of the addition of the new data?\n",
    "def new_bucketize(keyword): \n",
    "    all_reviews = {}\n",
    "    for review in new_data:\n",
    "        attr = getattr(review, keyword)\n",
    "        if not attr in all_reviews:\n",
    "            all_reviews[attr] = []\n",
    "        all_reviews[attr].append(review)\n",
    "    return all_reviews\n",
    "\n",
    "avg_ratings_2 = {}\n",
    "for product in new_bucketize(\"asin\"):\n",
    "    reviews = new_bucketize(\"asin\")[product]\n",
    "    tot_ratings = 0\n",
    "    for review in reviews:\n",
    "        tot_ratings += getattr(review, \"rating\")\n",
    "    if not product in avg_ratings_2:\n",
    "        avg_ratings_2[product] = 0\n",
    "    avg_ratings_2[product] = (tot_ratings/len(reviews))\n",
    "    \n",
    "new_avg_ratings_2 = {}\n",
    "map_names = read_json(\"products.json\")\n",
    "for asin in avg_ratings_2:\n",
    "    for map_asin in map_names:\n",
    "        if asin == map_asin:\n",
    "            prod_name = map_names[map_asin]\n",
    "            new_avg_ratings_2[prod_name] = avg_ratings_2[asin]\n",
    "            \n",
    "(new_avg_ratings_2['Fire Tablet, 7 Display, Wi-Fi, 8 GB - Includes Special Offers, Magenta'] - new_avg_ratings['Fire Tablet, 7 Display, Wi-Fi, 8 GB - Includes Special Offers, Magenta'])/new_avg_ratings['Fire Tablet, 7 Display, Wi-Fi, 8 GB - Includes Special Offers, Magenta']*100"
   ]
  }
 ],
 "metadata": {
  "kernelspec": {
   "display_name": "Python 3",
   "language": "python",
   "name": "python3"
  },
  "language_info": {
   "codemirror_mode": {
    "name": "ipython",
    "version": 3
   },
   "file_extension": ".py",
   "mimetype": "text/x-python",
   "name": "python",
   "nbconvert_exporter": "python",
   "pygments_lexer": "ipython3",
   "version": "3.8.1"
  }
 },
 "nbformat": 4,
 "nbformat_minor": 4
}
