{
 "cells": [
  {
   "cell_type": "code",
   "execution_count": 1,
   "metadata": {},
   "outputs": [],
   "source": [
    "import os, json, csv"
   ]
  },
  {
   "cell_type": "code",
   "execution_count": 2,
   "metadata": {},
   "outputs": [
    {
     "data": {
      "text/plain": [
       "['main.ipynb', 'fruit', '.DS_Store', '.ipynb_checkpoints']"
      ]
     },
     "execution_count": 2,
     "metadata": {},
     "output_type": "execute_result"
    }
   ],
   "source": [
    "# cell 1\n",
    "# \".\" is a shorthand referring to the current directory\n",
    "os.listdir(\".\")"
   ]
  },
  {
   "cell_type": "code",
   "execution_count": 3,
   "metadata": {},
   "outputs": [
    {
     "name": "stdout",
     "output_type": "stream",
     "text": [
      "tried to create fruit, but it already existed\n",
      "did not try to create fruit because it already existed\n"
     ]
    }
   ],
   "source": [
    "# cell 2\n",
    "#option 1\n",
    "try:\n",
    "    os.mkdir(\"fruit\")\n",
    "except FileExistsError:\n",
    "    print(\"tried to create fruit, but it already existed\")\n",
    "\n",
    "# option 2\n",
    "if not os.path.exists(\"fruit\"):\n",
    "    os.mkdir(\"fruit\")\n",
    "else:\n",
    "    print(\"did not try to create fruit because it already existed\")"
   ]
  },
  {
   "cell_type": "code",
   "execution_count": 4,
   "metadata": {},
   "outputs": [
    {
     "data": {
      "text/plain": [
       "'fruit/apple.txt'"
      ]
     },
     "execution_count": 4,
     "metadata": {},
     "output_type": "execute_result"
    }
   ],
   "source": [
    "path = os.path.join(\"fruit\", \"apple.txt\")\n",
    "path"
   ]
  },
  {
   "cell_type": "code",
   "execution_count": 5,
   "metadata": {},
   "outputs": [
    {
     "data": {
      "text/plain": [
       "'apple.txt'"
      ]
     },
     "execution_count": 5,
     "metadata": {},
     "output_type": "execute_result"
    }
   ],
   "source": [
    "basename = os.path.basename(path)\n",
    "basename"
   ]
  },
  {
   "cell_type": "code",
   "execution_count": 6,
   "metadata": {},
   "outputs": [
    {
     "data": {
      "text/plain": [
       "'fruit'"
      ]
     },
     "execution_count": 6,
     "metadata": {},
     "output_type": "execute_result"
    }
   ],
   "source": [
    "dirname = os.path.dirname(path)\n",
    "dirname"
   ]
  },
  {
   "cell_type": "code",
   "execution_count": 7,
   "metadata": {},
   "outputs": [],
   "source": [
    "f = open(path, \"w\", encoding=\"utf-8\")\n",
    "f.write(\"apples are red\\n\")\n",
    "f.close()"
   ]
  },
  {
   "cell_type": "code",
   "execution_count": 8,
   "metadata": {},
   "outputs": [
    {
     "data": {
      "text/plain": [
       "['summary.json', 'summary2.json', 'banana.txt', 'apple.txt']"
      ]
     },
     "execution_count": 8,
     "metadata": {},
     "output_type": "execute_result"
    }
   ],
   "source": [
    "os.listdir(\"fruit\")"
   ]
  },
  {
   "cell_type": "code",
   "execution_count": 9,
   "metadata": {},
   "outputs": [],
   "source": [
    "path2 = os.path.join(\"fruit\", \"banana.txt\")\n",
    "f1 = open(path2, \"w\", encoding=\"utf-8\")\n",
    "f1.write(\"bananas are yellow\\n\")\n",
    "f1.close()"
   ]
  },
  {
   "cell_type": "code",
   "execution_count": 10,
   "metadata": {},
   "outputs": [],
   "source": [
    "def fruit_message(name):\n",
    "    try:\n",
    "        f = open(os.path.join(\"fruit\", name+\".txt\"), encoding=\"utf-8\")\n",
    "        msg = f.read()\n",
    "        f.close()\n",
    "        return msg\n",
    "    except FileNotFoundError:\n",
    "        print(\"bad fruit\")"
   ]
  },
  {
   "cell_type": "code",
   "execution_count": 11,
   "metadata": {},
   "outputs": [
    {
     "data": {
      "text/plain": [
       "'apples are red\\n'"
      ]
     },
     "execution_count": 11,
     "metadata": {},
     "output_type": "execute_result"
    }
   ],
   "source": [
    "fruit_message(\"apple\")"
   ]
  },
  {
   "cell_type": "code",
   "execution_count": 12,
   "metadata": {},
   "outputs": [
    {
     "name": "stdout",
     "output_type": "stream",
     "text": [
      "bad fruit\n"
     ]
    }
   ],
   "source": [
    "fruit_message(\"orange\")"
   ]
  },
  {
   "cell_type": "code",
   "execution_count": 13,
   "metadata": {},
   "outputs": [
    {
     "name": "stdout",
     "output_type": "stream",
     "text": [
      "Python structs: [{'name': 'apple', 'count': 50, 'tasty': True}, {'name': 'watermelon', 'count': 60, 'tasty': False}, {'name': 'kiwi', 'count': 55, 'tasty': True}]\n",
      "JSON string: [{\"name\": \"apple\", \"count\": 50, \"tasty\": true}, {\"name\": \"watermelon\", \"count\": 60, \"tasty\": false}, {\"name\": \"kiwi\", \"count\": 55, \"tasty\": true}]\n"
     ]
    }
   ],
   "source": [
    "# Python structures\n",
    "fruits = [\n",
    "    {\"name\": \"apple\", \"count\": 50, \"tasty\": True},\n",
    "    {\"name\": \"watermelon\", \"count\": 60, \"tasty\": False},\n",
    "    {\"name\": \"kiwi\", \"count\": 55, \"tasty\": True},\n",
    "]\n",
    "print(\"Python structs:\", fruits)\n",
    "\n",
    "# JSON string\n",
    "json_str = json.dumps(fruits)\n",
    "print(\"JSON string:\", json_str)\n",
    "\n",
    "# save to file\n",
    "f = open(os.path.join(\"fruit\", \"summary.json\"), \"w\", encoding=\"utf-8\")\n",
    "f.write(json_str)\n",
    "f.close()"
   ]
  },
  {
   "cell_type": "code",
   "execution_count": 14,
   "metadata": {},
   "outputs": [
    {
     "name": "stdout",
     "output_type": "stream",
     "text": [
      "Python structs: [{'name': 'passionfruit', 'count': 100, 'tasty': True}, {'name': 'lychee', 'count': 60, 'tasty': True}, {'name': 'mango', 'count': 200, 'tasty': True}]\n"
     ]
    }
   ],
   "source": [
    "# Python structures\n",
    "fruits = [\n",
    "    {\"name\": \"passionfruit\", \"count\": 100, \"tasty\": True},\n",
    "    {\"name\": \"lychee\", \"count\": 60, \"tasty\": True},\n",
    "    {\"name\": \"mango\", \"count\": 200, \"tasty\": True},\n",
    "]\n",
    "print(\"Python structs:\", fruits)\n",
    "\n",
    "# save to file\n",
    "## json.dump(data, f) is a shortcut for json.dumps and f.write\n",
    "f = open(os.path.join(\"fruit\", \"summary2.json\"), \"w\", encoding=\"utf-8\")\n",
    "json.dump(fruits, f)\n",
    "f.close()"
   ]
  },
  {
   "cell_type": "code",
   "execution_count": 15,
   "metadata": {},
   "outputs": [
    {
     "name": "stdout",
     "output_type": "stream",
     "text": [
      "[{'name': 'apple', 'count': 50, 'tasty': True}, {'name': 'watermelon', 'count': 60, 'tasty': False}, {'name': 'kiwi', 'count': 55, 'tasty': True}]\n"
     ]
    }
   ],
   "source": [
    "# read data back\n",
    "## data = json.load(f) is a shortcut for f.read and json.loads\n",
    "f = open(os.path.join(\"fruit\", \"summary.json\"), encoding=\"utf-8\")\n",
    "data = json.load(f)\n",
    "f.close()\n",
    "\n",
    "print(data)"
   ]
  },
  {
   "cell_type": "code",
   "execution_count": 16,
   "metadata": {},
   "outputs": [],
   "source": [
    "# csv\n",
    "f = open(os.path.join(\"fruit\", \"good.csv\"), \"w\", encoding=\"utf-8\")\n",
    "f.write(\"fruit,count\\n\")\n",
    "f.write(\"apple,10\\n\")\n",
    "f.write(\"banana,3\\n\")\n",
    "f.write(\"orange,0\\n\")\n",
    "f.close()\n",
    "\n",
    "f = open(os.path.join(\"fruit\", \"rotten.csv\"), \"w\", encoding=\"utf-8\")\n",
    "f.write(\"fruit,count\\n\")\n",
    "f.write(\"apple,10\\n\")\n",
    "f.write(\"banana,3\\n\")\n",
    "f.write(\"orange\\n\")\n",
    "f.close()"
   ]
  },
  {
   "cell_type": "code",
   "execution_count": 17,
   "metadata": {},
   "outputs": [
    {
     "name": "stdout",
     "output_type": "stream",
     "text": [
      "{'fruit': 'apple', 'count': '10'}\n",
      "{'fruit': 'banana', 'count': '3'}\n",
      "{'fruit': 'orange', 'count': '0'}\n"
     ]
    }
   ],
   "source": [
    "## A DictReader produces a dictionary for each row of a CSV file, automatically using the \n",
    "## header of the CSV to determine the keys for the dicts.\n",
    "f = open(os.path.join(\"fruit\", \"good.csv\"), encoding=\"utf-8\")\n",
    "reader = csv.DictReader(f)\n",
    "for row in reader:\n",
    "    print(row)\n",
    "f.close()"
   ]
  },
  {
   "cell_type": "code",
   "execution_count": 19,
   "metadata": {},
   "outputs": [
    {
     "name": "stdout",
     "output_type": "stream",
     "text": [
      "apple 10\n",
      "banana 3\n",
      "orange None\n"
     ]
    }
   ],
   "source": [
    "# looking for specific cells and printing them\n",
    "f = open(os.path.join(\"fruit\", \"rotten.csv\"), encoding=\"utf-8\")\n",
    "reader = csv.DictReader(f)\n",
    "for row in reader:\n",
    "    print(row[\"fruit\"], row[\"count\"])\n",
    "f.close()"
   ]
  },
  {
   "cell_type": "code",
   "execution_count": 20,
   "metadata": {},
   "outputs": [],
   "source": [
    "# lab9-b"
   ]
  },
  {
   "cell_type": "code",
   "execution_count": 21,
   "metadata": {},
   "outputs": [],
   "source": [
    "%matplotlib inline"
   ]
  },
  {
   "cell_type": "code",
   "execution_count": 22,
   "metadata": {},
   "outputs": [],
   "source": [
    "import pandas as pd\n",
    "\n",
    "# Scatter\n",
    "def scatter(x, y, xlabel=\"please label me!\", ylabel=\"please label me!\"):\n",
    "    df = pd.DataFrame({\"x\":x, \"y\":y})\n",
    "    ax = df.plot.scatter(x=\"x\", y=\"y\", color=\"black\", fontsize=16, xlim=0, ylim=0)\n",
    "    ax.set_xlabel(xlabel, fontsize=16)\n",
    "    ax.set_ylabel(ylabel, fontsize=16)\n",
    "    ax.get_xaxis().get_major_formatter().set_scientific(False)\n",
    "    ax.get_yaxis().get_major_formatter().set_scientific(False)"
   ]
  },
  {
   "cell_type": "code",
   "execution_count": 24,
   "metadata": {},
   "outputs": [
    {
     "data": {
      "image/png": "[encoded data removed]",
      "text/plain": [
       "<Figure size 432x288 with 1 Axes>"
      ]
     },
     "metadata": {
      "needs_background": "light"
     },
     "output_type": "display_data"
    }
   ],
   "source": [
    "scatter([0.0, 0.0, 0.0, 1.0, 1.0, 1.0, 2.0, 2.0, 2.0, 3.0, 3.0, 3.0, 8.0, 8.0, 8.0],\n",
    "        [4.1, 4.3, 4.2, 5.8, 6.0, 6.4, 8.4, 8.0, 7.9, 8.3, 8.1, 8.2, 1.9, 2.1, 1.0], \n",
    "        xlabel=\"ice cream scoops eaten\", ylabel=\"happiness (out of 10)\")"
   ]
  },
  {
   "cell_type": "code",
   "execution_count": 25,
   "metadata": {},
   "outputs": [
    {
     "data": {
      "image/png": "[encoded data removed]",
      "text/plain": [
       "<Figure size 432x288 with 1 Axes>"
      ]
     },
     "metadata": {
      "needs_background": "light"
     },
     "output_type": "display_data"
    }
   ],
   "source": [
    "scatter([1.0, 2.0, 2.0, 3.0, 3.0], [3, 2, 4, 1, 5], \"test-x\", \"test-y\")"
   ]
  },
  {
   "cell_type": "code",
   "execution_count": 35,
   "metadata": {},
   "outputs": [],
   "source": [
    "# Recursion\n",
    "## a function is recursive when it calls itself, directly or indirectly\n",
    "\n",
    "# Problem 1: Factorial\n",
    "def fact(n):\n",
    "    if n == 0 or n == 1:\n",
    "        return 1\n",
    "    return n * fact(n-1)"
   ]
  },
  {
   "cell_type": "code",
   "execution_count": 52,
   "metadata": {},
   "outputs": [
    {
     "data": {
      "text/plain": [
       "'ecila'"
      ]
     },
     "execution_count": 52,
     "metadata": {},
     "output_type": "execute_result"
    }
   ],
   "source": [
    "# Problem 2: String Reversal\n",
    "## add tuple\n",
    "def reverse(s):\n",
    "    if len(s) <= 1:\n",
    "        return s\n",
    "    elif type(s) == str:\n",
    "        return reverse(s[1:]) + s[0]\n",
    "    elif type(s) == list:\n",
    "        return reverse(s[1:]) + [s[0]]\n",
    "reverse(\"alice\")"
   ]
  },
  {
   "cell_type": "code",
   "execution_count": 73,
   "metadata": {},
   "outputs": [
    {
     "name": "stdout",
     "output_type": "stream",
     "text": [
      "Dictionary:\n",
      "A => 1\n",
      "B => Dictionary:\n",
      "  C => 2\n",
      "  D => 3\n",
      "  E => Dictionary:\n",
      "    F => 4\n",
      "G => 5\n"
     ]
    }
   ],
   "source": [
    "# Problem 4: Dictionary Printer\n",
    "def dprint(d, indent=0):\n",
    "    print(\"Dictionary:\")\n",
    "    for k in d:\n",
    "        v = d[k]\n",
    "        print(\" \" * indent, end=\"\")\n",
    "        print(k + \" => \", end=\"\")\n",
    "        if type(v) == dict:\n",
    "            dprint(v, indent + 2)\n",
    "        else:\n",
    "            print(v)\n",
    "dprint({\"A\": 1, \"B\": {\"C\": 2, \"D\": 3, \"E\": {\"F\": 4}}, \"G\": 5}, 0)"
   ]
  },
  {
   "cell_type": "code",
   "execution_count": 64,
   "metadata": {},
   "outputs": [
    {
     "data": {
      "text/plain": [
       "[501, 101, 201, 301, 401]"
      ]
     },
     "execution_count": 64,
     "metadata": {},
     "output_type": "execute_result"
    }
   ],
   "source": [
    "# List Comprehensions\n",
    "nums = [500, 100, 200, 300, 400]\n",
    "new_nums = [x+1 for x in nums]\n",
    "new_nums"
   ]
  },
  {
   "cell_type": "code",
   "execution_count": 65,
   "metadata": {},
   "outputs": [
    {
     "data": {
      "text/plain": [
       "[1000, 200, 400, 600, 800]"
      ]
     },
     "execution_count": 65,
     "metadata": {},
     "output_type": "execute_result"
    }
   ],
   "source": [
    "nums = [500, 100, 200, 300, 400]\n",
    "doubles = [orig_num*2 for orig_num in nums]\n",
    "doubles"
   ]
  },
  {
   "cell_type": "code",
   "execution_count": 67,
   "metadata": {},
   "outputs": [
    {
     "data": {
      "text/plain": [
       "['APPLE', 'BANANA', 'ORANGE']"
      ]
     },
     "execution_count": 67,
     "metadata": {},
     "output_type": "execute_result"
    }
   ],
   "source": [
    "words = [\"Apple\", \"banana\", \"ORANGE\"]\n",
    "upper_words = [word.upper() for word in words]\n",
    "upper_words"
   ]
  },
  {
   "cell_type": "code",
   "execution_count": 69,
   "metadata": {},
   "outputs": [
    {
     "name": "stdout",
     "output_type": "stream",
     "text": [
      "10\n",
      "0\n"
     ]
    }
   ],
   "source": [
    "# Default Dictionaries\n",
    "from collections import defaultdict\n",
    "\n",
    "fruit_counts = defaultdict(int)\n",
    "fruit_counts[\"apple\"] = 10    # line 1: works\n",
    "print(fruit_counts[\"apple\"])  # line 2: works\n",
    "print(fruit_counts[\"banana\"]) # line 3: works"
   ]
  },
  {
   "cell_type": "code",
   "execution_count": 70,
   "metadata": {},
   "outputs": [
    {
     "data": {
      "text/plain": [
       "{'alice': [5, 7], 'bob': [6, 8]}"
      ]
     },
     "execution_count": 70,
     "metadata": {},
     "output_type": "execute_result"
    }
   ],
   "source": [
    "rows = [\n",
    "     (\"alice\", 5),\n",
    "     (\"bob\", 6),\n",
    "     (\"alice\", 7),\n",
    "     (\"bob\", 8),\n",
    "]\n",
    "\n",
    "scores = dict()\n",
    "for row in rows:\n",
    "    if not row[0] in scores:\n",
    "        scores[row[0]] = [row[1]]\n",
    "    else:\n",
    "        scores[row[0]].append(row[1])\n",
    "\n",
    "scores"
   ]
  },
  {
   "cell_type": "code",
   "execution_count": 71,
   "metadata": {},
   "outputs": [
    {
     "data": {
      "text/plain": [
       "{'alice': [5, 7], 'bob': [6, 8]}"
      ]
     },
     "execution_count": 71,
     "metadata": {},
     "output_type": "execute_result"
    }
   ],
   "source": [
    "from collections import defaultdict\n",
    "\n",
    "rows = [\n",
    "     (\"alice\", 5),\n",
    "     (\"bob\", 6),\n",
    "     (\"alice\", 7),\n",
    "     (\"bob\", 8),\n",
    "]\n",
    "\n",
    "scores = defaultdict(list)\n",
    "for row in rows:\n",
    "    scores[row[0]].append(row[1]) # creates a new list if necessary\n",
    "\n",
    "dict(scores)"
   ]
  },
  {
   "cell_type": "code",
   "execution_count": 72,
   "metadata": {},
   "outputs": [
    {
     "data": {
      "text/plain": [
       "{'b': 1, 'a': 3, 'n': 2}"
      ]
     },
     "execution_count": 72,
     "metadata": {},
     "output_type": "execute_result"
    }
   ],
   "source": [
    "# count letter frequencies\n",
    "from collections import defaultdict\n",
    "\n",
    "letter_counts = defaultdict(int)\n",
    "\n",
    "for letter in \"banana\":\n",
    "    letter_counts[letter] += 1\n",
    "\n",
    "dict(letter_counts)"
   ]
  },
  {
   "cell_type": "code",
   "execution_count": null,
   "metadata": {},
   "outputs": [],
   "source": []
  }
 ],
 "metadata": {
  "kernelspec": {
   "display_name": "Python 3",
   "language": "python",
   "name": "python3"
  },
  "language_info": {
   "codemirror_mode": {
    "name": "ipython",
    "version": 3
   },
   "file_extension": ".py",
   "mimetype": "text/x-python",
   "name": "python",
   "nbconvert_exporter": "python",
   "pygments_lexer": "ipython3",
   "version": "3.8.1"
  }
 },
 "nbformat": 4,
 "nbformat_minor": 4
}
