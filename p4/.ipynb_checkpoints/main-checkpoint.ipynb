{
 "cells": [
  {
   "cell_type": "code",
   "execution_count": 1,
   "metadata": {},
   "outputs": [],
   "source": [
    "# project: p4\n",
    "# submitter: xxie65\n",
    "# partner: none"
   ]
  },
  {
   "cell_type": "code",
   "execution_count": 2,
   "metadata": {},
   "outputs": [],
   "source": [
    "import project"
   ]
  },
  {
   "cell_type": "code",
   "execution_count": 3,
   "metadata": {},
   "outputs": [],
   "source": [
    "def get_stat_total(pkmn):\n",
    "    return (project.get_attack(pkmn)+ \n",
    "            project.get_defense(pkmn)+\n",
    "            project.get_hp(pkmn)+\n",
    "            project.get_sp_atk(pkmn)+\n",
    "            project.get_sp_def(pkmn)+\n",
    "            project.get_speed(pkmn))\n",
    "\n",
    "def simple_battle(pkmn1, pkmn2):\n",
    "    if (get_stat_total(pkmn1) - get_stat_total(pkmn2)) >= 20:\n",
    "        return pkmn1\n",
    "    elif abs(get_stat_total(pkmn1) - get_stat_total(pkmn2)) < 20:\n",
    "        return \"Draw\"\n",
    "    else: \n",
    "        return pkmn2"
   ]
  },
  {
   "cell_type": "code",
   "execution_count": 4,
   "metadata": {},
   "outputs": [
    {
     "data": {
      "text/plain": [
       "'Gligar'"
      ]
     },
     "execution_count": 4,
     "metadata": {},
     "output_type": "execute_result"
    }
   ],
   "source": [
    "#q1\n",
    "simple_battle('Gligar', 'Pidgeotto')"
   ]
  },
  {
   "cell_type": "code",
   "execution_count": 5,
   "metadata": {},
   "outputs": [
    {
     "data": {
      "text/plain": [
       "'Pidgeot'"
      ]
     },
     "execution_count": 5,
     "metadata": {},
     "output_type": "execute_result"
    }
   ],
   "source": [
    "#q2\n",
    "simple_battle('Gligar', 'Pidgeot')"
   ]
  },
  {
   "cell_type": "code",
   "execution_count": 6,
   "metadata": {},
   "outputs": [
    {
     "data": {
      "text/plain": [
       "'Draw'"
      ]
     },
     "execution_count": 6,
     "metadata": {},
     "output_type": "execute_result"
    }
   ],
   "source": [
    "#q3\n",
    "simple_battle('Chikorita', 'Turtwig')"
   ]
  },
  {
   "cell_type": "code",
   "execution_count": 7,
   "metadata": {},
   "outputs": [
    {
     "data": {
      "text/plain": [
       "'Draw'"
      ]
     },
     "execution_count": 7,
     "metadata": {},
     "output_type": "execute_result"
    }
   ],
   "source": [
    "#q4\n",
    "simple_battle('Kingler', 'Staraptor')"
   ]
  },
  {
   "cell_type": "code",
   "execution_count": 8,
   "metadata": {},
   "outputs": [
    {
     "data": {
      "text/plain": [
       "'Draw'"
      ]
     },
     "execution_count": 8,
     "metadata": {},
     "output_type": "execute_result"
    }
   ],
   "source": [
    "#q5\n",
    "simple_battle('Heracross', 'Krookodile')"
   ]
  },
  {
   "cell_type": "code",
   "execution_count": 9,
   "metadata": {},
   "outputs": [],
   "source": [
    "def most_damage(attacker, defender):\n",
    "    if 10 * project.get_attack(attacker)/project.get_defense(defender) >= 10* project.get_sp_atk(attacker)/project.get_sp_def(defender):\n",
    "        return 10 * project.get_attack(attacker)/project.get_defense(defender)\n",
    "    else:\n",
    "        return 10* project.get_sp_atk(attacker)/project.get_sp_def(defender)\n",
    "    "
   ]
  },
  {
   "cell_type": "code",
   "execution_count": 10,
   "metadata": {},
   "outputs": [
    {
     "data": {
      "text/plain": [
       "12.096774193548388"
      ]
     },
     "execution_count": 10,
     "metadata": {},
     "output_type": "execute_result"
    }
   ],
   "source": [
    "most_damage('Scraggy', 'Tranquill')"
   ]
  },
  {
   "cell_type": "code",
   "execution_count": 11,
   "metadata": {},
   "outputs": [
    {
     "data": {
      "text/plain": [
       "3.3333333333333335"
      ]
     },
     "execution_count": 11,
     "metadata": {},
     "output_type": "execute_result"
    }
   ],
   "source": [
    "#q6\n",
    "most_damage(\"Caterpie\", \"Incineroar\")"
   ]
  },
  {
   "cell_type": "code",
   "execution_count": 12,
   "metadata": {},
   "outputs": [
    {
     "data": {
      "text/plain": [
       "31.75"
      ]
     },
     "execution_count": 12,
     "metadata": {},
     "output_type": "execute_result"
    }
   ],
   "source": [
    "#q7\n",
    "most_damage(\"Naganadel\", \"Rockruff\")"
   ]
  },
  {
   "cell_type": "code",
   "execution_count": 13,
   "metadata": {},
   "outputs": [
    {
     "data": {
      "text/plain": [
       "9.166666666666666"
      ]
     },
     "execution_count": 13,
     "metadata": {},
     "output_type": "execute_result"
    }
   ],
   "source": [
    "#q8\n",
    "most_damage(\"Taillow\", \"Swellow\")"
   ]
  },
  {
   "cell_type": "code",
   "execution_count": 14,
   "metadata": {},
   "outputs": [
    {
     "data": {
      "text/plain": [
       "28.333333333333332"
      ]
     },
     "execution_count": 14,
     "metadata": {},
     "output_type": "execute_result"
    }
   ],
   "source": [
    "#q9\n",
    "most_damage(\"Swellow\", \"Taillow\")"
   ]
  },
  {
   "cell_type": "code",
   "execution_count": 15,
   "metadata": {},
   "outputs": [],
   "source": [
    "import math\n",
    "def num_hits(attacker, defender):\n",
    "    return math.ceil(project.get_hp(defender)/most_damage(attacker, defender))"
   ]
  },
  {
   "cell_type": "markdown",
   "metadata": {},
   "source": []
  },
  {
   "cell_type": "code",
   "execution_count": 16,
   "metadata": {},
   "outputs": [
    {
     "data": {
      "text/plain": [
       "3"
      ]
     },
     "execution_count": 16,
     "metadata": {},
     "output_type": "execute_result"
    }
   ],
   "source": [
    "#q10\n",
    "num_hits(\"Gible\", \"Goomy\")"
   ]
  },
  {
   "cell_type": "code",
   "execution_count": 17,
   "metadata": {},
   "outputs": [
    {
     "data": {
      "text/plain": [
       "14"
      ]
     },
     "execution_count": 17,
     "metadata": {},
     "output_type": "execute_result"
    }
   ],
   "source": [
    "#q11\n",
    "num_hits(\"Aipom\", \"Donphan\")"
   ]
  },
  {
   "cell_type": "code",
   "execution_count": 18,
   "metadata": {},
   "outputs": [
    {
     "data": {
      "text/plain": [
       "3"
      ]
     },
     "execution_count": 18,
     "metadata": {},
     "output_type": "execute_result"
    }
   ],
   "source": [
    "#q12\n",
    "num_hits(\"Donphan\", \"Aipom\")"
   ]
  },
  {
   "cell_type": "code",
   "execution_count": 19,
   "metadata": {},
   "outputs": [],
   "source": [
    "def battle(pkmn1, pkmn2):\n",
    "    if num_hits(pkmn1, pkmn2) > num_hits(pkmn2, pkmn1):\n",
    "        return pkmn2\n",
    "    elif num_hits(pkmn2, pkmn1) > num_hits(pkmn1, pkmn2):\n",
    "        return pkmn1\n",
    "    elif num_hits(pkmn1, pkmn2) == num_hits(pkmn2, pkmn1):\n",
    "        if project.get_speed(pkmn1) > project.get_speed(pkmn2):\n",
    "            return pkmn1\n",
    "        elif project.get_speed(pkmn1) < project.get_speed(pkmn2):\n",
    "            return pkmn2\n",
    "        elif project.get_speed(pkmn1) == project.get_speed(pkmn2):\n",
    "            return \"Draw\""
   ]
  },
  {
   "cell_type": "code",
   "execution_count": 20,
   "metadata": {},
   "outputs": [
    {
     "data": {
      "text/plain": [
       "'Torterra'"
      ]
     },
     "execution_count": 20,
     "metadata": {},
     "output_type": "execute_result"
    }
   ],
   "source": [
    "#q13\n",
    "battle('Infernape', 'Torterra')"
   ]
  },
  {
   "cell_type": "code",
   "execution_count": 21,
   "metadata": {},
   "outputs": [
    {
     "data": {
      "text/plain": [
       "'Sceptile'"
      ]
     },
     "execution_count": 21,
     "metadata": {},
     "output_type": "execute_result"
    }
   ],
   "source": [
    "#q14\n",
    "battle('Torkoal', 'Sceptile')"
   ]
  },
  {
   "cell_type": "code",
   "execution_count": 22,
   "metadata": {},
   "outputs": [
    {
     "data": {
      "text/plain": [
       "'Tepig'"
      ]
     },
     "execution_count": 22,
     "metadata": {},
     "output_type": "execute_result"
    }
   ],
   "source": [
    "#q15\n",
    "battle('Tepig', 'Oshawott')"
   ]
  },
  {
   "cell_type": "code",
   "execution_count": 23,
   "metadata": {},
   "outputs": [
    {
     "data": {
      "text/plain": [
       "'Bulbasaur'"
      ]
     },
     "execution_count": 23,
     "metadata": {},
     "output_type": "execute_result"
    }
   ],
   "source": [
    "#q16\n",
    "battle('Bulbasaur', 'Squirtle')"
   ]
  },
  {
   "cell_type": "code",
   "execution_count": 24,
   "metadata": {},
   "outputs": [
    {
     "data": {
      "text/plain": [
       "'Greninja'"
      ]
     },
     "execution_count": 24,
     "metadata": {},
     "output_type": "execute_result"
    }
   ],
   "source": [
    "#q17\n",
    "battle('Greninja', 'Hawlucha')"
   ]
  },
  {
   "cell_type": "code",
   "execution_count": 25,
   "metadata": {},
   "outputs": [
    {
     "data": {
      "text/plain": [
       "'Snorlax'"
      ]
     },
     "execution_count": 25,
     "metadata": {},
     "output_type": "execute_result"
    }
   ],
   "source": [
    "#q18\n",
    "battle('Snorlax', 'Charizard')"
   ]
  },
  {
   "cell_type": "code",
   "execution_count": 26,
   "metadata": {},
   "outputs": [],
   "source": [
    "def final_battle(attacker, defender):\n",
    "    if project.get_region(attacker) == project.get_region(defender):\n",
    "        if num_hits(attacker, defender) > num_hits(defender, attacker):\n",
    "            return defender\n",
    "        elif num_hits(defender, attacker) > num_hits(attacker, defender):\n",
    "            return attacker\n",
    "        elif num_hits(attacker, defender) == num_hits(defender, attacker):\n",
    "            if project.get_speed(attacker) > project.get_speed(defender):\n",
    "                return attacker\n",
    "            elif project.get_speed(attacker) < project.get_speed(defender):\n",
    "                return defender\n",
    "            elif project.get_speed(attacker) == project.get_speed(defender):\n",
    "                return \"Draw\"\n",
    "    elif project.get_type1(attacker)== \"Flying\" or project.get_type2(attacker) == \"Flying\":\n",
    "         if num_hits(attacker, defender) > num_hits(defender, attacker):\n",
    "            return defender\n",
    "         elif num_hits(defender, attacker) > num_hits(attacker, defender):\n",
    "            return attacker\n",
    "         elif num_hits(attacker, defender) == num_hits(defender, attacker):\n",
    "            if project.get_speed(attacker) > project.get_speed(defender):\n",
    "                return attacker\n",
    "            elif project.get_speed(attacker) < project.get_speed(defender):\n",
    "                return defender\n",
    "            elif project.get_speed(attacker) == project.get_speed(defender):\n",
    "                return \"Draw\"\n",
    "    else:\n",
    "        return 'Cannot battle'"
   ]
  },
  {
   "cell_type": "code",
   "execution_count": 27,
   "metadata": {},
   "outputs": [
    {
     "data": {
      "text/plain": [
       "'Cannot battle'"
      ]
     },
     "execution_count": 27,
     "metadata": {},
     "output_type": "execute_result"
    }
   ],
   "source": [
    "#q19\n",
    "final_battle(\"Pikachu\", \"Snivy\")"
   ]
  },
  {
   "cell_type": "code",
   "execution_count": 28,
   "metadata": {},
   "outputs": [
    {
     "data": {
      "text/plain": [
       "'Dragonite'"
      ]
     },
     "execution_count": 28,
     "metadata": {},
     "output_type": "execute_result"
    }
   ],
   "source": [
    "#q20\n",
    "final_battle('Dragonite', 'Goodra')"
   ]
  },
  {
   "cell_type": "code",
   "execution_count": null,
   "metadata": {},
   "outputs": [],
   "source": []
  }
 ],
 "metadata": {
  "kernelspec": {
   "display_name": "Python 3",
   "language": "python",
   "name": "python3"
  },
  "language_info": {
   "codemirror_mode": {
    "name": "ipython",
    "version": 3
   },
   "file_extension": ".py",
   "mimetype": "text/x-python",
   "name": "python",
   "nbconvert_exporter": "python",
   "pygments_lexer": "ipython3",
   "version": "3.8.1"
  }
 },
 "nbformat": 4,
 "nbformat_minor": 4
}
